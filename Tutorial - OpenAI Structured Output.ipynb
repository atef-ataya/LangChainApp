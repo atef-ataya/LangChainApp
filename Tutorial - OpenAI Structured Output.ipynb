{
 "cells": [
  {
   "cell_type": "markdown",
   "id": "1878b778-efee-4db1-92e4-636b24cd8fdb",
   "metadata": {},
   "source": [
    "# OpenI Structured Output"
   ]
  },
  {
   "cell_type": "markdown",
   "id": "c61a01b1-11d4-4e60-94ac-3e556359817a",
   "metadata": {},
   "source": [
    "### Installing required libraries"
   ]
  },
  {
   "cell_type": "code",
   "execution_count": 8,
   "id": "49637e1d-fae1-4151-aeea-f11ff910f33b",
   "metadata": {},
   "outputs": [],
   "source": [
    "!pip install -q openai"
   ]
  },
  {
   "cell_type": "markdown",
   "id": "f879f34c-4e00-40a7-9bb4-89a4d7bc6407",
   "metadata": {},
   "source": [
    "### Update existing installation"
   ]
  },
  {
   "cell_type": "code",
   "execution_count": 10,
   "id": "e42e4be2-ee9c-427f-ba69-6b343a9ffa16",
   "metadata": {},
   "outputs": [
    {
     "name": "stdout",
     "output_type": "stream",
     "text": [
      "Requirement already satisfied: openai in /Users/ds/Applications/Anaconda/anaconda3/lib/python3.12/site-packages (1.42.0)\n",
      "Requirement already satisfied: anyio<5,>=3.5.0 in /Users/ds/Applications/Anaconda/anaconda3/lib/python3.12/site-packages (from openai) (4.2.0)\n",
      "Requirement already satisfied: distro<2,>=1.7.0 in /Users/ds/Applications/Anaconda/anaconda3/lib/python3.12/site-packages (from openai) (1.9.0)\n",
      "Requirement already satisfied: httpx<1,>=0.23.0 in /Users/ds/Applications/Anaconda/anaconda3/lib/python3.12/site-packages (from openai) (0.27.0)\n",
      "Requirement already satisfied: jiter<1,>=0.4.0 in /Users/ds/Applications/Anaconda/anaconda3/lib/python3.12/site-packages (from openai) (0.5.0)\n",
      "Requirement already satisfied: pydantic<3,>=1.9.0 in /Users/ds/Applications/Anaconda/anaconda3/lib/python3.12/site-packages (from openai) (2.5.3)\n",
      "Requirement already satisfied: sniffio in /Users/ds/Applications/Anaconda/anaconda3/lib/python3.12/site-packages (from openai) (1.3.0)\n",
      "Requirement already satisfied: tqdm>4 in /Users/ds/Applications/Anaconda/anaconda3/lib/python3.12/site-packages (from openai) (4.66.4)\n",
      "Requirement already satisfied: typing-extensions<5,>=4.11 in /Users/ds/Applications/Anaconda/anaconda3/lib/python3.12/site-packages (from openai) (4.11.0)\n",
      "Requirement already satisfied: idna>=2.8 in /Users/ds/Applications/Anaconda/anaconda3/lib/python3.12/site-packages (from anyio<5,>=3.5.0->openai) (3.7)\n",
      "Requirement already satisfied: certifi in /Users/ds/Applications/Anaconda/anaconda3/lib/python3.12/site-packages (from httpx<1,>=0.23.0->openai) (2024.7.4)\n",
      "Requirement already satisfied: httpcore==1.* in /Users/ds/Applications/Anaconda/anaconda3/lib/python3.12/site-packages (from httpx<1,>=0.23.0->openai) (1.0.5)\n",
      "Requirement already satisfied: h11<0.15,>=0.13 in /Users/ds/Applications/Anaconda/anaconda3/lib/python3.12/site-packages (from httpcore==1.*->httpx<1,>=0.23.0->openai) (0.14.0)\n",
      "Requirement already satisfied: annotated-types>=0.4.0 in /Users/ds/Applications/Anaconda/anaconda3/lib/python3.12/site-packages (from pydantic<3,>=1.9.0->openai) (0.6.0)\n",
      "Requirement already satisfied: pydantic-core==2.14.6 in /Users/ds/Applications/Anaconda/anaconda3/lib/python3.12/site-packages (from pydantic<3,>=1.9.0->openai) (2.14.6)\n"
     ]
    }
   ],
   "source": [
    "!pip install openai -U"
   ]
  },
  {
   "cell_type": "markdown",
   "id": "5821df7a-1d61-4ace-b8e3-1b20c1afe39e",
   "metadata": {},
   "source": [
    "### Check OpenAI Version"
   ]
  },
  {
   "cell_type": "code",
   "execution_count": 12,
   "id": "4aadcede-d315-43fa-b5ee-dc985236461d",
   "metadata": {},
   "outputs": [
    {
     "name": "stdout",
     "output_type": "stream",
     "text": [
      "openai 1.42.0\n"
     ]
    }
   ],
   "source": [
    "! openai --version"
   ]
  },
  {
   "cell_type": "markdown",
   "id": "27510ded-8158-406c-ab5b-76ef869c705e",
   "metadata": {},
   "source": [
    "### Load Environment Variables"
   ]
  },
  {
   "cell_type": "code",
   "execution_count": 14,
   "id": "e4e5766f-eb50-4a53-84b6-1bb7322f83df",
   "metadata": {},
   "outputs": [
    {
     "name": "stdout",
     "output_type": "stream",
     "text": [
      "API Key Loaded True\n"
     ]
    }
   ],
   "source": [
    "import os\n",
    "from dotenv import load_dotenv, find_dotenv\n",
    "load_dotenv(find_dotenv(), override=True)\n",
    "\n",
    "os.environ.get('OPENAI_API_KEY')\n",
    "\n",
    "print(\"API Key Loaded\", os.environ.get('OPENAI_API_KEY') is not None)"
   ]
  },
  {
   "cell_type": "markdown",
   "id": "aad71fc4-4149-481d-81c5-52e2fbe69744",
   "metadata": {},
   "source": [
    "### Recipe Instructions Application"
   ]
  },
  {
   "cell_type": "code",
   "execution_count": 20,
   "id": "0db25453-59a6-4fa4-b3f9-b3960e087853",
   "metadata": {},
   "outputs": [
    {
     "name": "stdout",
     "output_type": "stream",
     "text": [
      "Recipe: Simple Chocolate Cake\n",
      "\n",
      "Ingredients:\n",
      "1. All-purpose flour: 1 and 3/4 cups\n",
      "2. Granulated sugar: 2 cups\n",
      "3. Unsweetened cocoa powder: 3/4 cup\n",
      "4. Baking powder: 1 and 1/2 teaspoons\n",
      "5. Baking soda: 1 and 1/2 teaspoons\n",
      "6. Salt: 1 teaspoon\n",
      "7. Eggs: 2 large\n",
      "8. Whole milk: 1 cup\n",
      "9. Vegetable oil: 1/2 cup\n",
      "10. Vanilla extract: 2 teaspoons\n",
      "11. Boiling water: 1 cup\n",
      "\n",
      "Instructions:\n",
      "Step 1: Preheat your oven to 350°F (180°C). Grease and flour two 9-inch round cake pans.\n",
      "Duration: 10 minutes\n",
      "\n",
      "Step 2: In a large bowl, mix together the flour, sugar, cocoa powder, baking powder, baking soda, and salt.\n",
      "Duration: 5 minutes\n",
      "\n",
      "Step 3: Add the eggs, milk, oil, and vanilla extract to the dry ingredients and mix until well combined.\n",
      "Duration: 3 minutes\n",
      "\n",
      "Step 4: Carefully stir in the boiling water until the batter is smooth. The batter will be thin.\n",
      "Duration: 2 minutes\n",
      "\n",
      "Step 5: Pour the batter evenly into the prepared cake pans.\n",
      "Duration: 2 minutes\n",
      "\n",
      "Step 6: Bake for 30 to 35 minutes, or until a toothpick inserted into the center comes out clean.\n",
      "Duration: 35 minutes\n",
      "\n",
      "Step 7: Remove cakes from the oven and allow them to cool in the pans for about 10 minutes. Then, remove from pans and cool completely on a wire rack.\n",
      "Duration: 1 hour\n",
      "\n",
      "Total Time: 2 hours 7 minutes\n"
     ]
    }
   ],
   "source": [
    "from pydantic import BaseModel\n",
    "from openai import OpenAI\n",
    "\n",
    "client = OpenAI()\n",
    "\n",
    "class Ingredient(BaseModel):\n",
    "    item: str\n",
    "    amount: str\n",
    "\n",
    "class Step(BaseModel):\n",
    "    instruction: str\n",
    "    duration: str\n",
    "\n",
    "class Recipe(BaseModel):\n",
    "    title: str\n",
    "    ingredients: list[Ingredient]\n",
    "    steps: list[Step]\n",
    "    total_time: str\n",
    "\n",
    "completion = client.beta.chat.completions.parse(\n",
    "    model=\"gpt-4o-2024-08-06\",  \n",
    "    messages=[\n",
    "        {\n",
    "            \"role\": \"system\",\n",
    "            \"content\": \"You are a helpful cooking assistant. Provide a recipe with ingredients and step-by-step instructions.\",\n",
    "        },\n",
    "        {\n",
    "            \"role\": \"user\",\n",
    "            \"content\": \"Give me a recipe for a simple chocolate cake.\"\n",
    "        }\n",
    "    ],\n",
    "    response_format=Recipe,\n",
    ")\n",
    "\n",
    "recipe = completion.choices[0].message.parsed\n",
    "\n",
    "# Print the recipe title\n",
    "print(f\"Recipe: {recipe.title}\\n\")\n",
    "\n",
    "# Print the ingredients\n",
    "print(\"Ingredients:\")\n",
    "for i, ingredient in enumerate(recipe.ingredients, 1):\n",
    "    print(f\"{i}. {ingredient.item}: {ingredient.amount}\")\n",
    "print()\n",
    "\n",
    "# Print the steps\n",
    "print(\"Instructions:\")\n",
    "for i, step in enumerate(recipe.steps, 1):\n",
    "    print(f\"Step {i}: {step.instruction}\")\n",
    "    print(f\"Duration: {step.duration}\\n\")\n",
    "\n",
    "# Print the total time\n",
    "print(f\"Total Time: {recipe.total_time}\")"
   ]
  },
  {
   "cell_type": "code",
   "execution_count": null,
   "id": "2aec832d-dfdd-4b80-b68d-3c63b6120bb4",
   "metadata": {},
   "outputs": [],
   "source": []
  },
  {
   "cell_type": "code",
   "execution_count": null,
   "id": "cb805b6c-f4d9-498a-bcb0-6f456ecf93c2",
   "metadata": {},
   "outputs": [],
   "source": []
  },
  {
   "cell_type": "code",
   "execution_count": null,
   "id": "a9fa1462-087e-4f14-8d51-06d530bab968",
   "metadata": {},
   "outputs": [],
   "source": []
  },
  {
   "cell_type": "code",
   "execution_count": null,
   "id": "ba8abe68-8ba0-4cce-b165-7e052333f3cc",
   "metadata": {},
   "outputs": [],
   "source": []
  },
  {
   "cell_type": "code",
   "execution_count": null,
   "id": "05288da1-d3f7-4a73-b8b6-fb88db08f9d7",
   "metadata": {},
   "outputs": [],
   "source": []
  },
  {
   "cell_type": "code",
   "execution_count": null,
   "id": "4d48ee70-c68e-4c44-967c-aea6b0b3285d",
   "metadata": {},
   "outputs": [],
   "source": []
  },
  {
   "cell_type": "code",
   "execution_count": null,
   "id": "ef15a4ee-3753-45fc-bb5d-cae7ae5b174e",
   "metadata": {},
   "outputs": [],
   "source": []
  },
  {
   "cell_type": "code",
   "execution_count": null,
   "id": "694baf0e-1e86-4cc2-b2da-3aa9737089c1",
   "metadata": {},
   "outputs": [],
   "source": []
  },
  {
   "cell_type": "code",
   "execution_count": null,
   "id": "ea17d779-9c81-4fb1-827c-cf3d5e59d23b",
   "metadata": {},
   "outputs": [],
   "source": []
  },
  {
   "cell_type": "code",
   "execution_count": null,
   "id": "29e50c8e-afb4-4f1d-a8e0-015a07c02ffc",
   "metadata": {},
   "outputs": [],
   "source": []
  },
  {
   "cell_type": "code",
   "execution_count": null,
   "id": "eb014bf3-d74a-4038-9869-b6277537865e",
   "metadata": {},
   "outputs": [],
   "source": []
  },
  {
   "cell_type": "code",
   "execution_count": null,
   "id": "c3748501-14ca-4460-be5d-109678eeb60f",
   "metadata": {},
   "outputs": [],
   "source": []
  },
  {
   "cell_type": "code",
   "execution_count": null,
   "id": "234ca8d6-0092-494b-98c3-b4e4efc2d774",
   "metadata": {},
   "outputs": [],
   "source": []
  },
  {
   "cell_type": "code",
   "execution_count": null,
   "id": "ce82cf5f-bdcf-4d33-ae56-c6741cfc9030",
   "metadata": {},
   "outputs": [],
   "source": []
  },
  {
   "cell_type": "code",
   "execution_count": null,
   "id": "2eb82e43-9169-4a03-83cb-9b44285b6465",
   "metadata": {},
   "outputs": [],
   "source": []
  },
  {
   "cell_type": "code",
   "execution_count": null,
   "id": "3ebbd3c4-deef-4173-9d8a-a2db08f9b412",
   "metadata": {},
   "outputs": [],
   "source": []
  },
  {
   "cell_type": "code",
   "execution_count": null,
   "id": "a62cfa6d-cd20-482b-ad11-2f93cdc0f2d1",
   "metadata": {},
   "outputs": [],
   "source": []
  },
  {
   "cell_type": "code",
   "execution_count": null,
   "id": "0c6cc0ae-7e4c-42c2-87c9-8aea46d398c5",
   "metadata": {},
   "outputs": [],
   "source": []
  },
  {
   "cell_type": "code",
   "execution_count": null,
   "id": "7babec79-deee-4f23-88b0-1bba9a234ca5",
   "metadata": {},
   "outputs": [],
   "source": []
  },
  {
   "cell_type": "code",
   "execution_count": null,
   "id": "33fc551e-33a3-4c05-af78-580c5c76bb1d",
   "metadata": {},
   "outputs": [],
   "source": []
  },
  {
   "cell_type": "code",
   "execution_count": null,
   "id": "9ed678ef-4f79-450c-aac4-2f1c9a21df44",
   "metadata": {},
   "outputs": [],
   "source": []
  },
  {
   "cell_type": "code",
   "execution_count": null,
   "id": "097a2844-81da-4fe5-a589-531911cf28f6",
   "metadata": {},
   "outputs": [],
   "source": []
  },
  {
   "cell_type": "code",
   "execution_count": null,
   "id": "7bcc1b7a-543c-4f28-ac51-206f76de1c50",
   "metadata": {},
   "outputs": [],
   "source": []
  },
  {
   "cell_type": "code",
   "execution_count": null,
   "id": "284617e7-a831-40a0-b690-d1dbf43f218b",
   "metadata": {},
   "outputs": [],
   "source": []
  },
  {
   "cell_type": "code",
   "execution_count": null,
   "id": "7e01c196-38d4-4ac2-852d-495a5ff57946",
   "metadata": {},
   "outputs": [],
   "source": []
  },
  {
   "cell_type": "code",
   "execution_count": null,
   "id": "3c4d2c2c-96db-443b-8b6e-10bd87de3a12",
   "metadata": {},
   "outputs": [],
   "source": []
  }
 ],
 "metadata": {
  "kernelspec": {
   "display_name": "Python 3 (ipykernel)",
   "language": "python",
   "name": "python3"
  },
  "language_info": {
   "codemirror_mode": {
    "name": "ipython",
    "version": 3
   },
   "file_extension": ".py",
   "mimetype": "text/x-python",
   "name": "python",
   "nbconvert_exporter": "python",
   "pygments_lexer": "ipython3",
   "version": "3.11.7"
  }
 },
 "nbformat": 4,
 "nbformat_minor": 5
}
