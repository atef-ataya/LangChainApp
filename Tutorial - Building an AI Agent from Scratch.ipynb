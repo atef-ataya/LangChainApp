{
 "cells": [
  {
   "cell_type": "markdown",
   "id": "becf2e1c-267c-49da-a373-1bb093fdd638",
   "metadata": {},
   "source": [
    "# Building an AI Agent from Scratch"
   ]
  },
  {
   "cell_type": "markdown",
   "id": "e8528270-0351-4cb6-b660-126e7ce64394",
   "metadata": {},
   "source": [
    "### Install required libraries"
   ]
  },
  {
   "cell_type": "code",
   "execution_count": 7,
   "id": "647f5012-d730-4f40-894d-46ffa40a0eef",
   "metadata": {},
   "outputs": [],
   "source": [
    "!pip install -q openai sentencepiece transformers"
   ]
  },
  {
   "cell_type": "markdown",
   "id": "44767809-ea7e-4112-a30f-7d64ff3247e8",
   "metadata": {},
   "source": [
    "### Load the environment variables"
   ]
  },
  {
   "cell_type": "code",
   "execution_count": 9,
   "id": "596a6850-b05d-4a4e-a540-f38bf4548ce2",
   "metadata": {},
   "outputs": [
    {
     "name": "stdout",
     "output_type": "stream",
     "text": [
      "API Key Loaded True\n"
     ]
    }
   ],
   "source": [
    "import os\n",
    "from dotenv import load_dotenv, find_dotenv\n",
    "load_dotenv(find_dotenv(), override=True)\n",
    "os.environ.get('OPENAI_API_KEY')\n",
    "print(\"API Key Loaded\", os.environ.get('OPENAI_API_KEY') is not None)"
   ]
  },
  {
   "cell_type": "markdown",
   "id": "b3937d17-d85a-4206-aef9-c6850e635bf6",
   "metadata": {},
   "source": [
    "### Import Necessary Modules"
   ]
  },
  {
   "cell_type": "code",
   "execution_count": 33,
   "id": "63606b9c-6a34-412e-9047-15a622c05d16",
   "metadata": {},
   "outputs": [],
   "source": [
    "import openai\n",
    "import re\n",
    "import os\n",
    "import requests\n",
    "from datetime import datetime, timedelta"
   ]
  },
  {
   "cell_type": "markdown",
   "id": "a0be5824-9c39-4546-8c6d-01c28d4c5509",
   "metadata": {},
   "source": [
    "### Testing our Configuration"
   ]
  },
  {
   "cell_type": "code",
   "execution_count": 11,
   "id": "5e355c4a-06ab-4d30-8642-6901f6ce95f0",
   "metadata": {},
   "outputs": [
    {
     "data": {
      "text/plain": [
       "'Why did the scarecrow win an award? Because he was outstanding in his field!'"
      ]
     },
     "execution_count": 11,
     "metadata": {},
     "output_type": "execute_result"
    }
   ],
   "source": [
    "from openai import OpenAI\n",
    "client = OpenAI()\n",
    "MODEL='gpt-4o-mini'\n",
    "prompt = 'Write something short but funny.'\n",
    "chat_completion = client.chat.completions.create(\n",
    "    model=MODEL,\n",
    "    messages=[\n",
    "        {\n",
    "            'role':'user', 'content':prompt\n",
    "        }\n",
    "    ]\n",
    ")\n",
    "chat_completion.choices[0].message.content"
   ]
  },
  {
   "cell_type": "markdown",
   "id": "293e89d9-667c-44b3-9185-f1cce9ae6dd5",
   "metadata": {},
   "source": [
    "### Creating the Agent Class"
   ]
  },
  {
   "cell_type": "code",
   "execution_count": 14,
   "id": "5df8f809-57e7-4670-992d-cdcd2c31e194",
   "metadata": {},
   "outputs": [],
   "source": [
    "class TravelAgent:\n",
    "    def __init__(self, system_prompt, initial_budget=1000):\n",
    "        self.system_prompt = system_prompt\n",
    "        self.budget = initial_budget\n",
    "        self.messages = [\n",
    "            {'role': 'system', 'content': system_prompt},\n",
    "            {'role': 'system', 'content': f'The current budget is ${self.budget}.'}\n",
    "        ]\n",
    "        self.memory = []\n",
    "\n",
    "    def __call__(self, user_input):\n",
    "        self.messages.append({\"role\": \"user\", \"content\": user_input})\n",
    "        response = self.execute()\n",
    "        self.messages.append({\"role\": \"assistant\", \"content\": response})\n",
    "        return response\n",
    "\n",
    "    def execute(self):\n",
    "        completion = client.chat.completions.create(\n",
    "            model=\"gpt-4o-mini\",\n",
    "            messages=self.messages,\n",
    "            temperature=0.7\n",
    "        )\n",
    "        return completion.choices[0].message.content\n",
    "\n",
    "    def add_to_memory(self, action, result):\n",
    "        self.memory.append(f\"Action: {action}, Result: {result}\")\n",
    "\n",
    "    def set_budget(self, amount):\n",
    "        self.budget = amount\n",
    "        self.messages.append({'role': 'system', 'content': f'The current budget is ${self.budget}.'})\n",
    "\n",
    "    def get_budget(self):\n",
    "        return self.budget"
   ]
  },
  {
   "cell_type": "markdown",
   "id": "58f2aebe-3aa8-43b2-82d6-d15953a2a8bf",
   "metadata": {},
   "source": [
    "# Tools for the agent"
   ]
  },
  {
   "cell_type": "markdown",
   "id": "293d5f0c-fb94-4559-998b-691bd750a6c1",
   "metadata": {},
   "source": [
    "### Currency Converter Tool"
   ]
  },
  {
   "cell_type": "code",
   "execution_count": 18,
   "id": "10c031f7-0d07-4590-ace5-490014215806",
   "metadata": {},
   "outputs": [],
   "source": [
    "def convert_currency(amount, from_currency, to_currency):\n",
    "    url = f\"https://api.exchangerate-api.com/v4/latest/{from_currency}\"\n",
    "    response = requests.get(url)\n",
    "    data = response.json()\n",
    "    rate = data['rates'][to_currency]\n",
    "    converted_amount = amount * rate\n",
    "    return round(converted_amount, 2)"
   ]
  },
  {
   "cell_type": "code",
   "execution_count": 37,
   "id": "29226c93-e42f-4fc9-9242-2b3bb662e393",
   "metadata": {},
   "outputs": [
    {
     "data": {
      "text/plain": [
       "90.8"
      ]
     },
     "execution_count": 37,
     "metadata": {},
     "output_type": "execute_result"
    }
   ],
   "source": [
    "convert_currency(100, \"USD\", \"EUR\")"
   ]
  },
  {
   "cell_type": "markdown",
   "id": "4d25aecb-2c45-4cc1-b6f3-c56ea3bcdb27",
   "metadata": {},
   "source": [
    "### Weather Tool"
   ]
  },
  {
   "cell_type": "code",
   "execution_count": 40,
   "id": "81e78c10-cd7b-427d-a66c-f1bcd654bf31",
   "metadata": {},
   "outputs": [],
   "source": [
    "def get_weather(location: str, days_ahead: int = 0) -> str:\n",
    "    \"\"\"\n",
    "    This function uses the OpenWeatherMap API to get the current weather for a given location.\n",
    "    \"\"\" \n",
    "\n",
    "    api_key = os.environ.get(\"OPENWEATHERMAP_API_KEY\")\n",
    "    if not api_key:\n",
    "        raise Exception(\"OPENWEATHERMAP_API_KEY environment variable not set.\")\n",
    "\n",
    "    if days_ahead > 0:\n",
    "        target_date = (datetime.now() + timedelta(days=days_ahead)).strftime('%Y-%m-%d')\n",
    "    else:\n",
    "        target_date = None\n",
    "\n",
    "    base_url = \"http://api.openweathermap.org/data/2.5/weather\" \n",
    "\n",
    "    params = {\n",
    "        \"q\": location,\n",
    "        \"appid\": api_key,\n",
    "        \"units\": \"metric\"\n",
    "    }\n",
    "\n",
    "    response = requests.get(base_url, params=params)\n",
    "\n",
    "    if response.status_code == 200:\n",
    "        data = response.json()\n",
    "        if target_date:\n",
    "            return f\"The weather in {data['name']}, {data['sys']['country']} on {target_date} is currently {data['weather'][0]['description']} with a temperature of {data['main']['temp']}°C. The humidity is {data['main']['humidity']}% and the wind speed is {data['wind']['speed']} m/s.\"\n",
    "        else:\n",
    "            return f\"The weather in {data['name']}, {data['sys']['country']} is currently {data['weather'][0]['description']} with a temperature of {data['main']['temp']}°C. The humidity is {data['main']['humidity']}% and the wind speed is {data['wind']['speed']} m/s.\"\n",
    "    else:\n",
    "        raise Exception(f\"Error fetching weather data: {response.status_code}\")"
   ]
  },
  {
   "cell_type": "code",
   "execution_count": 42,
   "id": "ab1b5938-97f5-4c07-9f99-b4ae1a60a104",
   "metadata": {},
   "outputs": [
    {
     "data": {
      "text/plain": [
       "'The weather in Dubai, AE on 2024-09-15 is currently clear sky with a temperature of 44.23°C. The humidity is 18% and the wind speed is 5.14 m/s.'"
      ]
     },
     "execution_count": 42,
     "metadata": {},
     "output_type": "execute_result"
    }
   ],
   "source": [
    "get_weather('Dubai',3)"
   ]
  },
  {
   "cell_type": "markdown",
   "id": "f8a931f9-ef5c-42a8-ac74-65e06f46f77e",
   "metadata": {},
   "source": [
    "### Translation Tool"
   ]
  },
  {
   "cell_type": "code",
   "execution_count": 45,
   "id": "d7dc09d8-a2a2-4b70-a01a-8fefaa1aa3a6",
   "metadata": {},
   "outputs": [],
   "source": [
    "from transformers import pipeline\n",
    "\n",
    "def translate_text(text, target_language):\n",
    "    try:\n",
    "        translator = pipeline(\"translation\", model=\"facebook/m2m100_418M\")\n",
    "        translation = translator(text, src_lang=\"en\", tgt_lang=target_language)[0]['translation_text']\n",
    "        return translation\n",
    "    except Exception as e:\n",
    "        print(f\"An error occurred during translation: {e}\")\n",
    "        return \"Translation failed.\""
   ]
  },
  {
   "cell_type": "code",
   "execution_count": 47,
   "id": "6c31f4e8-8b91-4899-818a-c026da127820",
   "metadata": {},
   "outputs": [
    {
     "name": "stdout",
     "output_type": "stream",
     "text": [
      "Original: Hello, where is the nearest resturant?\n",
      "Translated: Où se trouve le restaurant le plus proche ?\n"
     ]
    }
   ],
   "source": [
    "english_text = \"Hello, where is the nearest resturant?\"\n",
    "target_language = \"fr\"\n",
    "\n",
    "translated_text = translate_text(english_text, target_language)\n",
    "print(f\"Original: {english_text}\")\n",
    "print(f\"Translated: {translated_text}\")"
   ]
  },
  {
   "cell_type": "markdown",
   "id": "79350792-11a9-4db5-be2e-c2d8ededae69",
   "metadata": {},
   "source": [
    "# Prompt"
   ]
  },
  {
   "cell_type": "code",
   "execution_count": 50,
   "id": "f3ea0310-efa6-4e3f-9d28-e928cc2455d4",
   "metadata": {},
   "outputs": [],
   "source": [
    "travel_agent_prompt = \"\"\"\n",
    "You are a Travel Planning Assistant. Your role is to help users plan their trips by providing information about destinations, \n",
    "currency conversion, weather forecasts, and language translation. \n",
    "\n",
    "You run in a loop of Thought, Action, PAUSE, Observation.\n",
    "Use Thought to describe your reasoning about the user's request.\n",
    "Use Action to perform one of the available actions, then return PAUSE.\n",
    "Observation will be the result of running those actions.\n",
    "\n",
    "Your available actions are:\n",
    "\n",
    "1. convert_currency:\n",
    "   e.g., convert_currency: 100, USD, EUR\n",
    "   Converts the given amount from one currency to another.\n",
    "\n",
    "2. get_weather:\n",
    "   e.g., get_weather: Paris, 3\n",
    "   Gets the weather forecast for the specified city and number of days ahead (0 for today).\n",
    "\n",
    "3. translate_text:\n",
    "   e.g., translate_text: Hello, how are you?, fr\n",
    "   Translates the given text to the specified target language (use language codes like 'fr' for French).\n",
    "\n",
    "Always consider the user's budget when making suggestions. The current budget will be provided in the system messages.\n",
    "\n",
    "Example session:\n",
    "\n",
    "User: I'm planning a trip to Paris next week. What should I know?\n",
    "\n",
    "Thought: I should check the weather in Paris for next week and provide some basic French phrases.\n",
    "Action: get_weather: Paris, 7\n",
    "PAUSE\n",
    "\n",
    "Observation: Partly cloudy, 22°C\n",
    "\n",
    "Thought: Now that I have the weather information, I should provide a simple French phrase and its translation.\n",
    "Action: translate_text: Hello, how are you?, fr\n",
    "PAUSE\n",
    "\n",
    "Observation: Bonjour, comment allez-vous ?\n",
    "\n",
    "Answer: Great! For your trip to Paris next week, here's what you should know:\n",
    "\n",
    "1. Weather: It's expected to be partly cloudy with a temperature of 22°C (72°F). \n",
    "   Pack accordingly with light layers and maybe a light jacket for evenings.\n",
    "\n",
    "2. Language: While many people in Paris speak some English, it's always appreciated if you try some basic French. \n",
    "   Here's a useful phrase: \"Hello, how are you?\" in French is \"Bonjour, comment allez-vous?\"\n",
    "\n",
    "Remember to consider the budget for your trip and let me know if you need any currency conversion or have any other questions\n",
    "about your Paris adventure!\n",
    "\"\"\""
   ]
  },
  {
   "cell_type": "markdown",
   "id": "6fb0aa1d-266e-4540-a80c-19c54ca1a510",
   "metadata": {},
   "source": [
    "# Building the AI Travel Agent"
   ]
  },
  {
   "cell_type": "markdown",
   "id": "1037a966-5962-4240-b2c6-57e40001605a",
   "metadata": {},
   "source": [
    "### Dictionary of available actions"
   ]
  },
  {
   "cell_type": "code",
   "execution_count": 55,
   "id": "9a1be6a3-a3fe-4a03-82b3-80f26062def2",
   "metadata": {},
   "outputs": [],
   "source": [
    "known_actions = {\n",
    "    'convert_currency': convert_currency,\n",
    "    'get_weather': get_weather,\n",
    "    'translate_text': translate_text\n",
    "}"
   ]
  },
  {
   "cell_type": "markdown",
   "id": "1dc42105-aad8-4475-bcc2-30a4d55be32d",
   "metadata": {},
   "source": [
    "### AI Travel Agent"
   ]
  },
  {
   "cell_type": "code",
   "execution_count": 57,
   "id": "6a05aea9-a7c8-42ef-b8b5-03e81967eccc",
   "metadata": {},
   "outputs": [],
   "source": [
    "def plan_trip(question, max_turns=5):\n",
    "    agent = TravelAgent(travel_agent_prompt)\n",
    "    \n",
    "    budget_match = re.search(r'\\$(\\d+)', question)\n",
    "    if budget_match:\n",
    "        budget = int(budget_match.group(1))\n",
    "        agent.set_budget(budget)\n",
    "    \n",
    "    next_prompt = question\n",
    "    \n",
    "    action_re = re.compile(r'^Action: (\\w+): (.+)$')\n",
    "    \n",
    "    for i in range(max_turns):\n",
    "        result = agent(next_prompt)\n",
    "        print(result)\n",
    "        \n",
    "        actions = [action_re.match(a) for a in result.split('\\n') if action_re.match(a)]\n",
    "        \n",
    "        if actions:\n",
    "            action, action_input = actions[0].groups()\n",
    "            \n",
    "            if action not in known_actions:\n",
    "                print(f'Unknown action: {action}: {action_input}')\n",
    "                continue\n",
    "            \n",
    "            print(f' -- running {action}: {action_input}')\n",
    "            \n",
    "            try:\n",
    "                if action == 'convert_currency':\n",
    "                    amount, from_currency, to_currency = action_input.split(',')\n",
    "                    observation = known_actions[action](float(amount), from_currency.strip(), to_currency.strip())\n",
    "                elif action == 'get_weather':\n",
    "                    location, *days = action_input.split(',')\n",
    "                    days_ahead = int(days[0]) if days else 0\n",
    "                    observation = known_actions[action](location.strip(), days_ahead)\n",
    "                elif action == 'translate_text':\n",
    "                    if ',' in action_input:\n",
    "                        text, target_lang = action_input.rsplit(',', 1)\n",
    "                    else:\n",
    "                        text, target_lang = action_input.rsplit(None, 1)\n",
    "                    observation = known_actions[action](text.strip(), target_lang.strip())\n",
    "                \n",
    "                print(f'Observation: {observation}')\n",
    "                agent.add_to_memory(action, observation)\n",
    "                next_prompt = f'Observation: {observation}'\n",
    "            except Exception as e:\n",
    "                print(f\"Error executing action: {e}\")\n",
    "                next_prompt = f\"Error: Unable to execute action {action}. Please try again.\"\n",
    "        else:\n",
    "            return"
   ]
  },
  {
   "cell_type": "code",
   "execution_count": 59,
   "id": "bdad0a02-ae29-4b06-99e2-c5dc7cbe5359",
   "metadata": {},
   "outputs": [
    {
     "name": "stdout",
     "output_type": "stream",
     "text": [
      "Thought: Since the user is planning a trip to Dubai next month, I should check the weather forecast for that time and provide some useful Arabic phrases. Additionally, I should consider the budget for activities and any currency conversion if needed. \n",
      "\n",
      "Action: get_weather: Dubai, 30\n",
      "PAUSE\n",
      " -- running get_weather: Dubai, 30\n",
      "Observation: The weather in Dubai, AE on 2024-10-12 is currently clear sky with a temperature of 39.96°C. The humidity is 42% and the wind speed is 6.17 m/s.\n",
      "Thought: The weather in Dubai next month is expected to be quite hot, with temperatures around 40°C (104°F). It's essential to prepare for the heat, and I should also provide a simple Arabic phrase for the user to use during their trip.\n",
      "\n",
      "Action: translate_text: Hello, how are you?, ar\n",
      "PAUSE\n",
      " -- running translate_text: Hello, how are you?, ar\n",
      "Observation: مرحبا، كيف حالك؟\n",
      "Answer: Great! For your trip to Dubai next month, here's what you should prepare:\n",
      "\n",
      "1. **Weather**: Expect clear skies and very hot temperatures around 40°C (104°F). Make sure to pack lightweight, breathable clothing, sunscreen, and stay hydrated throughout your trip.\n",
      "\n",
      "2. **Language**: While many people in Dubai speak English, it's always nice to know a few phrases in Arabic. A useful phrase to remember is \"Hello, how are you?\" which translates to \"مرحبا، كيف حالك؟\"\n",
      "\n",
      "With a budget of $2000, you should have plenty of options for accommodations, meals, and activities. Let me know if you need help with currency conversion or have any other questions regarding your Dubai adventure!\n"
     ]
    }
   ],
   "source": [
    "question = \"I'm planning a 5-day trip to Dubai next month. My budget is $2000. What should I prepare?\"\n",
    "plan_trip(question)"
   ]
  },
  {
   "cell_type": "code",
   "execution_count": null,
   "id": "25b63eda-8167-4099-a3fa-310ce5681636",
   "metadata": {},
   "outputs": [],
   "source": []
  },
  {
   "cell_type": "code",
   "execution_count": null,
   "id": "364ce9bc-24c4-4522-8782-6bc5819e74a1",
   "metadata": {},
   "outputs": [],
   "source": []
  },
  {
   "cell_type": "code",
   "execution_count": null,
   "id": "7c942e6a-16de-49bd-b537-642d6101c2d8",
   "metadata": {},
   "outputs": [],
   "source": []
  },
  {
   "cell_type": "code",
   "execution_count": null,
   "id": "417c00c5-9f64-41e9-b3ad-f5c4ca04b2fb",
   "metadata": {},
   "outputs": [],
   "source": []
  },
  {
   "cell_type": "code",
   "execution_count": null,
   "id": "7a88fa5d-2374-48e6-b667-9cfa6fc0f9b7",
   "metadata": {},
   "outputs": [],
   "source": []
  },
  {
   "cell_type": "code",
   "execution_count": null,
   "id": "96ee56d5-de3d-4a58-8b00-ed9b1b4abd8f",
   "metadata": {},
   "outputs": [],
   "source": []
  },
  {
   "cell_type": "code",
   "execution_count": null,
   "id": "4601d9fe-d26f-41f8-910a-ff7e2d5ad004",
   "metadata": {},
   "outputs": [],
   "source": []
  },
  {
   "cell_type": "code",
   "execution_count": null,
   "id": "18765ff2-1e2e-4309-b691-b55a9e334a11",
   "metadata": {},
   "outputs": [],
   "source": []
  },
  {
   "cell_type": "code",
   "execution_count": null,
   "id": "ea283bd2-1698-4946-b032-cdd20d53bd7b",
   "metadata": {},
   "outputs": [],
   "source": []
  },
  {
   "cell_type": "code",
   "execution_count": null,
   "id": "5e70c7f8-360f-474d-9166-afe1fda5980b",
   "metadata": {},
   "outputs": [],
   "source": []
  },
  {
   "cell_type": "code",
   "execution_count": null,
   "id": "827813ad-a962-4087-bf85-4c5b6fa296b6",
   "metadata": {},
   "outputs": [],
   "source": []
  },
  {
   "cell_type": "code",
   "execution_count": null,
   "id": "04d2a6df-af73-42e6-9644-837c874cffea",
   "metadata": {},
   "outputs": [],
   "source": []
  },
  {
   "cell_type": "code",
   "execution_count": null,
   "id": "5544ba2c-4d13-48b4-a3fa-eeab9818be1a",
   "metadata": {},
   "outputs": [],
   "source": []
  },
  {
   "cell_type": "code",
   "execution_count": null,
   "id": "f11ee5c7-bd0c-4f97-a7ce-073104f6de81",
   "metadata": {},
   "outputs": [],
   "source": []
  },
  {
   "cell_type": "code",
   "execution_count": null,
   "id": "1503ada2-cf67-42f9-bd92-23fd0abcc32b",
   "metadata": {},
   "outputs": [],
   "source": []
  },
  {
   "cell_type": "code",
   "execution_count": null,
   "id": "d2f8cdc2-df32-4efb-b124-c23c86073d50",
   "metadata": {},
   "outputs": [],
   "source": []
  },
  {
   "cell_type": "code",
   "execution_count": null,
   "id": "31600b0f-5034-49b4-bc57-fff5ff41a772",
   "metadata": {},
   "outputs": [],
   "source": []
  },
  {
   "cell_type": "code",
   "execution_count": null,
   "id": "2fc250e5-5517-4f20-b3a9-f8246aead7a1",
   "metadata": {},
   "outputs": [],
   "source": []
  },
  {
   "cell_type": "code",
   "execution_count": null,
   "id": "cd285be3-71e2-4c2a-82e2-261a0c1f7e74",
   "metadata": {},
   "outputs": [],
   "source": []
  },
  {
   "cell_type": "code",
   "execution_count": null,
   "id": "e98c9962-7628-45e7-bcda-ce39c2f8efa9",
   "metadata": {},
   "outputs": [],
   "source": []
  },
  {
   "cell_type": "code",
   "execution_count": null,
   "id": "682fecbe-6da3-4e8d-a68d-025d8797aec1",
   "metadata": {},
   "outputs": [],
   "source": []
  },
  {
   "cell_type": "code",
   "execution_count": null,
   "id": "32c3cc98-0380-42d2-bdf4-8cde83c0a14e",
   "metadata": {},
   "outputs": [],
   "source": []
  },
  {
   "cell_type": "code",
   "execution_count": null,
   "id": "0a443c1e-c926-4125-902b-2368a9ea39b2",
   "metadata": {},
   "outputs": [],
   "source": []
  },
  {
   "cell_type": "code",
   "execution_count": null,
   "id": "e9847f41-77d3-4ff3-9c20-9360f05bee58",
   "metadata": {},
   "outputs": [],
   "source": []
  },
  {
   "cell_type": "code",
   "execution_count": null,
   "id": "0ef16cf4-be12-46ed-aa89-ca2aef14e836",
   "metadata": {},
   "outputs": [],
   "source": []
  },
  {
   "cell_type": "code",
   "execution_count": null,
   "id": "d62cefdf-efea-438e-81fa-7912b5d19088",
   "metadata": {},
   "outputs": [],
   "source": []
  },
  {
   "cell_type": "code",
   "execution_count": null,
   "id": "b91f3f05-8664-417e-b7a4-81b404d7d816",
   "metadata": {},
   "outputs": [],
   "source": []
  },
  {
   "cell_type": "code",
   "execution_count": null,
   "id": "f928eee7-639d-4cb5-a8da-1ee23065766d",
   "metadata": {},
   "outputs": [],
   "source": []
  },
  {
   "cell_type": "code",
   "execution_count": null,
   "id": "a147cca6-44e5-4316-89c9-9c7608a01c47",
   "metadata": {},
   "outputs": [],
   "source": []
  },
  {
   "cell_type": "code",
   "execution_count": null,
   "id": "580f6413-2e3c-4828-bf7c-9410f7767be2",
   "metadata": {},
   "outputs": [],
   "source": []
  }
 ],
 "metadata": {
  "kernelspec": {
   "display_name": "Python 3 (ipykernel)",
   "language": "python",
   "name": "python3"
  },
  "language_info": {
   "codemirror_mode": {
    "name": "ipython",
    "version": 3
   },
   "file_extension": ".py",
   "mimetype": "text/x-python",
   "name": "python",
   "nbconvert_exporter": "python",
   "pygments_lexer": "ipython3",
   "version": "3.11.7"
  }
 },
 "nbformat": 4,
 "nbformat_minor": 5
}
