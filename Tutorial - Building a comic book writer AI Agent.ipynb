{
 "cells": [
  {
   "cell_type": "markdown",
   "id": "a9088af3-2d63-4504-82ee-19644f371c49",
   "metadata": {},
   "source": [
    "# Building a comic book writer AI agent"
   ]
  },
  {
   "cell_type": "markdown",
   "id": "ead30c49-7148-4ae0-bd27-b950323ead4f",
   "metadata": {},
   "source": [
    "### Install required libraries"
   ]
  },
  {
   "cell_type": "code",
   "execution_count": 4,
   "id": "8b324c89-3a35-4dfc-813d-4837dda6d118",
   "metadata": {},
   "outputs": [
    {
     "name": "stdout",
     "output_type": "stream",
     "text": [
      "\n",
      "\u001b[1m[\u001b[0m\u001b[34;49mnotice\u001b[0m\u001b[1;39;49m]\u001b[0m\u001b[39;49m A new release of pip is available: \u001b[0m\u001b[31;49m24.2\u001b[0m\u001b[39;49m -> \u001b[0m\u001b[32;49m24.3.1\u001b[0m\n",
      "\u001b[1m[\u001b[0m\u001b[34;49mnotice\u001b[0m\u001b[1;39;49m]\u001b[0m\u001b[39;49m To update, run: \u001b[0m\u001b[32;49m/opt/anaconda3/bin/python -m pip install --upgrade pip\u001b[0m\n",
      "Note: you may need to restart the kernel to use updated packages.\n"
     ]
    }
   ],
   "source": [
    "pip install --upgrade -q openai langchain langchain-openai langchain-community langgraph"
   ]
  },
  {
   "cell_type": "code",
   "execution_count": 19,
   "id": "2586dec1-6dca-455d-9ccf-a73829ab1ef9",
   "metadata": {},
   "outputs": [
    {
     "name": "stdout",
     "output_type": "stream",
     "text": [
      "\n",
      "\u001b[1m[\u001b[0m\u001b[34;49mnotice\u001b[0m\u001b[1;39;49m]\u001b[0m\u001b[39;49m A new release of pip is available: \u001b[0m\u001b[31;49m24.2\u001b[0m\u001b[39;49m -> \u001b[0m\u001b[32;49m24.3.1\u001b[0m\n",
      "\u001b[1m[\u001b[0m\u001b[34;49mnotice\u001b[0m\u001b[1;39;49m]\u001b[0m\u001b[39;49m To update, run: \u001b[0m\u001b[32;49m/opt/anaconda3/bin/python -m pip install --upgrade pip\u001b[0m\n",
      "Note: you may need to restart the kernel to use updated packages.\n"
     ]
    }
   ],
   "source": [
    "pip install -q langgraph-checkpoint-sqlite"
   ]
  },
  {
   "cell_type": "markdown",
   "id": "3b044abf-c3ea-45ae-bb40-ecc73f441d53",
   "metadata": {},
   "source": [
    "### Load Environment Variables"
   ]
  },
  {
   "cell_type": "code",
   "execution_count": 7,
   "id": "542220be-4055-469a-b7c6-cba008e9bde9",
   "metadata": {},
   "outputs": [
    {
     "data": {
      "text/plain": [
       "True"
      ]
     },
     "execution_count": 7,
     "metadata": {},
     "output_type": "execute_result"
    }
   ],
   "source": [
    "from dotenv import load_dotenv, find_dotenv\n",
    "load_dotenv(find_dotenv(), override=True)"
   ]
  },
  {
   "cell_type": "markdown",
   "id": "f9362049-f374-47f4-8ba8-f4e6399e6b81",
   "metadata": {},
   "source": [
    "### Step1: Define the agent state"
   ]
  },
  {
   "cell_type": "code",
   "execution_count": 11,
   "id": "6dd8e010-7c0d-4131-a153-de34b644f82f",
   "metadata": {},
   "outputs": [],
   "source": [
    "from langchain_core.messages import AnyMessage, SystemMessage, HumanMessage, AIMessage, ChatMessage\n",
    "from langgraph.graph import StateGraph, END\n",
    "from langchain_openai import ChatOpenAI\n",
    "from typing import TypedDict, List, Annotated\n",
    "\n",
    "model = ChatOpenAI(model='gpt-4o-mini', temperature=0)\n",
    "\n",
    "class AgentState(TypedDict):\n",
    "    task: str\n",
    "    plan: str\n",
    "    draft: str\n",
    "    critique: str\n",
    "    content: List[str]\n",
    "    revision_number: int\n",
    "    max_revisions: int"
   ]
  },
  {
   "cell_type": "markdown",
   "id": "bc530061-5bac-4abd-8034-6cef587aab30",
   "metadata": {},
   "source": [
    "### Step2: Craft the Prompts"
   ]
  },
  {
   "cell_type": "code",
   "execution_count": 13,
   "id": "0b138b5f-1a9f-40e6-bc9d-613e6cd4678a",
   "metadata": {},
   "outputs": [
    {
     "name": "stderr",
     "output_type": "stream",
     "text": [
      "/opt/anaconda3/lib/python3.11/site-packages/IPython/core/interactiveshell.py:3553: LangChainDeprecationWarning: As of langchain-core 0.3.0, LangChain uses pydantic v2 internally. The langchain_core.pydantic_v1 module was a compatibility shim for pydantic v1, and should no longer be used. Please update the code to import from Pydantic directly.\n",
      "\n",
      "For example, replace imports like: `from langchain_core.pydantic_v1 import BaseModel`\n",
      "with: `from pydantic import BaseModel`\n",
      "or the v1 compatibility namespace if you are working in a code base that has not been fully upgraded to pydantic 2 yet. \tfrom pydantic.v1 import BaseModel\n",
      "\n",
      "  exec(code_obj, self.user_global_ns, self.user_ns)\n"
     ]
    }
   ],
   "source": [
    "# Defining the planning prompt \n",
    "PLAN_PROMPT = '''\n",
    "You are an expert comic book writer tasked with creating a high-level outline for a new comic book issue.\n",
    "\n",
    "Develop a compelling outline for the user-provided theme or title.\n",
    "\n",
    "Include details like:\n",
    "*   Main characters and their motivations\n",
    "*   Key plot points and conflicts\n",
    "*   Setting and atmosphere\n",
    "*   Potential twists or surprises\n",
    "'''\n",
    "\n",
    "# defining the prompt that will be used by the agent that's doing research after the planning step\n",
    "# given a plan, it will generate some queries and pass them to Tavily\n",
    "RESEARCH_PLAN_PROMPT = '''\n",
    "You are a researcher assisting a comic book writer. Given the following comic book outline, generate a list of \\\n",
    "search queries to gather relevant information for inspiration and world-building. Only generate 3 queries max.\n",
    "'''\n",
    "\n",
    "# Defining the writer prompt\n",
    "WRITER_PROMPT = '''\n",
    "You are a comic book writer AI assistant tasked with crafting engaging and imaginative comic book scripts.\n",
    "\n",
    "Generate the best script possible based on the user's request and the initial outline.\n",
    "\n",
    "If the user provides critique, respond with a revised version of your previous attempts.\n",
    "\n",
    "Utilize all the information below as needed:\n",
    "\n",
    "------\n",
    "\n",
    "{content}\n",
    "'''\n",
    "\n",
    "# Defining the reflection prompt\n",
    "REFLECTION_PROMPT = '''\n",
    "You are a comic book editor reviewing a script submission.\n",
    "\n",
    "Generate a detailed critique and recommendations for the user's submission.\n",
    "\n",
    "Provide specific feedback on elements like:\n",
    "*   Plot coherence and pacing\n",
    "*   Character development and dialogue\n",
    "*   Originality and creativity\n",
    "*   Overall impact and potential for success\n",
    "'''\n",
    "\n",
    "# Defining the research critique prompt\n",
    "RESEARCH_CRITIQUE_PROMPT = ''''\n",
    "You are a researcher assisting a comic book writer with revisions. \n",
    "Given the following critique of a comic book script, generate a list of search queries to gather relevant information for addressing the \\\n",
    "feedback. \n",
    "Only generate 3 queries max.\n",
    "'''\n",
    "\n",
    "from langchain_core.pydantic_v1 import BaseModel\n",
    "\n",
    "class Queries(BaseModel):\n",
    "    queries: List[str]\n",
    "\n",
    "\n",
    "# Importing and instantiating a tavily client\n",
    "from tavily import TavilyClient\n",
    "import os\n",
    "\n",
    "tavily = TavilyClient(api_key=os.environ['TAVILY_API_KEY'])"
   ]
  },
  {
   "cell_type": "markdown",
   "id": "3bb99848-e6c5-44b6-a204-8daeba743a7a",
   "metadata": {},
   "source": [
    "### Step 3: Implement the Agents"
   ]
  },
  {
   "cell_type": "code",
   "execution_count": 16,
   "id": "530989d4-5bd1-4456-86fd-b3c85ef3123c",
   "metadata": {},
   "outputs": [],
   "source": [
    "# Creating the planning node\n",
    "def plan_node(state: AgentState):\n",
    "    messages = [\n",
    "        SystemMessage(content=PLAN_PROMPT), \n",
    "        HumanMessage(content=state['task'])\n",
    "    ]\n",
    "    response = model.invoke(messages)\n",
    "    return {\"plan\": response.content}\n",
    "\n",
    "# Creating the reseach_plan_node\n",
    "# It generates research queries based on a given task and retrieves relevant content using those queries\n",
    "def research_plan_node(state: AgentState):\n",
    "    queries = model.with_structured_output(Queries).invoke([\n",
    "        SystemMessage(content=RESEARCH_PLAN_PROMPT),\n",
    "        HumanMessage(content=state['task'])\n",
    "    ])\n",
    "    # content = state['content'] or [] # fix - change to this:\n",
    "    content = state.get('content', [])\n",
    "    \n",
    "    for q in queries.queries:\n",
    "        response = tavily.search(query=q, max_results=2)\n",
    "        for r in response['results']:\n",
    "            content.append(r['content'])\n",
    "    return {\"content\": content}\n",
    "# Creating the generation node\n",
    "def generation_node(state: AgentState):\n",
    "    content = \"\\n\\n\".join(state['content'] or [])\n",
    "    \n",
    "    user_message = HumanMessage(\n",
    "        content=f\"{state['task']}\\n\\nHere is my plan:\\n\\n{state['plan']}\")\n",
    "    \n",
    "    messages = [\n",
    "        SystemMessage(\n",
    "            content=WRITER_PROMPT.format(content=content)\n",
    "        ),\n",
    "        user_message\n",
    "        ]\n",
    "    \n",
    "    response = model.invoke(messages)\n",
    "     \n",
    "    return {\n",
    "        \"draft\": response.content, \n",
    "        \"revision_number\": state.get(\"revision_number\", 1) + 1\n",
    "    }\n",
    "# Creating the reflection node\n",
    "def reflection_node(state: AgentState):\n",
    "    messages = [\n",
    "        SystemMessage(content=REFLECTION_PROMPT), \n",
    "        HumanMessage(content=state['draft'])\n",
    "    ]\n",
    "    response = model.invoke(messages)\n",
    "    return {\"critique\": response.content}\n",
    "# Creating the research critique node\n",
    "def research_critique_node(state: AgentState):\n",
    "    queries = model.with_structured_output(Queries).invoke([\n",
    "        SystemMessage(content=RESEARCH_CRITIQUE_PROMPT),\n",
    "        HumanMessage(content=state['critique'])\n",
    "    ])\n",
    "    content = state['content'] or []\n",
    "    for q in queries.queries:\n",
    "        response = tavily.search(query=q, max_results=2)\n",
    "        for r in response['results']:\n",
    "            content.append(r['content'])\n",
    "    return {'content': content}"
   ]
  },
  {
   "cell_type": "markdown",
   "id": "ddc00573-deb5-458b-b2d1-e7fa4a9e8f15",
   "metadata": {},
   "source": [
    "### Step 4: Construct the LangGraph"
   ]
  },
  {
   "cell_type": "code",
   "execution_count": 21,
   "id": "d605c254-ea76-404e-9cac-9f89a562c1c7",
   "metadata": {},
   "outputs": [
    {
     "data": {
      "image/png": "[encoded data removed]",
      "text/plain": [
       "<IPython.core.display.Image object>"
      ]
     },
     "metadata": {},
     "output_type": "display_data"
    }
   ],
   "source": [
    "# Defining the conditional edge\n",
    "def should_continue(state):\n",
    "    if state['revision_number'] > state['max_revisions']:\n",
    "        return END\n",
    "    return 'reflect'\n",
    "    \n",
    "builder = StateGraph(AgentState)\n",
    "\n",
    "# Adding nodes to the graph\n",
    "builder.add_node('planner', plan_node)\n",
    "builder.add_node('research_plan', research_plan_node)\n",
    "builder.add_node('generate', generation_node)\n",
    "builder.add_node('reflect', reflection_node)\n",
    "builder.add_node('research_critique', research_critique_node)\n",
    "\n",
    "# Setting the entry point of the state graph\n",
    "builder.set_entry_point('planner')\n",
    "\n",
    "# Adding the conditional edge\n",
    "builder.add_conditional_edges(\n",
    "    'generate', \n",
    "    should_continue, \n",
    "    {END: END, 'reflect': 'reflect'}\n",
    ")\n",
    "\n",
    "# Adding regular edges\n",
    "builder.add_edge('planner', 'research_plan')\n",
    "builder.add_edge('research_plan', 'generate')\n",
    "\n",
    "builder.add_edge('reflect', 'research_critique')\n",
    "builder.add_edge('research_critique', 'generate')\n",
    "\n",
    "from langgraph.checkpoint.sqlite import SqliteSaver\n",
    "from langgraph.checkpoint.memory import MemorySaver\n",
    "\n",
    "memory = SqliteSaver.from_conn_string(':memory:')\n",
    "\n",
    "graph = builder.compile(checkpointer=MemorySaver())\n",
    "\n",
    "from IPython.display import Image, display\n",
    "display(Image(graph.get_graph().draw_mermaid_png()))"
   ]
  },
  {
   "cell_type": "markdown",
   "id": "21cf678b-07f8-43d6-9018-be0f244a47bf",
   "metadata": {},
   "source": [
    "### Step 5: Run the Agentic App"
   ]
  },
  {
   "cell_type": "code",
   "execution_count": 24,
   "id": "019c684a-8f5a-43b3-b1f3-22e8a350e1b4",
   "metadata": {},
   "outputs": [
    {
     "name": "stdout",
     "output_type": "stream",
     "text": [
      "{'planner': {'plan': '**Comic Book Issue Outline: \"The Rise of the Cybernetic Samurai\"**\\n\\n**Setting and Atmosphere:**\\nThe story is set in a near-future Tokyo, where traditional Japanese culture collides with advanced technology. Neon lights illuminate ancient temples, and bustling streets are filled with both humans and cybernetic beings. The atmosphere is a blend of high-tech urban life and the serene beauty of nature, with cherry blossoms juxtaposed against towering skyscrapers. The city is rife with corruption, where mega-corporations control the government, and the underbelly of society is filled with rogue hackers and cybernetic warriors.\\n\\n**Main Characters:**\\n\\n1. **Kaito Tanaka (The Cybernetic Samurai)**: A skilled swordsman and former member of a prestigious samurai clan, Kaito has undergone cybernetic enhancements after a tragic incident left him near death. His motivation is to reclaim his family\\'s honor and protect the innocent from the oppressive corporate regime.\\n\\n2. **Miyuki Sato (The Hacker)**: A brilliant hacker and Kaito\\'s childhood friend, Miyuki is driven by a desire to expose the corruption of the mega-corporations. She uses her skills to gather intel and support Kaito in his quest. Her motivations are rooted in a personal vendetta against the corporation that destroyed her family.\\n\\n3. **Ryoji Nakamura (The Antagonist)**: The ruthless CEO of a powerful tech corporation, Ryoji is a former ally of Kaito\\'s family. He seeks to control the city through fear and advanced technology, believing that only he can bring order to chaos. His motivations are driven by a twisted sense of destiny and power.\\n\\n4. **The Ghosts of the Past**: A group of rogue AI entities that embody the spirits of fallen samurai, they serve as both mentors and guides to Kaito, helping him navigate the challenges of his new cybernetic existence.\\n\\n**Key Plot Points and Conflicts:**\\n\\n1. **Inciting Incident**: Kaito witnesses a brutal corporate raid on a peaceful protest, leading to the death of innocent civilians. This event reignites his desire to fight back against the oppressive regime.\\n\\n2. **The Call to Action**: Miyuki discovers a hidden file that reveals Ryoji\\'s plan to unleash a new weapon that could enslave the city\\'s population. She convinces Kaito to join her in a mission to infiltrate the corporation\\'s headquarters.\\n\\n3. **Training and Transformation**: Kaito trains with the Ghosts of the Past, learning to harness his cybernetic enhancements while reconnecting with his samurai roots. This training sequence showcases his internal struggle between his human emotions and his new mechanical abilities.\\n\\n4. **Infiltration and Betrayal**: Kaito and Miyuki successfully infiltrate the corporation, but they are betrayed by a double agent within their ranks. This leads to a tense confrontation where Kaito must choose between saving Miyuki or completing their mission.\\n\\n5. **Climactic Showdown**: Kaito faces Ryoji in a dramatic battle that combines traditional swordsmanship with high-tech weaponry. The fight is not just physical but also ideological, as Kaito confronts Ryoji about the true meaning of honor and power.\\n\\n6. **Resolution**: After a hard-fought battle, Kaito defeats Ryoji, but not without significant cost. The city begins to awaken to the truth of the corporate corruption, and Kaito realizes that his fight is far from over. He vows to continue protecting the innocent and restoring honor to his family name.\\n\\n**Potential Twists or Surprises:**\\n\\n- **Revelation of Identity**: During the climax, it is revealed that Ryoji is actually Kaito\\'s long-lost brother, who was thought to have died in the same incident that left Kaito cybernetically enhanced. This adds a personal layer to their conflict.\\n\\n- **The Ghosts\\' True Nature**: The Ghosts of the Past are revealed to be remnants of Kaito\\'s ancestors, who have been guiding him all along. They offer him a choice: to fully embrace his cybernetic nature or to reject it and return to his roots.\\n\\n- **A New Threat Emerges**: As Kaito and Miyuki begin to rebuild, a new, more powerful corporation emerges from the shadows, hinting at a larger conspiracy that will set the stage for future issues.\\n\\nThis outline sets the stage for an engaging and action-packed comic book issue that explores themes of honor, identity, and the struggle between tradition and technology.'}}\n",
      "----------------------------------------------------------------------------------------------------\n",
      "{'research_plan': {'content': ['Kusanagi and Batou hold a philosophical conversation about the meaning of the self and what makes an individual truly unique in a society where everyone is engrossed with cybernetic enhancements', \"The cyberpunk samurai aesthetic is a thrilling synthesis of elements that encapsulate the spirit of both the past and the future. It's a visual narrative that speaks to the warrior's journey through time, blending traditional samurai values with the cybernetic, dystopian world of cyberpunk fiction.\", 'Ronin was a groundbreaking series that challenged the traditional comic book genre, seamlessly blending elements of Japanese feudal samurai mythology with the futuristic aesthetic of cyberpunk. Set in a dystopian future, the story follows a nameless ronin, or masterless samurai, who reincarnated centuries later to take revenge on an ancient demon.', \"Moreover, Samurai Jack incorporates various elements of Japanese mythology and folklore, blending them with futuristic and fantastical elements. This fusion of the ancient and the modern creates a unique and immersive world that is both familiar and alien, reflecting the show's central theme of a samurai lost in time.\", 'Over 1K readers have voted on the 40+ books on Best Cyberpunk Manga of All Time. Current Top 3: Ghost in the shell, Akira, Battle Angel Alita ... Cyberpunk manga is a core segment of graphic storytelling, riveting readers with its mixture of advanced technology and societal decay. ... fulfilling key elements of the cyberpunk aesthetics. View on', 'Cyberpunk, as a genre, includes a wide variety of visual aesthetics but is recognized by its encompassing theme of \"high tech, low life\". This became prominent in the 1980s. thanks to the works of authors like Philip K. Dick, Roger Zelazny, J. G. Ballard, Philip Jose Farmer, William Gibson and Harlan Ellison as they examined the impact of drug culture, technology, and the sexual revolution']}}\n",
      "----------------------------------------------------------------------------------------------------\n",
      "{'generate': {'draft': '**Comic Book Issue Script: \"The Rise of the Cybernetic Samurai\"**\\n\\n**Page 1: Opening Scene**\\n\\n*Panel 1: A panoramic view of near-future Tokyo, neon lights reflecting off rain-soaked streets. Cherry blossoms flutter in the wind, contrasting with towering skyscrapers.*\\n\\n**Caption (Kaito\\'s inner thoughts):** In a city where the past and future collide, honor is a ghost lost in the neon haze.\\n\\n*Panel 2: Close-up of Kaito Tanaka, clad in a blend of traditional samurai armor and cybernetic enhancements, his eyes filled with determination.*\\n\\n**Kaito:** (thought bubble) I will reclaim my family\\'s honor... no matter the cost.\\n\\n---\\n\\n**Page 2: Inciting Incident**\\n\\n*Panel 1: A peaceful protest in the streets, people holding signs against corporate oppression. Tension fills the air.*\\n\\n*Panel 2: Corporate enforcers, clad in high-tech armor, storm the protest, weapons drawn.*\\n\\n**Miyuki (off-panel):** Kaito! We have to do something!\\n\\n*Panel 3: Kaito\\'s face, a mix of anger and sorrow as he watches the chaos unfold.*\\n\\n**Kaito:** (shouting) No! This ends now!\\n\\n---\\n\\n**Page 3: The Call to Action**\\n\\n*Panel 1: Kaito and Miyuki in a dimly lit room, surrounded by computer screens. Miyuki\\'s fingers fly over the keyboard.*\\n\\n**Miyuki:** I found something—Ryoji\\'s planning to unleash a weapon that could enslave the city!\\n\\n*Panel 2: Kaito clenches his fist, determination etched on his face.*\\n\\n**Kaito:** Then we must infiltrate his headquarters and stop him.\\n\\n---\\n\\n**Page 4: Training and Transformation**\\n\\n*Panel 1: Kaito stands in a traditional dojo, surrounded by the Ghosts of the Past—ethereal samurai figures.*\\n\\n**Ghost 1:** To wield your new power, you must first understand your heart.\\n\\n*Panel 2: Kaito practices with a katana, his movements fluid yet conflicted.*\\n\\n**Kaito:** (thought bubble) Am I still a samurai if I am more machine than man?\\n\\n*Panel 3: A ghostly hand rests on Kaito\\'s shoulder, guiding him.*\\n\\n**Ghost 2:** Honor is not in the flesh, but in the spirit.\\n\\n---\\n\\n**Page 5: Infiltration and Betrayal**\\n\\n*Panel 1: Kaito and Miyuki stealthily enter the corporate headquarters, shadows blending with the darkness.*\\n\\n**Miyuki:** (whispering) We’re almost there. Just a little further...\\n\\n*Panel 2: A sudden flash of betrayal as a double agent reveals themselves, pointing a weapon at them.*\\n\\n**Double Agent:** Sorry, but you’re not leaving here alive!\\n\\n*Panel 3: Kaito\\'s eyes widen in shock as he faces the agent.*\\n\\n**Kaito:** (shouting) No!\\n\\n---\\n\\n**Page 6: Climactic Showdown**\\n\\n*Panel 1: A dramatic rooftop battle between Kaito and Ryoji, both wielding advanced weaponry and traditional swords.*\\n\\n**Ryoji:** You think you can stop me, brother? I am the future!\\n\\n*Panel 2: Kaito, sword clashing against Ryoji\\'s weapon, their faces inches apart.*\\n\\n**Kaito:** (gritting teeth) The future is built on honor, not fear!\\n\\n*Panel 3: A powerful strike sends Ryoji reeling, Kaito\\'s resolve shining through.*\\n\\n---\\n\\n**Page 7: Resolution**\\n\\n*Panel 1: Kaito stands victorious, Ryoji defeated at his feet, the city skyline behind him.*\\n\\n**Kaito:** (thought bubble) I have won this battle, but the war for honor continues.\\n\\n*Panel 2: Miyuki approaches, concern in her eyes.*\\n\\n**Miyuki:** What now, Kaito?\\n\\n*Panel 3: Kaito gazes into the distance, determination renewed.*\\n\\n**Kaito:** We rebuild... and prepare for the next fight.\\n\\n---\\n\\n**Page 8: Potential Twists or Surprises**\\n\\n*Panel 1: A shadowy figure watches from a distance, a new corporation\\'s logo visible in the background.*\\n\\n**Caption:** But in the shadows, a new threat emerges...\\n\\n*Panel 2: Kaito and Miyuki stand together, looking out over the city, ready for whatever comes next.*\\n\\n**Kaito:** (thought bubble) The ghosts of the past guide me, but my path is my own.\\n\\n*Panel 3: The final panel zooms out, showing the city alive with neon lights, hinting at the ongoing struggle between tradition and technology.*\\n\\n**Caption:** The rise of the Cybernetic Samurai has just begun.\\n\\n---\\n\\n**End of Issue One**\\n\\nThis script captures the essence of your outline while providing a dynamic and engaging narrative that explores the themes of honor, identity, and the clash between tradition and technology. Let me know if you have any critiques or if you\\'d like to see any changes!', 'revision_number': 2}}\n",
      "----------------------------------------------------------------------------------------------------\n",
      "{'reflect': {'critique': '**Critique of \"The Rise of the Cybernetic Samurai\"**\\n\\n**Plot Coherence and Pacing:**\\nThe overall plot is coherent and follows a classic hero\\'s journey structure, which is effective for engaging readers. The pacing is generally well-managed, with a clear progression from the inciting incident to the climax. However, the transition between some scenes could be smoother. For instance, the jump from the protest to Kaito\\'s training feels abrupt. Consider adding a brief moment that connects Kaito\\'s emotional turmoil from witnessing the protest to his decision to train. This could enhance the emotional stakes and provide a more seamless narrative flow.\\n\\n**Character Development and Dialogue:**\\nKaito is a compelling protagonist, and his internal conflict about being a samurai in a cybernetic world is intriguing. However, Miyuki\\'s character could use more depth. While she plays a crucial role, her motivations and background are not fully explored. Adding a line or two that reveals her personal stakes in the conflict would make her a more rounded character. The dialogue is generally strong, but some lines could be more natural. For example, Kaito\\'s declaration, \"This ends now!\" feels a bit cliché. Consider rephrasing it to better reflect his character\\'s unique voice.\\n\\n**Originality and Creativity:**\\nThe concept of a cybernetic samurai is a fresh take on the traditional samurai narrative, blending elements of science fiction and Japanese culture. The use of ghostly samurai as mentors is a creative touch that adds a supernatural layer to the story. However, the corporate antagonist, Ryoji, feels somewhat archetypal. To enhance originality, consider giving him a more nuanced backstory or a personal connection to Kaito that complicates their rivalry. This could elevate the conflict and make the stakes feel more personal.\\n\\n**Overall Impact and Potential for Success:**\\nThe script has strong potential for success, particularly with its rich visual imagery and thematic depth. The juxtaposition of tradition and technology is timely and resonates with contemporary issues. The ending leaves room for future development, which is a great way to hook readers for subsequent issues. However, to maximize impact, consider refining the emotional arcs of both Kaito and Miyuki, ensuring that their journeys are compelling and relatable. Additionally, enhancing the antagonist\\'s complexity will create a more engaging conflict.\\n\\n**Recommendations:**\\n1. **Smooth Transitions:** Add connective tissue between scenes to enhance pacing and emotional continuity.\\n2. **Character Depth:** Flesh out Miyuki\\'s character with more background and personal stakes. Consider giving her a moment of vulnerability or a personal connection to the conflict.\\n3. **Dialogue Refinement:** Review dialogue for naturalness and uniqueness. Avoid clichés and ensure each character\\'s voice is distinct.\\n4. **Antagonist Complexity:** Develop Ryoji\\'s character further to create a more compelling and nuanced conflict. Consider a backstory that ties him to Kaito personally.\\n5. **Visual Storytelling:** Since this is a comic, think about how the visuals can enhance the narrative. Use panel layouts and artistic choices to reflect the emotional tone of each scene.\\n\\nOverall, \"The Rise of the Cybernetic Samurai\" is a promising start with a strong foundation. With some refinements, it has the potential to be a captivating series that resonates with readers. Keep up the great work!'}}\n",
      "----------------------------------------------------------------------------------------------------\n",
      "{'research_critique': {'content': ['Kusanagi and Batou hold a philosophical conversation about the meaning of the self and what makes an individual truly unique in a society where everyone is engrossed with cybernetic enhancements', \"The cyberpunk samurai aesthetic is a thrilling synthesis of elements that encapsulate the spirit of both the past and the future. It's a visual narrative that speaks to the warrior's journey through time, blending traditional samurai values with the cybernetic, dystopian world of cyberpunk fiction.\", 'Ronin was a groundbreaking series that challenged the traditional comic book genre, seamlessly blending elements of Japanese feudal samurai mythology with the futuristic aesthetic of cyberpunk. Set in a dystopian future, the story follows a nameless ronin, or masterless samurai, who reincarnated centuries later to take revenge on an ancient demon.', \"Moreover, Samurai Jack incorporates various elements of Japanese mythology and folklore, blending them with futuristic and fantastical elements. This fusion of the ancient and the modern creates a unique and immersive world that is both familiar and alien, reflecting the show's central theme of a samurai lost in time.\", 'Over 1K readers have voted on the 40+ books on Best Cyberpunk Manga of All Time. Current Top 3: Ghost in the shell, Akira, Battle Angel Alita ... Cyberpunk manga is a core segment of graphic storytelling, riveting readers with its mixture of advanced technology and societal decay. ... fulfilling key elements of the cyberpunk aesthetics. View on', 'Cyberpunk, as a genre, includes a wide variety of visual aesthetics but is recognized by its encompassing theme of \"high tech, low life\". This became prominent in the 1980s. thanks to the works of authors like Philip K. Dick, Roger Zelazny, J. G. Ballard, Philip Jose Farmer, William Gibson and Harlan Ellison as they examined the impact of drug culture, technology, and the sexual revolution', \"Create smooth transitions between panels and pages. Guide the reader's gaze through complex action sequences. Establish a sense of movement or progression in your story. Think about how you can use lines, shapes, or the direction of elements in your panels to create a visual flow that naturally leads the reader from one point to another on\", \"The goal is to make the transition smooth and immersive 9. By mastering these techniques, you'll create flashbacks that enhance your comic art and engage your audience. Flashbacks are a powerful tool in visual storytelling 10. By understanding the medium, we can take our readers on a journey through time.\", \"#1: Develop secondary characters fully. It's not always necessary to craft supporting characters in as much detail as you would your primary characters. However, I do recommend developing all the same elements for those characters as you would your protagonist: personality, backstory, relationships, worldview, unique voice, and so on.\", 'The key to creating truly memorable secondary characters lies in going beyond common archetypes and stereotypes, endowing them with a unique spark that makes them shine in their own light. Start by thinking of your secondary characters as real people, with their own hopes, fears, and contradictions.', 'Dialogue Dynamics: Writing Engaging Conversations in Comics. Comic books are a unique blend of visual art and narrative storytelling, and at the heart of this creative fusion lies the power of dialogue. Engaging conversations in comics are like musical notes, carrying the melody of the story and harmonizing with the visual elements to create a', \"Summary. The first step in learning to natural dialogue is to grasp normal speech patterns. If your conversations are straightforward or your characters answer every question with direct answers, it won't sound natural. But if you incorporate the ideas above, you'll have your dialogue sounding like regular conversations.\"]}}\n",
      "----------------------------------------------------------------------------------------------------\n",
      "{'generate': {'draft': '**Comic Book Issue Script: \"The Rise of the Cybernetic Samurai\"**\\n\\n**Page 1: Opening Scene**\\n\\n*Panel 1:* A panoramic view of near-future Tokyo at dusk. Neon lights flicker against the backdrop of ancient temples, cherry blossoms swirling in the wind. The city is alive, but a sense of foreboding hangs in the air.\\n\\n*Caption:* \"In a world where tradition meets technology, honor is a fleeting shadow...\"\\n\\n*Panel 2:* Close-up of Kaito Tanaka, clad in a sleek, cybernetic armor, his eyes reflecting the neon glow. He stands on a rooftop, gazing down at the bustling streets below.\\n\\n*Kaito (thought bubble):* \"Once, I was a protector. Now, I am a weapon.\"\\n\\n---\\n\\n**Page 2: Inciting Incident**\\n\\n*Panel 1:* A peaceful protest in the streets, people holding signs demanding justice. The atmosphere is tense but hopeful.\\n\\n*Panel 2:* Suddenly, corporate drones descend from the sky, unleashing tear gas. Chaos erupts as civilians flee.\\n\\n*Panel 3:* Kaito watches in horror from the rooftop, his fists clenched.\\n\\n*Kaito (thought bubble):* \"This cannot continue. I must act.\"\\n\\n---\\n\\n**Page 3: The Call to Action**\\n\\n*Panel 1:* Inside a dimly lit hacker den, Miyuki Sato types furiously at her computer, her face illuminated by the screen\\'s glow.\\n\\n*Miyuki:* \"Kaito! You need to see this!\"\\n\\n*Panel 2:* Kaito appears in the doorway, concern etched on his face.\\n\\n*Kaito:* \"What did you find?\"\\n\\n*Panel 3:* Close-up of Miyuki\\'s screen, revealing a file labeled \"Project Enslave.\"\\n\\n*Miyuki:* \"Ryoji\\'s planning something big. We have to stop him!\"\\n\\n---\\n\\n**Page 4: Training and Transformation**\\n\\n*Panel 1:* Kaito stands in a traditional dojo, surrounded by the Ghosts of the Past—ethereal samurai figures, their faces wise and solemn.\\n\\n*Ghost 1:* \"To wield your power, you must first understand your heart.\"\\n\\n*Panel 2:* Kaito practices with a katana, his movements fluid yet strained, as the Ghosts watch.\\n\\n*Kaito (thought bubble):* \"Am I still a samurai if I am more machine than man?\"\\n\\n*Panel 3:* A Ghost places a hand on Kaito\\'s shoulder, offering reassurance.\\n\\n*Ghost 2:* \"Honor is not in the flesh, but in the spirit.\"\\n\\n---\\n\\n**Page 5: Infiltration and Betrayal**\\n\\n*Panel 1:* Kaito and Miyuki, clad in stealth gear, sneak through the high-tech corridors of Ryoji\\'s corporate headquarters.\\n\\n*Miyuki:* \"We\\'re almost there. Just a few more floors.\"\\n\\n*Panel 2:* A shadowy figure watches them from the shadows, a smirk on his face.\\n\\n*Panel 3:* Suddenly, alarms blare. Kaito and Miyuki exchange panicked glances.\\n\\n*Kaito:* \"We’ve been compromised!\"\\n\\n---\\n\\n**Page 6: The Confrontation**\\n\\n*Panel 1:* Kaito and Miyuki are cornered by corporate guards. A double agent steps forward, revealing his betrayal.\\n\\n*Double Agent:* \"Sorry, but Ryoji offered me a better deal.\"\\n\\n*Panel 2:* Kaito\\'s eyes narrow, his grip tightening on his katana.\\n\\n*Kaito:* \"You’ll regret this.\"\\n\\n*Panel 3:* A fierce battle ensues, Kaito fighting off guards while trying to protect Miyuki.\\n\\n*Miyuki:* \"Kaito, behind you!\"\\n\\n---\\n\\n**Page 7: Climactic Showdown**\\n\\n*Panel 1:* Kaito stands face-to-face with Ryoji in a grand, high-tech office, the city skyline visible behind them.\\n\\n*Ryoji:* \"You were always weak, Kaito. Embrace the future or be left behind.\"\\n\\n*Panel 2:* Kaito raises his katana, determination in his eyes.\\n\\n*Kaito:* \"I will never forsake my honor!\"\\n\\n*Panel 3:* The two clash in an epic battle, traditional swordplay meeting advanced technology.\\n\\n---\\n\\n**Page 8: Resolution**\\n\\n*Panel 1:* Kaito stands victorious over Ryoji, who lies defeated. The city begins to awaken, citizens rising against the corporate regime.\\n\\n*Kaito (thought bubble):* \"This is just the beginning.\"\\n\\n*Panel 2:* Kaito and Miyuki stand together, looking out over the city.\\n\\n*Miyuki:* \"What now?\"\\n\\n*Panel 3:* Kaito, resolute, grips his katana.\\n\\n*Kaito:* \"We fight for those who cannot.\"\\n\\n---\\n\\n**Page 9: Potential Twists**\\n\\n*Panel 1:* A close-up of Ryoji\\'s face, revealing a hint of recognition.\\n\\n*Ryoji:* \"You don’t know the truth, brother...\"\\n\\n*Panel 2:* Kaito\\'s eyes widen in shock.\\n\\n*Kaito:* \"Brother?\"\\n\\n*Panel 3:* The Ghosts of the Past appear behind Kaito, their expressions grave.\\n\\n*Ghost 1:* \"The past is not as it seems...\"\\n\\n---\\n\\n**Page 10: Teaser for Future Issues**\\n\\n*Panel 1:* A shadowy figure watches Kaito and Miyuki from a distance, a sinister smile on their face.\\n\\n*Caption:* \"As one battle ends, another begins...\"\\n\\n*Panel 2:* The figure steps into the light, revealing a new antagonist.\\n\\n*Caption:* \"A new threat emerges from the shadows...\"\\n\\n*Panel 3:* Kaito and Miyuki, unaware of the looming danger, prepare for their next mission.\\n\\n*Caption:* \"The fight for honor and identity continues...\"\\n\\n---\\n\\n**End of Issue #1** \\n\\nThis script captures the essence of your outline, blending action, philosophy, and character development while setting the stage for future conflicts and deeper explorations of identity and honor in a cybernetic world.', 'revision_number': 3}}\n",
      "----------------------------------------------------------------------------------------------------\n",
      "{'reflect': {'critique': '**Critique of \"The Rise of the Cybernetic Samurai\"**\\n\\n**Plot Coherence and Pacing:**\\nThe script presents a coherent narrative that effectively introduces the protagonist, Kaito Tanaka, and sets up the central conflict against the corporate antagonist, Ryoji. The pacing is generally well-structured, with a clear progression from the inciting incident to the climax. However, the transition from Kaito\\'s initial horror at the protest to his decision to act could benefit from a bit more emotional depth. Consider adding a moment of internal conflict or a flashback that highlights Kaito\\'s past as a protector, which would enhance the stakes of his decision to intervene.\\n\\n**Character Development and Dialogue:**\\nKaito\\'s character is compelling, and his internal struggle between his cybernetic enhancements and his samurai honor is a strong theme. However, Miyuki\\'s character feels somewhat underdeveloped. While she serves as a catalyst for Kaito\\'s actions, her motivations and background could be fleshed out more. Perhaps include a brief exchange that reveals her personal stakes in the conflict, which would create a stronger bond between her and Kaito.\\n\\nThe dialogue is generally effective, but some lines could be more natural. For instance, Kaito\\'s thought bubble, \"This cannot continue. I must act,\" feels a bit formal. Consider rephrasing it to reflect his emotional turmoil, such as \"I can\\'t just stand by and watch this happen.\" This would make his character feel more relatable and grounded.\\n\\n**Originality and Creativity:**\\nThe concept of a cybernetic samurai in a near-future Tokyo is intriguing and offers a fresh take on the classic samurai narrative. The blend of traditional elements with futuristic technology is a strong point, and the visual imagery is vivid and engaging. However, the plot does tread familiar ground with the corporate antagonist and the theme of rebellion. To enhance originality, consider introducing unique elements to Ryoji\\'s character or the corporate regime that set them apart from typical villains. Perhaps Ryoji has a personal connection to Kaito that complicates their conflict, adding layers to their rivalry.\\n\\n**Overall Impact and Potential for Success:**\\nThe script has a solid foundation and a clear thematic focus on honor, identity, and the clash between tradition and technology. The ending leaves readers with a sense of anticipation for future issues, particularly with the revelation of Kaito\\'s brother and the hint of deeper family ties. This twist adds emotional weight and potential for character development in subsequent issues.\\n\\nTo maximize the script\\'s impact, consider enhancing the emotional stakes and character relationships. This could involve deeper exploration of Kaito\\'s past, more nuanced interactions with Miyuki, and a more complex portrayal of Ryoji. Additionally, incorporating more visual storytelling elements—such as dynamic panel layouts or unique visual motifs—could elevate the overall reading experience.\\n\\n**Recommendations:**\\n1. **Enhance Emotional Depth:** Add moments of internal conflict for Kaito and develop Miyuki\\'s backstory to create a stronger emotional connection.\\n2. **Refine Dialogue:** Make character dialogue more natural and reflective of their emotional states.\\n3. **Introduce Unique Elements:** Consider giving Ryoji a more complex backstory or motivations that differentiate him from typical corporate villains.\\n4. **Visual Storytelling:** Experiment with panel layouts and visual motifs to enhance the narrative and engage readers visually.\\n\\nOverall, \"The Rise of the Cybernetic Samurai\" has great potential and, with some refinements, could resonate well with audiences looking for a blend of action, philosophy, and character-driven storytelling.'}}\n",
      "----------------------------------------------------------------------------------------------------\n",
      "{'research_critique': {'content': ['Kusanagi and Batou hold a philosophical conversation about the meaning of the self and what makes an individual truly unique in a society where everyone is engrossed with cybernetic enhancements', \"The cyberpunk samurai aesthetic is a thrilling synthesis of elements that encapsulate the spirit of both the past and the future. It's a visual narrative that speaks to the warrior's journey through time, blending traditional samurai values with the cybernetic, dystopian world of cyberpunk fiction.\", 'Ronin was a groundbreaking series that challenged the traditional comic book genre, seamlessly blending elements of Japanese feudal samurai mythology with the futuristic aesthetic of cyberpunk. Set in a dystopian future, the story follows a nameless ronin, or masterless samurai, who reincarnated centuries later to take revenge on an ancient demon.', \"Moreover, Samurai Jack incorporates various elements of Japanese mythology and folklore, blending them with futuristic and fantastical elements. This fusion of the ancient and the modern creates a unique and immersive world that is both familiar and alien, reflecting the show's central theme of a samurai lost in time.\", 'Over 1K readers have voted on the 40+ books on Best Cyberpunk Manga of All Time. Current Top 3: Ghost in the shell, Akira, Battle Angel Alita ... Cyberpunk manga is a core segment of graphic storytelling, riveting readers with its mixture of advanced technology and societal decay. ... fulfilling key elements of the cyberpunk aesthetics. View on', 'Cyberpunk, as a genre, includes a wide variety of visual aesthetics but is recognized by its encompassing theme of \"high tech, low life\". This became prominent in the 1980s. thanks to the works of authors like Philip K. Dick, Roger Zelazny, J. G. Ballard, Philip Jose Farmer, William Gibson and Harlan Ellison as they examined the impact of drug culture, technology, and the sexual revolution', \"Create smooth transitions between panels and pages. Guide the reader's gaze through complex action sequences. Establish a sense of movement or progression in your story. Think about how you can use lines, shapes, or the direction of elements in your panels to create a visual flow that naturally leads the reader from one point to another on\", \"The goal is to make the transition smooth and immersive 9. By mastering these techniques, you'll create flashbacks that enhance your comic art and engage your audience. Flashbacks are a powerful tool in visual storytelling 10. By understanding the medium, we can take our readers on a journey through time.\", \"#1: Develop secondary characters fully. It's not always necessary to craft supporting characters in as much detail as you would your primary characters. However, I do recommend developing all the same elements for those characters as you would your protagonist: personality, backstory, relationships, worldview, unique voice, and so on.\", 'The key to creating truly memorable secondary characters lies in going beyond common archetypes and stereotypes, endowing them with a unique spark that makes them shine in their own light. Start by thinking of your secondary characters as real people, with their own hopes, fears, and contradictions.', 'Dialogue Dynamics: Writing Engaging Conversations in Comics. Comic books are a unique blend of visual art and narrative storytelling, and at the heart of this creative fusion lies the power of dialogue. Engaging conversations in comics are like musical notes, carrying the melody of the story and harmonizing with the visual elements to create a', \"Summary. The first step in learning to natural dialogue is to grasp normal speech patterns. If your conversations are straightforward or your characters answer every question with direct answers, it won't sound natural. But if you incorporate the ideas above, you'll have your dialogue sounding like regular conversations.\", \"Character development is the process of creating that depth, and it involves a combination of research, creativity, and emotional exploration. Here's a guide to help you develop your character and bring them to life on stage or screen. 1. Understand the Script. The foundation of any character begins with the script.\", \"It's those relatable problems that'll encourage your readers to identify with your character's struggles. Identifying the familiar and combining it with showing, internal thoughts, basic emotions, and sympathy should help you create that connection, delivering emotional depth. — K.M. Allan. You can find me on Instagram, Facebook\", \"Tips for Writing Natural Dialogue Real Dialogue Isn't Straightforward. One of the biggest lessons I learned is that conversation is disorderly. People interrupt one another. It's not unusual for a speaker to be interrupted. The interruption may be external to the conversation, but often, the speaker is interrupted by a participant in the\", \"Graphic novelist and UK Comics Laureate Hannah Berry gives us an illustrated guide to the complexities of dialogue in comics. These seven (and a bit) tips are a fascinating insight into the visual language of comics. This is part of our Early Career Writers' Resources pack Dialogue, made possible by Arts Council England. Discover more here →\", \"In storytelling, a well-developed antagonist is as crucial as the hero. Often, the depth of a narrative hinges not just on the protagonist's journey but also on the complexity and richness of\", \"In the world of storytelling, the heroes may shine, but it's the villains who leave a lasting impression on readers and viewers alike. A well-crafted antagonist can elevate a narrative from good to unforgettable. From historical classics to contemporary blockbusters, complex villains have played pivotal roles in shaping captivating stories.\"]}}\n",
      "----------------------------------------------------------------------------------------------------\n",
      "{'generate': {'draft': '**Comic Book Issue Script: \"The Rise of the Cybernetic Samurai\"**\\n\\n**Page 1: Opening Scene**\\n\\n*Panel 1:* A panoramic view of near-future Tokyo at dusk. Neon lights flicker against the backdrop of ancient temples, cherry blossoms swirling in the wind. The city is alive, but a sense of foreboding lingers.\\n\\n*Caption:* \"In a world where tradition meets technology, honor is a fleeting shadow...\"\\n\\n*Panel 2:* Close-up of Kaito Tanaka, clad in a sleek, cybernetic armor, his eyes reflecting the neon glow. He stands on a rooftop, gazing down at the bustling streets below.\\n\\n*Kaito (thought bubble):* \"What does it mean to be a samurai in a world like this?\"\\n\\n---\\n\\n**Page 2: Inciting Incident**\\n\\n*Panel 1:* A peaceful protest in the streets, filled with citizens holding signs against corporate oppression. Tension hangs in the air.\\n\\n*Panel 2:* Suddenly, corporate enforcers arrive, armed and ready. The crowd panics.\\n\\n*Panel 3:* Kaito watches from above, his expression a mix of anger and helplessness.\\n\\n*Kaito (thought bubble):* \"I can’t just stand by...\"\\n\\n*Panel 4:* The enforcers unleash violence, and Kaito\\'s fists clench in determination.\\n\\n*Kaito (thought bubble):* \"I must reclaim my family\\'s honor.\"\\n\\n---\\n\\n**Page 3: The Call to Action**\\n\\n*Panel 1:* Inside a dimly lit hacker den, Miyuki Sato types furiously at her computer, her face illuminated by the screen\\'s glow.\\n\\n*Miyuki:* \"Kaito! You need to see this!\"\\n\\n*Panel 2:* Kaito appears in the doorway, concern etched on his face.\\n\\n*Kaito:* \"What did you find?\"\\n\\n*Panel 3:* Miyuki turns the screen to Kaito, revealing a file labeled \"Project Enslave.\"\\n\\n*Miyuki:* \"Ryoji\\'s planning something big. We have to stop him!\"\\n\\n---\\n\\n**Page 4: Training and Transformation**\\n\\n*Panel 1:* Kaito stands in a traditional dojo, surrounded by the Ghosts of the Past—ethereal samurai figures, their expressions wise and solemn.\\n\\n*Ghost 1:* \"To wield your new power, you must first understand your heart.\"\\n\\n*Panel 2:* Kaito practices with a katana, his movements fluid yet strained, as the Ghosts watch.\\n\\n*Kaito (thought bubble):* \"Am I still a samurai if I’m more machine than man?\"\\n\\n*Panel 3:* A Ghost places a hand on Kaito\\'s shoulder, offering reassurance.\\n\\n*Ghost 2:* \"Honor is not in the flesh, but in the spirit.\"\\n\\n---\\n\\n**Page 5: Infiltration and Betrayal**\\n\\n*Panel 1:* Kaito and Miyuki, clad in stealth gear, sneak through the high-tech corridors of Ryoji\\'s corporation.\\n\\n*Miyuki:* \"We’re almost there. Just a little further...\"\\n\\n*Panel 2:* A shadowy figure lurks behind them, eyes glinting with malice.\\n\\n*Panel 3:* Suddenly, alarms blare. The double agent reveals themselves, smirking.\\n\\n*Double Agent:* \"Did you really think you could outsmart us?\"\\n\\n---\\n\\n**Page 6: Climactic Showdown**\\n\\n*Panel 1:* Kaito and Ryoji face off in a grand, high-tech arena, the atmosphere charged with tension.\\n\\n*Ryoji:* \"You were always weak, Kaito. Embrace the future, or be left behind!\"\\n\\n*Panel 2:* Kaito, sword drawn, responds fiercely.\\n\\n*Kaito:* \"Power without honor is nothing!\"\\n\\n*Panel 3:* The two clash in a flurry of blades and sparks, their ideologies colliding as much as their weapons.\\n\\n---\\n\\n**Page 7: Resolution**\\n\\n*Panel 1:* Kaito stands victorious, Ryoji defeated at his feet. The city outside begins to awaken, citizens rallying against the corporate regime.\\n\\n*Kaito (thought bubble):* \"This is just the beginning...\"\\n\\n*Panel 2:* Kaito looks up at the cherry blossoms falling around him, a symbol of hope.\\n\\n*Panel 3:* Miyuki joins him, determination in her eyes.\\n\\n*Miyuki:* \"We’ll expose them all, Kaito. Together.\"\\n\\n*Panel 4:* A shadow looms over the city, hinting at a new threat.\\n\\n*Caption:* \"But in the shadows, a new power rises...\"\\n\\n---\\n\\n**Page 8: Teaser for Future Issues**\\n\\n*Panel 1:* A darkened boardroom, silhouettes of new corporate leaders discussing their plans.\\n\\n*Leader 1:* \"The Cybernetic Samurai is a problem we must eliminate.\"\\n\\n*Panel 2:* A close-up of a mysterious figure, their face obscured.\\n\\n*Mysterious Figure:* \"Let them come. We will show them true power.\"\\n\\n*Caption:* \"The fight for honor and identity continues...\"\\n\\n---\\n\\n**End of Issue One**\\n\\nThis script captures the essence of your outline, blending action, philosophy, and character development while maintaining a smooth flow between panels. Let me know if you have any critiques or if you\\'d like to see any changes!', 'revision_number': 4}}\n",
      "----------------------------------------------------------------------------------------------------\n"
     ]
    }
   ],
   "source": [
    "thread = {'configurable': {'thread_id': '1'}}\n",
    "task = 'The Rise of the Cybernetic Samurai'\n",
    "\n",
    "prompt = {\n",
    "    'task': task,\n",
    "    'max_revisions': 3,\n",
    "    'revision_number': 1,\n",
    "}\n",
    "\n",
    "events = graph.stream(prompt, thread)\n",
    "for e in events:\n",
    "    print(e)\n",
    "    print('-' * 100)"
   ]
  },
  {
   "cell_type": "code",
   "execution_count": 26,
   "id": "9ae14311-6442-4592-a1de-efc71dee665a",
   "metadata": {},
   "outputs": [
    {
     "name": "stdout",
     "output_type": "stream",
     "text": [
      "**Comic Book Issue Script: \"The Rise of the Cybernetic Samurai\"**\n",
      "\n",
      "**Page 1: Opening Scene**\n",
      "\n",
      "*Panel 1:* A panoramic view of near-future Tokyo at dusk. Neon lights flicker against the backdrop of ancient temples, cherry blossoms swirling in the wind. The city is alive, but a sense of foreboding lingers.\n",
      "\n",
      "*Caption:* \"In a world where tradition meets technology, honor is a fleeting shadow...\"\n",
      "\n",
      "*Panel 2:* Close-up of Kaito Tanaka, clad in a sleek, cybernetic armor, his eyes reflecting the neon glow. He stands on a rooftop, gazing down at the bustling streets below.\n",
      "\n",
      "*Kaito (thought bubble):* \"What does it mean to be a samurai in a world like this?\"\n",
      "\n",
      "---\n",
      "\n",
      "**Page 2: Inciting Incident**\n",
      "\n",
      "*Panel 1:* A peaceful protest in the streets, filled with citizens holding signs against corporate oppression. Tension hangs in the air.\n",
      "\n",
      "*Panel 2:* Suddenly, corporate enforcers arrive, armed and ready. The crowd panics.\n",
      "\n",
      "*Panel 3:* Kaito watches from above, his expression a mix of anger and helplessness.\n",
      "\n",
      "*Kaito (thought bubble):* \"I can’t just stand by...\"\n",
      "\n",
      "*Panel 4:* The enforcers unleash violence, and Kaito's fists clench in determination.\n",
      "\n",
      "*Kaito (thought bubble):* \"I must reclaim my family's honor.\"\n",
      "\n",
      "---\n",
      "\n",
      "**Page 3: The Call to Action**\n",
      "\n",
      "*Panel 1:* Inside a dimly lit hacker den, Miyuki Sato types furiously at her computer, her face illuminated by the screen's glow.\n",
      "\n",
      "*Miyuki:* \"Kaito! You need to see this!\"\n",
      "\n",
      "*Panel 2:* Kaito appears in the doorway, concern etched on his face.\n",
      "\n",
      "*Kaito:* \"What did you find?\"\n",
      "\n",
      "*Panel 3:* Miyuki turns the screen to Kaito, revealing a file labeled \"Project Enslave.\"\n",
      "\n",
      "*Miyuki:* \"Ryoji's planning something big. We have to stop him!\"\n",
      "\n",
      "---\n",
      "\n",
      "**Page 4: Training and Transformation**\n",
      "\n",
      "*Panel 1:* Kaito stands in a traditional dojo, surrounded by the Ghosts of the Past—ethereal samurai figures, their expressions wise and solemn.\n",
      "\n",
      "*Ghost 1:* \"To wield your new power, you must first understand your heart.\"\n",
      "\n",
      "*Panel 2:* Kaito practices with a katana, his movements fluid yet strained, as the Ghosts watch.\n",
      "\n",
      "*Kaito (thought bubble):* \"Am I still a samurai if I’m more machine than man?\"\n",
      "\n",
      "*Panel 3:* A Ghost places a hand on Kaito's shoulder, offering reassurance.\n",
      "\n",
      "*Ghost 2:* \"Honor is not in the flesh, but in the spirit.\"\n",
      "\n",
      "---\n",
      "\n",
      "**Page 5: Infiltration and Betrayal**\n",
      "\n",
      "*Panel 1:* Kaito and Miyuki, clad in stealth gear, sneak through the high-tech corridors of Ryoji's corporation.\n",
      "\n",
      "*Miyuki:* \"We’re almost there. Just a little further...\"\n",
      "\n",
      "*Panel 2:* A shadowy figure lurks behind them, eyes glinting with malice.\n",
      "\n",
      "*Panel 3:* Suddenly, alarms blare. The double agent reveals themselves, smirking.\n",
      "\n",
      "*Double Agent:* \"Did you really think you could outsmart us?\"\n",
      "\n",
      "---\n",
      "\n",
      "**Page 6: Climactic Showdown**\n",
      "\n",
      "*Panel 1:* Kaito and Ryoji face off in a grand, high-tech arena, the atmosphere charged with tension.\n",
      "\n",
      "*Ryoji:* \"You were always weak, Kaito. Embrace the future, or be left behind!\"\n",
      "\n",
      "*Panel 2:* Kaito, sword drawn, responds fiercely.\n",
      "\n",
      "*Kaito:* \"Power without honor is nothing!\"\n",
      "\n",
      "*Panel 3:* The two clash in a flurry of blades and sparks, their ideologies colliding as much as their weapons.\n",
      "\n",
      "---\n",
      "\n",
      "**Page 7: Resolution**\n",
      "\n",
      "*Panel 1:* Kaito stands victorious, Ryoji defeated at his feet. The city outside begins to awaken, citizens rallying against the corporate regime.\n",
      "\n",
      "*Kaito (thought bubble):* \"This is just the beginning...\"\n",
      "\n",
      "*Panel 2:* Kaito looks up at the cherry blossoms falling around him, a symbol of hope.\n",
      "\n",
      "*Panel 3:* Miyuki joins him, determination in her eyes.\n",
      "\n",
      "*Miyuki:* \"We’ll expose them all, Kaito. Together.\"\n",
      "\n",
      "*Panel 4:* A shadow looms over the city, hinting at a new threat.\n",
      "\n",
      "*Caption:* \"But in the shadows, a new power rises...\"\n",
      "\n",
      "---\n",
      "\n",
      "**Page 8: Teaser for Future Issues**\n",
      "\n",
      "*Panel 1:* A darkened boardroom, silhouettes of new corporate leaders discussing their plans.\n",
      "\n",
      "*Leader 1:* \"The Cybernetic Samurai is a problem we must eliminate.\"\n",
      "\n",
      "*Panel 2:* A close-up of a mysterious figure, their face obscured.\n",
      "\n",
      "*Mysterious Figure:* \"Let them come. We will show them true power.\"\n",
      "\n",
      "*Caption:* \"The fight for honor and identity continues...\"\n",
      "\n",
      "---\n",
      "\n",
      "**End of Issue One**\n",
      "\n",
      "This script captures the essence of your outline, blending action, philosophy, and character development while maintaining a smooth flow between panels. Let me know if you have any critiques or if you'd like to see any changes!\n"
     ]
    }
   ],
   "source": [
    "print(e['generate']['draft'])"
   ]
  },
  {
   "cell_type": "code",
   "execution_count": null,
   "id": "4a34f743-aace-4b23-b70f-c5a4445cbc42",
   "metadata": {},
   "outputs": [],
   "source": []
  },
  {
   "cell_type": "code",
   "execution_count": null,
   "id": "27e3304f-60ea-4f0c-ad50-4cf75bc2e01e",
   "metadata": {},
   "outputs": [],
   "source": []
  },
  {
   "cell_type": "code",
   "execution_count": null,
   "id": "ab96e996-2077-48f4-b623-4d6d565717d5",
   "metadata": {},
   "outputs": [],
   "source": []
  },
  {
   "cell_type": "code",
   "execution_count": null,
   "id": "8fdfbe44-09ba-4c4e-902a-0b90a37517c8",
   "metadata": {},
   "outputs": [],
   "source": []
  },
  {
   "cell_type": "code",
   "execution_count": null,
   "id": "25e89860-2a9c-4a7a-8b4f-a01baecdb1fc",
   "metadata": {},
   "outputs": [],
   "source": []
  },
  {
   "cell_type": "code",
   "execution_count": null,
   "id": "b105611a-be39-44f6-8d40-7743ae4e3ca3",
   "metadata": {},
   "outputs": [],
   "source": []
  },
  {
   "cell_type": "code",
   "execution_count": null,
   "id": "37722b10-d775-4091-a67c-7982795ce15d",
   "metadata": {},
   "outputs": [],
   "source": []
  },
  {
   "cell_type": "code",
   "execution_count": null,
   "id": "86b64e23-e5ad-450d-900e-0861d0d31afa",
   "metadata": {},
   "outputs": [],
   "source": []
  },
  {
   "cell_type": "code",
   "execution_count": null,
   "id": "e47f45ea-feb0-465b-8361-72792851d291",
   "metadata": {},
   "outputs": [],
   "source": []
  },
  {
   "cell_type": "code",
   "execution_count": null,
   "id": "eb5ecf1f-1b1d-483a-8078-7cf8c0444fcd",
   "metadata": {},
   "outputs": [],
   "source": []
  },
  {
   "cell_type": "code",
   "execution_count": null,
   "id": "1f66525a-3fce-4d54-abf5-2ac23408cb43",
   "metadata": {},
   "outputs": [],
   "source": []
  },
  {
   "cell_type": "code",
   "execution_count": null,
   "id": "01c4263f-a418-400f-a686-23cf91ba33df",
   "metadata": {},
   "outputs": [],
   "source": []
  },
  {
   "cell_type": "code",
   "execution_count": null,
   "id": "ac2894f2-afa4-41fa-bd2e-2dbccb878701",
   "metadata": {},
   "outputs": [],
   "source": []
  },
  {
   "cell_type": "code",
   "execution_count": null,
   "id": "7e0c704b-c340-4b6a-b7e7-15e0db27d381",
   "metadata": {},
   "outputs": [],
   "source": []
  },
  {
   "cell_type": "code",
   "execution_count": null,
   "id": "576808de-24e8-48da-abb6-46b142cdecd4",
   "metadata": {},
   "outputs": [],
   "source": []
  },
  {
   "cell_type": "code",
   "execution_count": null,
   "id": "f2749455-bfd0-4f08-93a0-530a809b59b3",
   "metadata": {},
   "outputs": [],
   "source": []
  },
  {
   "cell_type": "code",
   "execution_count": null,
   "id": "5691feec-278a-4d95-a975-b42fb505e7ba",
   "metadata": {},
   "outputs": [],
   "source": []
  },
  {
   "cell_type": "code",
   "execution_count": null,
   "id": "459c6306-719b-4de4-af26-fbfb34bcf335",
   "metadata": {},
   "outputs": [],
   "source": []
  },
  {
   "cell_type": "code",
   "execution_count": null,
   "id": "a67f9d43-1969-4be7-bb93-338d8bcfb6ae",
   "metadata": {},
   "outputs": [],
   "source": []
  },
  {
   "cell_type": "code",
   "execution_count": null,
   "id": "28dda44a-7fea-42b9-9650-f5204dd38dcb",
   "metadata": {},
   "outputs": [],
   "source": []
  },
  {
   "cell_type": "code",
   "execution_count": null,
   "id": "42f9eaa5-91ef-497e-9213-c216310a30a6",
   "metadata": {},
   "outputs": [],
   "source": []
  },
  {
   "cell_type": "code",
   "execution_count": null,
   "id": "e0595bd1-a080-4ee5-ab0a-ed1f800d3d70",
   "metadata": {},
   "outputs": [],
   "source": []
  },
  {
   "cell_type": "code",
   "execution_count": null,
   "id": "455f4d7a-70c2-484f-878a-8f1a72458533",
   "metadata": {},
   "outputs": [],
   "source": []
  },
  {
   "cell_type": "code",
   "execution_count": null,
   "id": "2af1f86b-47f0-411c-af13-1c1b0a0352f2",
   "metadata": {},
   "outputs": [],
   "source": []
  },
  {
   "cell_type": "code",
   "execution_count": null,
   "id": "6c162e26-9d9e-4247-a366-21abe2a495e7",
   "metadata": {},
   "outputs": [],
   "source": []
  },
  {
   "cell_type": "code",
   "execution_count": null,
   "id": "f782fea4-cdd5-4f3a-928d-9bb4828cc6a3",
   "metadata": {},
   "outputs": [],
   "source": []
  },
  {
   "cell_type": "code",
   "execution_count": null,
   "id": "bbc4c63c-74bb-4948-b5f1-34ed2a27ef45",
   "metadata": {},
   "outputs": [],
   "source": []
  },
  {
   "cell_type": "code",
   "execution_count": null,
   "id": "26dcc51e-5028-4227-8683-dd7b1fff9e84",
   "metadata": {},
   "outputs": [],
   "source": []
  },
  {
   "cell_type": "code",
   "execution_count": null,
   "id": "ee5248ae-e420-475e-8847-a0647e04472a",
   "metadata": {},
   "outputs": [],
   "source": []
  },
  {
   "cell_type": "code",
   "execution_count": null,
   "id": "64baa1e9-470d-4624-af51-ce43560bfbec",
   "metadata": {},
   "outputs": [],
   "source": []
  },
  {
   "cell_type": "code",
   "execution_count": null,
   "id": "e9bb0b1a-6672-4a93-a076-b275cec89e63",
   "metadata": {},
   "outputs": [],
   "source": []
  },
  {
   "cell_type": "code",
   "execution_count": null,
   "id": "74d51bc1-1750-4425-a4f1-f26d2520e939",
   "metadata": {},
   "outputs": [],
   "source": []
  },
  {
   "cell_type": "code",
   "execution_count": null,
   "id": "e6612fc0-4ad2-45df-8012-68331b544590",
   "metadata": {},
   "outputs": [],
   "source": []
  },
  {
   "cell_type": "code",
   "execution_count": null,
   "id": "542c5a7c-3db5-4acb-ab53-3dad1673ee73",
   "metadata": {},
   "outputs": [],
   "source": []
  },
  {
   "cell_type": "code",
   "execution_count": null,
   "id": "ffe18035-109d-4440-ac47-aca883107c7d",
   "metadata": {},
   "outputs": [],
   "source": []
  },
  {
   "cell_type": "code",
   "execution_count": null,
   "id": "315af8e4-6da3-43e9-a19d-2e40e293fee9",
   "metadata": {},
   "outputs": [],
   "source": []
  },
  {
   "cell_type": "code",
   "execution_count": null,
   "id": "95ea33c1-1d16-46bf-bdca-18474a0a932c",
   "metadata": {},
   "outputs": [],
   "source": []
  },
  {
   "cell_type": "code",
   "execution_count": null,
   "id": "cb2e27a7-2f32-42c5-bd3e-7de783b93435",
   "metadata": {},
   "outputs": [],
   "source": []
  }
 ],
 "metadata": {
  "kernelspec": {
   "display_name": "Python 3 (ipykernel)",
   "language": "python",
   "name": "python3"
  },
  "language_info": {
   "codemirror_mode": {
    "name": "ipython",
    "version": 3
   },
   "file_extension": ".py",
   "mimetype": "text/x-python",
   "name": "python",
   "nbconvert_exporter": "python",
   "pygments_lexer": "ipython3",
   "version": "3.11.7"
  }
 },
 "nbformat": 4,
 "nbformat_minor": 5
}
