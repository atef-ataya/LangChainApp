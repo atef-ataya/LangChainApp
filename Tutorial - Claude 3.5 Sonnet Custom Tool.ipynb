{
 "cells": [
  {
   "cell_type": "markdown",
   "id": "d9914299-3bd6-4136-a655-01182c3225c3",
   "metadata": {},
   "source": [
    "# Building Custom Tool using Claude 3.5 Sonnet "
   ]
  },
  {
   "cell_type": "markdown",
   "id": "ae6197dd-0fa5-44a7-bc0a-9c71bb7bffce",
   "metadata": {},
   "source": [
    "### Install required libraries"
   ]
  },
  {
   "cell_type": "code",
   "execution_count": 4,
   "id": "cd8be7d3-db72-450c-bec4-802e876361ea",
   "metadata": {},
   "outputs": [
    {
     "name": "stdout",
     "output_type": "stream",
     "text": [
      "\n",
      "\u001b[1m[\u001b[0m\u001b[34;49mnotice\u001b[0m\u001b[1;39;49m]\u001b[0m\u001b[39;49m A new release of pip is available: \u001b[0m\u001b[31;49m24.0\u001b[0m\u001b[39;49m -> \u001b[0m\u001b[32;49m24.1.2\u001b[0m\n",
      "\u001b[1m[\u001b[0m\u001b[34;49mnotice\u001b[0m\u001b[1;39;49m]\u001b[0m\u001b[39;49m To update, run: \u001b[0m\u001b[32;49m/opt/anaconda3/bin/python -m pip install --upgrade pip\u001b[0m\n",
      "Note: you may need to restart the kernel to use updated packages.\n"
     ]
    }
   ],
   "source": [
    "pip install -q anthropic"
   ]
  },
  {
   "cell_type": "markdown",
   "id": "d34617fb-1a92-4487-b447-6dfe6f636cf7",
   "metadata": {},
   "source": [
    "### Upgrading existing libraries"
   ]
  },
  {
   "cell_type": "code",
   "execution_count": 7,
   "id": "6c81be55-e71f-4ce5-a98e-535042ed7284",
   "metadata": {},
   "outputs": [
    {
     "name": "stdout",
     "output_type": "stream",
     "text": [
      "\n",
      "\u001b[1m[\u001b[0m\u001b[34;49mnotice\u001b[0m\u001b[1;39;49m]\u001b[0m\u001b[39;49m A new release of pip is available: \u001b[0m\u001b[31;49m24.0\u001b[0m\u001b[39;49m -> \u001b[0m\u001b[32;49m24.1.2\u001b[0m\n",
      "\u001b[1m[\u001b[0m\u001b[34;49mnotice\u001b[0m\u001b[1;39;49m]\u001b[0m\u001b[39;49m To update, run: \u001b[0m\u001b[32;49m/opt/anaconda3/bin/python -m pip install --upgrade pip\u001b[0m\n",
      "Note: you may need to restart the kernel to use updated packages.\n"
     ]
    }
   ],
   "source": [
    "pip install --upgrade -q anthropic"
   ]
  },
  {
   "cell_type": "markdown",
   "id": "de1af6d9-2d1b-49f8-9e1b-6491fd834cfd",
   "metadata": {},
   "source": [
    "### Show current version"
   ]
  },
  {
   "cell_type": "code",
   "execution_count": 10,
   "id": "5df98876-45a9-42d3-9487-d888810a4e8a",
   "metadata": {},
   "outputs": [
    {
     "name": "stdout",
     "output_type": "stream",
     "text": [
      "Name: anthropic\n",
      "Version: 0.31.2\n",
      "Summary: The official Python library for the anthropic API\n",
      "Home-page: \n",
      "Author: \n",
      "Author-email: Anthropic <support@anthropic.com>\n",
      "License: \n",
      "Location: /opt/anaconda3/lib/python3.11/site-packages\n",
      "Requires: anyio, distro, httpx, jiter, pydantic, sniffio, tokenizers, typing-extensions\n",
      "Required-by: \n",
      "Note: you may need to restart the kernel to use updated packages.\n"
     ]
    }
   ],
   "source": [
    "pip show anthropic"
   ]
  },
  {
   "cell_type": "markdown",
   "id": "819be4e4-6d69-43c9-b632-a266fa2da6db",
   "metadata": {},
   "source": [
    "### Load Environment Variable"
   ]
  },
  {
   "cell_type": "code",
   "execution_count": 13,
   "id": "70bf7973-3b62-4d9b-a543-220fa72e8152",
   "metadata": {},
   "outputs": [
    {
     "data": {
      "text/plain": [
       "True"
      ]
     },
     "execution_count": 13,
     "metadata": {},
     "output_type": "execute_result"
    }
   ],
   "source": [
    "import os\n",
    "from dotenv import load_dotenv, find_dotenv\n",
    "\n",
    "load_dotenv(find_dotenv(), override=True)"
   ]
  },
  {
   "cell_type": "markdown",
   "id": "993d8208-1d93-4e95-a5e1-d5e33d78896f",
   "metadata": {},
   "source": [
    "### Simple Message Request"
   ]
  },
  {
   "cell_type": "code",
   "execution_count": 24,
   "id": "3e1df65d-fbc1-49de-a04d-aadb9459cb47",
   "metadata": {},
   "outputs": [
    {
     "name": "stdout",
     "output_type": "stream",
     "text": [
      "Luna's Lament\n",
      "\n",
      "Aria gazed out the reinforced window of Lunar Base Alpha, her eyes tracing the stark contrast between the inky blackness of space and the pale, pockmarked surface of the Moon. She had been stationed here for three years now, part of the first long-term human settlement beyond Earth.\n",
      "\n",
      "Life on the Moon was a constant challenge. The harsh environment demanded unwavering vigilance. Every breath of recycled air, every sip of purified water, and every morsel of hydroponic food was a testament to human ingenuity and perseverance.\n",
      "\n",
      "Aria's daily routine was a delicate dance of maintaining life support systems, conducting scientific experiments, and battling the psychological toll of isolation. The Earth, a beautiful blue marble suspended in the void, was a constant reminder of what they had left behind.\n",
      "\n",
      "Despite the hardships, there were moments of breathtaking beauty. Earthrise never failed to leave Aria in awe, and the long lunar nights provided unparalleled views of the cosmos. The crew had even started a small garden in the biodome, a splash of green life amidst the grey lunar dust.\n",
      "\n",
      "As Aria suited up for her weekly surface expedition, she reflected on the pioneering spirit that had brought humanity to this alien world. The Moon was no longer just a distant celestial body – it was home, at least for now. And as she stepped out onto the regolith, leaving fresh bootprints in the dust, Aria knew that this was just the beginning of humanity's greatest adventure.\n"
     ]
    }
   ],
   "source": [
    "from anthropic import Anthropic\n",
    "client = Anthropic()\n",
    "\n",
    "model_name = 'claude-3-5-sonnet-20240620'\n",
    "\n",
    "response = client.messages.create(\n",
    "    model=model_name,\n",
    "    max_tokens=1024,\n",
    "    messages=[\n",
    "        {\n",
    "            'role':'user',\n",
    "            #'content':'Hello world!'\n",
    "            'content':'Write a short story about the life in the moon'\n",
    "        }\n",
    "    ],\n",
    "    system='You are a creative assistant that only respond with english language',\n",
    "    stop_sequences=[\"The end.\"],\n",
    "    temperature=0.9\n",
    ")\n",
    "\n",
    "print(response.content[0].text)"
   ]
  },
  {
   "cell_type": "markdown",
   "id": "0db56ee6-00b6-4f4d-9891-b731e6e24b40",
   "metadata": {},
   "source": [
    "# Calculator Tool"
   ]
  },
  {
   "cell_type": "markdown",
   "id": "b9e2fd04-53d6-4017-a02c-0e9a0ef34143",
   "metadata": {},
   "source": [
    "### 1. Define Calculator Implementation"
   ]
  },
  {
   "cell_type": "code",
   "execution_count": 36,
   "id": "4bd15170-45d6-4436-a04c-d6d5ceb0fa3b",
   "metadata": {},
   "outputs": [],
   "source": [
    "def calculator(operation, operand1, operand2):\n",
    "    if operation == \"add\":\n",
    "        return operand1 + operand2\n",
    "    elif operation == \"subtract\":\n",
    "        return operand1 - operand2\n",
    "    elif operation == \"multiply\":\n",
    "        return operand1 * operand2\n",
    "    elif operation == \"divide\":\n",
    "        if operand2 == 0:\n",
    "            raise ValueError(\"Cannot divide by zero.\")\n",
    "        return operand1 / operand2\n",
    "    else:\n",
    "        raise ValueError(f\"Unsupported operation: {operation}\")"
   ]
  },
  {
   "cell_type": "markdown",
   "id": "1407b921-90c3-4602-8654-5a976566e74b",
   "metadata": {},
   "source": [
    "### Test the function"
   ]
  },
  {
   "cell_type": "code",
   "execution_count": 39,
   "id": "2eebe925-7efa-46bf-91d2-46f4599b00b4",
   "metadata": {},
   "outputs": [
    {
     "data": {
      "text/plain": [
       "15"
      ]
     },
     "execution_count": 39,
     "metadata": {},
     "output_type": "execute_result"
    }
   ],
   "source": [
    "calculator(\"add\", 5 , 10)"
   ]
  },
  {
   "cell_type": "markdown",
   "id": "50152acf-752f-431b-9723-4871f0390cbc",
   "metadata": {},
   "source": [
    "### 2. Calculator Tool Definition"
   ]
  },
  {
   "cell_type": "code",
   "execution_count": 43,
   "id": "b7c5c88c-992a-44ca-9254-9d3a0d369442",
   "metadata": {},
   "outputs": [],
   "source": [
    "calculator_tool = {\n",
    "    \"name\":\"calculator\",\n",
    "    \"description\":\"A simple calculator that performs basic arithmetic operations\",\n",
    "    \"input_schema\":{\n",
    "        \"type\":\"object\",\n",
    "        \"properties\":{\n",
    "            \"operation\":{\n",
    "                \"type\":\"string\",\n",
    "                \"enum\":[\"add\",\"subtract\",\"multiply\",\"divide\"],\n",
    "                \"description\":\"The arithemtic operation to perform\"\n",
    "            },\n",
    "            \"operand1\":{\n",
    "                \"type\":\"number\",\n",
    "                \"description\":\"The first operand.\"\n",
    "            },\n",
    "            \"operand2\":{\n",
    "                \"type\":\"number\",\n",
    "                \"description\":\"The second operand\"\n",
    "            }\n",
    "        },\n",
    "        \"required\":[\"operation\",\"operand1\",\"operand2\"]\n",
    "    }\n",
    "}"
   ]
  },
  {
   "cell_type": "markdown",
   "id": "db71a1f4-086e-4aed-862b-aef5a2d54f83",
   "metadata": {},
   "source": [
    "### 3. Providing Claude with our Tool"
   ]
  },
  {
   "cell_type": "code",
   "execution_count": 45,
   "id": "ccf1c315-a5f3-46e1-861c-4a119af221bd",
   "metadata": {},
   "outputs": [
    {
     "name": "stdout",
     "output_type": "stream",
     "text": [
      "Message(id='msg_01LMzt2LvwjxZFUHDwSxu8sY', content=[TextBlock(text=\"Certainly! To multiply these two large numbers, I'll use the calculator function. Let me perform that calculation for you.\", type='text'), ToolUseBlock(id='toolu_0187zNGeFxK4FnXC7GQMZRjG', input={'operation': 'multiply', 'operand1': 1984135, 'operand2': 934316}, name='calculator', type='tool_use')], model='claude-3-5-sonnet-20240620', role='assistant', stop_reason='tool_use', stop_sequence=None, type='message', usage=Usage(input_tokens=452, output_tokens=117))\n"
     ]
    }
   ],
   "source": [
    "from anthropic import Anthropic\n",
    "client = Anthropic()\n",
    "\n",
    "model_name = 'claude-3-5-sonnet-20240620'\n",
    "\n",
    "response = client.messages.create(\n",
    "    model=model_name,\n",
    "    messages=[\n",
    "        {\n",
    "            'role':'user',\n",
    "            'content':'Multiply 1984135 by 934316. Only respond with the result'\n",
    "        }\n",
    "    ],\n",
    "    max_tokens=1024,\n",
    "    tools=[calculator_tool]\n",
    ")\n",
    "\n",
    "print(response)"
   ]
  },
  {
   "cell_type": "code",
   "execution_count": 49,
   "id": "9d7c7bf2-e87b-4131-adb4-74e7aeb50117",
   "metadata": {},
   "outputs": [
    {
     "data": {
      "text/plain": [
       "'tool_use'"
      ]
     },
     "execution_count": 49,
     "metadata": {},
     "output_type": "execute_result"
    }
   ],
   "source": [
    "response.stop_reason"
   ]
  },
  {
   "cell_type": "code",
   "execution_count": 51,
   "id": "2a701431-b86c-4935-9d24-0706ec22b1d2",
   "metadata": {},
   "outputs": [
    {
     "data": {
      "text/plain": [
       "[TextBlock(text=\"Certainly! To multiply these two large numbers, I'll use the calculator function. Let me perform that calculation for you.\", type='text'),\n",
       " ToolUseBlock(id='toolu_0187zNGeFxK4FnXC7GQMZRjG', input={'operation': 'multiply', 'operand1': 1984135, 'operand2': 934316}, name='calculator', type='tool_use')]"
      ]
     },
     "execution_count": 51,
     "metadata": {},
     "output_type": "execute_result"
    }
   ],
   "source": [
    "response.content"
   ]
  },
  {
   "cell_type": "code",
   "execution_count": 57,
   "id": "ed8e6dd5-e891-4986-92ce-859df887be7d",
   "metadata": {},
   "outputs": [
    {
     "name": "stdout",
     "output_type": "stream",
     "text": [
      "The tool name claude wants to call is: calculator\n",
      "The inputs claude want to call it with are: {'operation': 'multiply', 'operand1': 1984135, 'operand2': 934316}\n"
     ]
    }
   ],
   "source": [
    "tool_name = response.content[1].name\n",
    "tool_inputs = response.content[1].input\n",
    "\n",
    "print(\"The tool name claude wants to call is:\", tool_name)\n",
    "print(\"The inputs claude want to call it with are:\", tool_inputs)"
   ]
  },
  {
   "cell_type": "markdown",
   "id": "c2d72322-f65b-4180-8d3e-ef26a32a52b8",
   "metadata": {},
   "source": [
    "### Putting it all together"
   ]
  },
  {
   "cell_type": "code",
   "execution_count": 59,
   "id": "59108b03-a198-442c-918b-1cd8f5d65d0f",
   "metadata": {},
   "outputs": [],
   "source": [
    "def calculator(operation, operand1, operand2):\n",
    "    if operation == \"add\":\n",
    "        return operand1 + operand2\n",
    "    elif operation == \"subtract\":\n",
    "        return operand1 - operand2\n",
    "    elif operation == \"multiply\":\n",
    "        return operand1 * operand2\n",
    "    elif operation == \"divide\":\n",
    "        if operand2 == 0:\n",
    "            raise ValueError(\"Cannot divide by zero.\")\n",
    "        return operand1 / operand2\n",
    "    else:\n",
    "        raise ValueError(f\"Unsupported operation: {operation}\")\n",
    "\n",
    "calculator_tool = {\n",
    "    \"name\":\"calculator\",\n",
    "    \"description\":\"A simple calculator that performs basic arithmetic operations\",\n",
    "    \"input_schema\":{\n",
    "        \"type\":\"object\",\n",
    "        \"properties\":{\n",
    "            \"operation\":{\n",
    "                \"type\":\"string\",\n",
    "                \"enum\":[\"add\",\"subtract\",\"multiply\",\"divide\"],\n",
    "                \"description\":\"The arithemtic operation to perform\"\n",
    "            },\n",
    "            \"operand1\":{\n",
    "                \"type\":\"number\",\n",
    "                \"description\":\"The first operand.\"\n",
    "            },\n",
    "            \"operand2\":{\n",
    "                \"type\":\"number\",\n",
    "                \"description\":\"The second operand\"\n",
    "            }\n",
    "        },\n",
    "        \"required\":[\"operation\",\"operand1\",\"operand2\"]\n",
    "    }\n",
    "}\n",
    "\n",
    "\n",
    "def prompt_claude(prompt):\n",
    "    response = client.messages.create(\n",
    "        model=model_name,\n",
    "        messages = [\n",
    "            {\n",
    "                'role':'user',\n",
    "                'content':prompt\n",
    "            }\n",
    "        ],\n",
    "        system=\"You have access to tools, but only use them when necessary. If a tool is not required, respond as normal.\",\n",
    "        max_tokens=500,\n",
    "        tools=[calculator_tool]\n",
    "    )\n",
    "\n",
    "    if response.stop_reason == \"tool_use\":\n",
    "        tool_use = response.content[-1]\n",
    "        tool_name = tool_use.name\n",
    "        tool_input = tool_use.input\n",
    "\n",
    "        if tool_name == \"calculator\":\n",
    "            print(\"Claude wants to use the calculator tool\")\n",
    "            operation = tool_input[\"operation\"]\n",
    "            operand1 = tool_input[\"operand1\"]\n",
    "            operand2 = tool_input[\"operand2\"]\n",
    "\n",
    "            try:\n",
    "                result = calculator(operation, operand1, operand2)\n",
    "                print(\"Calculation result is:\", result)\n",
    "            except ValueError as e:\n",
    "                print(f\"Error: {str(e)}\")\n",
    "    else:\n",
    "        print(\"Claude didn't want to use a tool\")\n",
    "        print(\"Claude responded with:\")\n",
    "        print(response.content[0].text)"
   ]
  },
  {
   "cell_type": "code",
   "execution_count": 63,
   "id": "2abd602c-d365-4a9f-8c15-7e61a06ab5db",
   "metadata": {},
   "outputs": [
    {
     "name": "stdout",
     "output_type": "stream",
     "text": [
      "Claude wants to use the calculator tool\n",
      "Calculation result is: 11865.66\n"
     ]
    }
   ],
   "source": [
    "prompt_claude(\"What is 348.99 times 34\")"
   ]
  },
  {
   "cell_type": "code",
   "execution_count": 65,
   "id": "4828c434-9d4d-4f6c-9d72-349317ba692d",
   "metadata": {},
   "outputs": [
    {
     "name": "stdout",
     "output_type": "stream",
     "text": [
      "Claude didn't want to use a tool\n",
      "Claude responded with:\n",
      "I apologize, but I don't have a specific tool for writing haiku or poetry. However, I'd be happy to compose a haiku about the moon for you using my general language capabilities. Here's a haiku about the moon:\n",
      "\n",
      "Silvery moonlight\n",
      "Bathes the quiet night in dreams\n",
      "Celestial guide\n",
      "\n",
      "This haiku follows the traditional 5-7-5 syllable pattern and captures the serene, dreamlike quality often associated with the moon. The moon is portrayed as a celestial guide, illuminating the night with its soft, silver light.\n"
     ]
    }
   ],
   "source": [
    "prompt_claude(\"Write a hiaku about the moon\")"
   ]
  },
  {
   "cell_type": "markdown",
   "id": "ac649300-8268-446f-9a18-f07720217abe",
   "metadata": {},
   "source": [
    "### Research Assistant Tool"
   ]
  },
  {
   "cell_type": "code",
   "execution_count": null,
   "id": "8b15df98-1e41-46a1-b52e-f899a6c035fa",
   "metadata": {},
   "outputs": [],
   "source": [
    "import wikipedia\n",
    "def generate_wikipedia_reading_list(research_topic, article_titles):\n",
    "    wikipedia_articles = []\n",
    "    for t in article_titles:\n",
    "        results = wikipedia.search(t)\n",
    "        try:\n",
    "            page = wikipedia.page(results[0])\n",
    "            title = page.title\n",
    "            url = page.url\n",
    "            wikipedia_articles.append({\"title\": title, \"url\": url})\n",
    "        except:\n",
    "            continue\n",
    "    add_to_research_reading_file(wikipedia_articles, research_topic)\n",
    "\n",
    "def add_to_research_reading_file(articles, topic):\n",
    "    with open(\"Files/research_reading.md\", \"a\", encoding=\"utf-8\") as file:\n",
    "        file.write(f\"## {topic} \\n\")\n",
    "        for article in articles:\n",
    "            title = article[\"title\"]\n",
    "            url = article[\"url\"]\n",
    "            file.write(f\"* [{title}]({url}) \\n\")\n",
    "        file.write(f\"\\n\\n\")"
   ]
  },
  {
   "cell_type": "code",
   "execution_count": null,
   "id": "2fcef84c-51d9-47f6-a1c3-de44d501fb72",
   "metadata": {},
   "outputs": [],
   "source": [
    "research_tool = {\n",
    "    \"name\":\"generate_wikipedia_reading_list\",\n",
    "    \"description\":\"Generate a list of Wikipedia articles relevant to a research topic.\",\n",
    "    \"input_schema\":{\n",
    "        \"type\":\"object\",\n",
    "        \"properties\":{\n",
    "            \"research_topic\":{\n",
    "                \"type\":\"string\",\n",
    "                \"description\":\"The topic to research.\"\n",
    "            },\n",
    "            \"article_titles\":{\n",
    "                \"type\":\"array\",\n",
    "                \"items\":{\"type\":\"string\"},\n",
    "                \"description\":\"Titles of relevant Wikipedia articles.\",\n",
    "            },\n",
    "        },\n",
    "        \"required\":[\"research_topic\",\"artilce_titles\"],\n",
    "    },\n",
    "}"
   ]
  },
  {
   "cell_type": "code",
   "execution_count": 68,
   "id": "7044ae26-4907-4646-96e3-600ca4dc8578",
   "metadata": {},
   "outputs": [],
   "source": [
    "# Here's your starter code!\n",
    "import wikipedia\n",
    "def generate_wikipedia_reading_list(research_topic, article_titles):\n",
    "    wikipedia_articles = []\n",
    "    for t in article_titles:\n",
    "        results = wikipedia.search(t)\n",
    "        try:\n",
    "            page = wikipedia.page(results[0])\n",
    "            title = page.title\n",
    "            url = page.url\n",
    "            wikipedia_articles.append({\"title\": title, \"url\": url})\n",
    "        except:\n",
    "            continue\n",
    "    add_to_research_reading_file(wikipedia_articles, research_topic)\n",
    "\n",
    "def add_to_research_reading_file(articles, topic):\n",
    "    with open(\"Files/research_reading.md\", \"a\", encoding=\"utf-8\") as file:\n",
    "        file.write(f\"## {topic} \\n\")\n",
    "        for article in articles:\n",
    "            title = article[\"title\"]\n",
    "            url = article[\"url\"]\n",
    "            file.write(f\"* [{title}]({url}) \\n\")\n",
    "        file.write(f\"\\n\\n\")\n",
    "\n",
    "research_tool = {\n",
    "    \"name\":\"generate_wikipedia_reading_list\",\n",
    "    \"description\":\"Generate a list of Wikipedia articles relevant to a research topic.\",\n",
    "    \"input_schema\":{\n",
    "        \"type\":\"object\",\n",
    "        \"properties\":{\n",
    "            \"research_topic\":{\n",
    "                \"type\":\"string\",\n",
    "                \"description\":\"The topic to research.\"\n",
    "            },\n",
    "            \"article_titles\":{\n",
    "                \"type\":\"array\",\n",
    "                \"items\":{\"type\":\"string\"},\n",
    "                \"description\":\"Titles of relevant Wikipedia articles.\",\n",
    "            },\n",
    "        },\n",
    "        \"required\":[\"research_topic\",\"artilce_titles\"],\n",
    "    },\n",
    "}\n",
    "        \n",
    "def get_research_help(topic, num_articles=3):\n",
    "    prompt = (\n",
    "       f\"I need your help gathering research on the topic of '{topic}'.\"\n",
    "       f\"Please generate {num_articles} relevant Wikipedia article titles for me.\"\n",
    "    )\n",
    "    response = client.messages.create(\n",
    "        model=model_name,\n",
    "        system=\"You have access to tools, but only use them when necessary. If a tool is not required, respond as normal\",\n",
    "        messages=[{'role':'user', 'content':prompt}],\n",
    "        max_tokens=500,\n",
    "        tools=[research_tool],\n",
    "    )\n",
    "    if response.stop_reason == \"tool_use\":\n",
    "        tool_use=response.content[-1]\n",
    "        article_titles = tool_use.input.get(\"article_titles\",[])\n",
    "        if article_titles:\n",
    "            generate_wikipedia_reading_list(topic, article_titles)\n",
    "        else:\n",
    "            print(\"Claude did not generate any article titles.\")\n",
    "    elif response.stop_reason == \"end_turn\":\n",
    "        print(\"Claude responded with:\")\n",
    "        print(response.content[0].text)"
   ]
  },
  {
   "cell_type": "code",
   "execution_count": 70,
   "id": "b7e376cc-b13b-401a-9b97-6513aafdd6a1",
   "metadata": {},
   "outputs": [],
   "source": [
    "get_research_help(\"Are animals conscious?\")"
   ]
  },
  {
   "cell_type": "code",
   "execution_count": 72,
   "id": "2ae1cc92-bc54-4346-836d-7dc47cf52025",
   "metadata": {},
   "outputs": [],
   "source": [
    "get_research_help(\"Pirates Across the World\")"
   ]
  },
  {
   "cell_type": "code",
   "execution_count": null,
   "id": "777567de-122b-48fd-85ce-d908a8340c93",
   "metadata": {},
   "outputs": [],
   "source": []
  },
  {
   "cell_type": "code",
   "execution_count": null,
   "id": "2f74468e-dbbf-41a4-9661-649f856efaf7",
   "metadata": {},
   "outputs": [],
   "source": []
  },
  {
   "cell_type": "code",
   "execution_count": null,
   "id": "80a1c22b-c1e3-4b94-8999-36d5ee42bc8e",
   "metadata": {},
   "outputs": [],
   "source": []
  },
  {
   "cell_type": "code",
   "execution_count": null,
   "id": "6f480af6-1ffa-46b6-a655-c00f032cdadf",
   "metadata": {},
   "outputs": [],
   "source": []
  },
  {
   "cell_type": "code",
   "execution_count": null,
   "id": "cd83ee56-247d-4637-b6f5-daacde189286",
   "metadata": {},
   "outputs": [],
   "source": []
  },
  {
   "cell_type": "code",
   "execution_count": null,
   "id": "d6015507-f553-4f36-8027-42bde1f1e802",
   "metadata": {},
   "outputs": [],
   "source": []
  },
  {
   "cell_type": "code",
   "execution_count": null,
   "id": "b73ec0b3-f138-48ca-9851-ad69f6b1eab5",
   "metadata": {},
   "outputs": [],
   "source": []
  },
  {
   "cell_type": "code",
   "execution_count": null,
   "id": "62493e74-2362-4b65-82d5-f28473c65799",
   "metadata": {},
   "outputs": [],
   "source": []
  },
  {
   "cell_type": "code",
   "execution_count": null,
   "id": "e721356c-d973-459a-ba51-6b3f92ab6bd5",
   "metadata": {},
   "outputs": [],
   "source": []
  },
  {
   "cell_type": "code",
   "execution_count": null,
   "id": "05fce654-f050-459a-a5da-b3c0c97dae4d",
   "metadata": {},
   "outputs": [],
   "source": []
  },
  {
   "cell_type": "code",
   "execution_count": null,
   "id": "80651a03-2882-44ee-9443-b4d4fff6372e",
   "metadata": {},
   "outputs": [],
   "source": []
  },
  {
   "cell_type": "code",
   "execution_count": null,
   "id": "9cd365f4-8cac-40db-b121-05fcfb83478a",
   "metadata": {},
   "outputs": [],
   "source": []
  },
  {
   "cell_type": "code",
   "execution_count": null,
   "id": "800b2d7b-c3eb-48d0-96d3-68936974e295",
   "metadata": {},
   "outputs": [],
   "source": []
  },
  {
   "cell_type": "code",
   "execution_count": null,
   "id": "218e1187-e288-4597-8007-507477863cea",
   "metadata": {},
   "outputs": [],
   "source": []
  },
  {
   "cell_type": "code",
   "execution_count": null,
   "id": "4c9a4c5f-2685-490b-ad09-e250f5ece258",
   "metadata": {},
   "outputs": [],
   "source": []
  },
  {
   "cell_type": "code",
   "execution_count": null,
   "id": "5312a80e-6e96-42ab-9f2b-76b6452c65d3",
   "metadata": {},
   "outputs": [],
   "source": []
  },
  {
   "cell_type": "code",
   "execution_count": null,
   "id": "5f0d12b3-caa0-479d-9b42-fd072c8fd3f9",
   "metadata": {},
   "outputs": [],
   "source": []
  },
  {
   "cell_type": "code",
   "execution_count": null,
   "id": "82e8fd54-485a-4128-8b61-72fcdac40085",
   "metadata": {},
   "outputs": [],
   "source": []
  },
  {
   "cell_type": "code",
   "execution_count": null,
   "id": "15e38f52-56b5-4bcd-9e8a-459863117feb",
   "metadata": {},
   "outputs": [],
   "source": []
  },
  {
   "cell_type": "code",
   "execution_count": null,
   "id": "55fceed9-86c2-40bc-92e8-e485199c313f",
   "metadata": {},
   "outputs": [],
   "source": []
  },
  {
   "cell_type": "code",
   "execution_count": null,
   "id": "04649d6b-36b7-42ff-b523-1cc60ae6cecf",
   "metadata": {},
   "outputs": [],
   "source": []
  },
  {
   "cell_type": "code",
   "execution_count": null,
   "id": "f60a074b-0b91-4cdf-a02d-dcda0720789d",
   "metadata": {},
   "outputs": [],
   "source": []
  },
  {
   "cell_type": "code",
   "execution_count": null,
   "id": "2d581bc8-7b02-4754-94f5-2d7c836b3e40",
   "metadata": {},
   "outputs": [],
   "source": []
  },
  {
   "cell_type": "code",
   "execution_count": null,
   "id": "1d1225fe-70d5-4f9c-bd68-b14c643544e8",
   "metadata": {},
   "outputs": [],
   "source": []
  },
  {
   "cell_type": "code",
   "execution_count": null,
   "id": "0f4ac723-8cec-4b8e-9019-e91f02094afa",
   "metadata": {},
   "outputs": [],
   "source": []
  },
  {
   "cell_type": "code",
   "execution_count": null,
   "id": "ffa3c3ac-e6de-44b4-b2b2-18eb5187ee25",
   "metadata": {},
   "outputs": [],
   "source": []
  },
  {
   "cell_type": "code",
   "execution_count": null,
   "id": "c5361521-1399-46d1-a97a-6c2b993c9d21",
   "metadata": {},
   "outputs": [],
   "source": []
  },
  {
   "cell_type": "code",
   "execution_count": null,
   "id": "2be4b51d-206a-437a-9104-1eb6e82bc312",
   "metadata": {},
   "outputs": [],
   "source": []
  },
  {
   "cell_type": "code",
   "execution_count": null,
   "id": "2c331a7f-cb56-4c35-af4e-464797949ce2",
   "metadata": {},
   "outputs": [],
   "source": []
  },
  {
   "cell_type": "code",
   "execution_count": null,
   "id": "25dd50fa-9ae1-4522-bddc-dd05dcd310fd",
   "metadata": {},
   "outputs": [],
   "source": []
  },
  {
   "cell_type": "code",
   "execution_count": null,
   "id": "15bf829a-e103-41de-8d61-5cf8a32dfcbe",
   "metadata": {},
   "outputs": [],
   "source": []
  },
  {
   "cell_type": "code",
   "execution_count": null,
   "id": "dd501697-b375-4bed-a261-a077bf4ced25",
   "metadata": {},
   "outputs": [],
   "source": []
  },
  {
   "cell_type": "code",
   "execution_count": null,
   "id": "ff63ae1a-d378-42d0-8115-af3a90974abd",
   "metadata": {},
   "outputs": [],
   "source": []
  },
  {
   "cell_type": "code",
   "execution_count": null,
   "id": "a0417d6d-1f23-4f61-92cd-4bb13fd76dc6",
   "metadata": {},
   "outputs": [],
   "source": []
  }
 ],
 "metadata": {
  "kernelspec": {
   "display_name": "Python 3 (ipykernel)",
   "language": "python",
   "name": "python3"
  },
  "language_info": {
   "codemirror_mode": {
    "name": "ipython",
    "version": 3
   },
   "file_extension": ".py",
   "mimetype": "text/x-python",
   "name": "python",
   "nbconvert_exporter": "python",
   "pygments_lexer": "ipython3",
   "version": "3.11.7"
  }
 },
 "nbformat": 4,
 "nbformat_minor": 5
}
