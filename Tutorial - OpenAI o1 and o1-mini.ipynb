{
 "cells": [
  {
   "cell_type": "markdown",
   "id": "e8ce07da-8653-4c93-baa5-e333f7cb824e",
   "metadata": {},
   "source": [
    "# OpenAI o1 & o1-mini demo"
   ]
  },
  {
   "cell_type": "markdown",
   "id": "5af8ec97-604b-4d7d-9614-64b9439aec0f",
   "metadata": {},
   "source": [
    "### Install required libraries"
   ]
  },
  {
   "cell_type": "code",
   "execution_count": 62,
   "id": "c25d8f14-a8a3-4fa5-9f14-c4ab76b1aacd",
   "metadata": {},
   "outputs": [],
   "source": [
    "!pip install openai -q"
   ]
  },
  {
   "cell_type": "code",
   "execution_count": 63,
   "id": "ff82f97b-a670-402c-88d2-5c9bca654da5",
   "metadata": {},
   "outputs": [],
   "source": [
    "!pip install --upgrade openai -q"
   ]
  },
  {
   "cell_type": "markdown",
   "id": "4a14db2a-724a-44a6-8dd2-cd134be0c908",
   "metadata": {},
   "source": [
    "### Load Environment variables"
   ]
  },
  {
   "cell_type": "code",
   "execution_count": 66,
   "id": "8867a51b-4bf3-4a5d-bce8-de49409f822c",
   "metadata": {},
   "outputs": [
    {
     "data": {
      "text/plain": [
       "True"
      ]
     },
     "execution_count": 66,
     "metadata": {},
     "output_type": "execute_result"
    }
   ],
   "source": [
    "from openai import OpenAI\n",
    "from dotenv import load_dotenv, find_dotenv\n",
    "\n",
    "load_dotenv(find_dotenv(), override=True)"
   ]
  },
  {
   "cell_type": "markdown",
   "id": "af9531dc-7377-41a3-8372-8e560395ba70",
   "metadata": {},
   "source": [
    "### Define the Chatbot Application"
   ]
  },
  {
   "cell_type": "code",
   "execution_count": 78,
   "id": "9b4a93f4-2c67-4eb2-9f15-fa20d40b5522",
   "metadata": {},
   "outputs": [],
   "source": [
    "def chat_with_o1_mini(prompt):\n",
    "    client = OpenAI()\n",
    "    response = client.chat.completions.create(\n",
    "        model=\"o1-mini\",\n",
    "        messages=[{\"role\": \"user\", \"content\": prompt}]\n",
    "    )\n",
    "    return response.choices[0].message.content"
   ]
  },
  {
   "cell_type": "markdown",
   "id": "6eef7557-9a4d-4b46-96f6-2609f878ab65",
   "metadata": {},
   "source": [
    "### Test the Chatbot"
   ]
  },
  {
   "cell_type": "code",
   "execution_count": 81,
   "id": "c6763990-f2f2-424d-ab2f-497816ece701",
   "metadata": {},
   "outputs": [
    {
     "name": "stdout",
     "output_type": "stream",
     "text": [
      "AI Response: Certainly! Let's find the **indefinite integral** (also known as the antiderivative) of \\( x^2 \\).\n",
      "\n",
      "### Problem:\n",
      "\\[\n",
      "\\int x^2 \\, dx\n",
      "\\]\n",
      "\n",
      "### Solution:\n",
      "To compute the integral of \\( x^2 \\), we can use the **power rule for integration**. The power rule states:\n",
      "\n",
      "\\[\n",
      "\\int x^n \\, dx = \\frac{x^{n+1}}{n+1} + C \\quad \\text{(where \\( n \\neq -1 \\))}\n",
      "\\]\n",
      "\n",
      "Here, \\( n = 2 \\). Applying the power rule:\n",
      "\n",
      "\\[\n",
      "\\int x^2 \\, dx = \\frac{x^{2+1}}{2+1} + C = \\frac{x^3}{3} + C\n",
      "\\]\n",
      "\n",
      "### Final Answer:\n",
      "\\[\n",
      "\\int x^2 \\, dx = \\frac{1}{3}x^3 + C\n",
      "\\]\n",
      "\n",
      "Where \\( C \\) is the **constant of integration**, representing an infinite number of possible antiderivatives differing by a constant.\n",
      "\n",
      "---\n",
      "\n",
      "**Example:**\n",
      "\n",
      "If you want to evaluate the integral from \\( x = 0 \\) to \\( x = 2 \\):\n",
      "\n",
      "\\[\n",
      "\\int_{0}^{2} x^2 \\, dx = \\left[ \\frac{x^3}{3} \\right]_0^2 = \\frac{2^3}{3} - \\frac{0^3}{3} = \\frac{8}{3} - 0 = \\frac{8}{3}\n",
      "\\]\n",
      "\n",
      "So, the definite integral of \\( x^2 \\) from 0 to 2 is \\( \\frac{8}{3} \\).\n",
      "\n",
      "If you have any more questions or need further clarification, feel free to ask!\n"
     ]
    }
   ],
   "source": [
    "prompt = \"Can you solve this math problem for me? What is the integral of x^2?\"\n",
    "response = chat_with_o1_mini(prompt)\n",
    "print(\"AI Response:\", response)"
   ]
  },
  {
   "cell_type": "code",
   "execution_count": null,
   "id": "4dc4c608-f1a8-403b-a55d-171ad37d26a0",
   "metadata": {},
   "outputs": [],
   "source": []
  },
  {
   "cell_type": "code",
   "execution_count": null,
   "id": "6f2bda36-5464-4baa-9323-8bfa9dd357c6",
   "metadata": {},
   "outputs": [],
   "source": []
  },
  {
   "cell_type": "code",
   "execution_count": null,
   "id": "868a5b6d-22e1-4a56-8e9a-0228f9bbecf8",
   "metadata": {},
   "outputs": [],
   "source": []
  },
  {
   "cell_type": "code",
   "execution_count": null,
   "id": "9faf1ca7-917a-4e71-b56f-fdbdd3e6254b",
   "metadata": {},
   "outputs": [],
   "source": []
  },
  {
   "cell_type": "code",
   "execution_count": null,
   "id": "01518516-f371-4ebd-b0fb-9dc5915d53c8",
   "metadata": {},
   "outputs": [],
   "source": []
  },
  {
   "cell_type": "code",
   "execution_count": null,
   "id": "3c3e79c3-e0c8-4094-a74b-d2344b523dcc",
   "metadata": {},
   "outputs": [],
   "source": []
  },
  {
   "cell_type": "code",
   "execution_count": null,
   "id": "dba9df14-f022-4c7e-8096-7a44b0db9fe9",
   "metadata": {},
   "outputs": [],
   "source": []
  },
  {
   "cell_type": "code",
   "execution_count": null,
   "id": "fbe308ae-0341-4634-8e03-fc08c028aa12",
   "metadata": {},
   "outputs": [],
   "source": []
  },
  {
   "cell_type": "code",
   "execution_count": null,
   "id": "299b20e1-494d-4122-b93c-37dc8e710113",
   "metadata": {},
   "outputs": [],
   "source": []
  },
  {
   "cell_type": "code",
   "execution_count": null,
   "id": "fd5deb2b-daf1-4cc8-98f5-ceb90e6ab33e",
   "metadata": {},
   "outputs": [],
   "source": []
  },
  {
   "cell_type": "code",
   "execution_count": null,
   "id": "618d43d1-1cf8-41f3-915e-ac491da7655e",
   "metadata": {},
   "outputs": [],
   "source": []
  },
  {
   "cell_type": "code",
   "execution_count": null,
   "id": "18956ec0-ebac-45e6-83d8-4f11bd559fdc",
   "metadata": {},
   "outputs": [],
   "source": []
  },
  {
   "cell_type": "code",
   "execution_count": null,
   "id": "d0787861-409c-43b0-8a19-4bc8ba814c4e",
   "metadata": {},
   "outputs": [],
   "source": []
  },
  {
   "cell_type": "code",
   "execution_count": null,
   "id": "cdc9df23-b5c4-4224-8e44-8528123361ae",
   "metadata": {},
   "outputs": [],
   "source": []
  },
  {
   "cell_type": "code",
   "execution_count": null,
   "id": "66172388-cb4f-4ce9-bb08-5037b4893033",
   "metadata": {},
   "outputs": [],
   "source": []
  },
  {
   "cell_type": "code",
   "execution_count": null,
   "id": "db6a6aa3-0c31-4a2e-a1c0-a5a760a74c37",
   "metadata": {},
   "outputs": [],
   "source": []
  },
  {
   "cell_type": "code",
   "execution_count": null,
   "id": "65ceed4e-54d6-4abb-abde-85ced69e908b",
   "metadata": {},
   "outputs": [],
   "source": []
  },
  {
   "cell_type": "code",
   "execution_count": null,
   "id": "1ccfe146-9ea2-4508-89f5-0599305de9d2",
   "metadata": {},
   "outputs": [],
   "source": []
  },
  {
   "cell_type": "code",
   "execution_count": null,
   "id": "4d9b3396-6090-40df-98c6-0d3427eafb62",
   "metadata": {},
   "outputs": [],
   "source": []
  },
  {
   "cell_type": "code",
   "execution_count": null,
   "id": "11f1cda0-aa89-47ab-b18c-f2f97954e526",
   "metadata": {},
   "outputs": [],
   "source": []
  },
  {
   "cell_type": "code",
   "execution_count": null,
   "id": "0cd7fb3d-3f59-4a4d-81ae-7d15bb426381",
   "metadata": {},
   "outputs": [],
   "source": []
  }
 ],
 "metadata": {
  "kernelspec": {
   "display_name": "Python 3 (ipykernel)",
   "language": "python",
   "name": "python3"
  },
  "language_info": {
   "codemirror_mode": {
    "name": "ipython",
    "version": 3
   },
   "file_extension": ".py",
   "mimetype": "text/x-python",
   "name": "python",
   "nbconvert_exporter": "python",
   "pygments_lexer": "ipython3",
   "version": "3.11.7"
  }
 },
 "nbformat": 4,
 "nbformat_minor": 5
}
