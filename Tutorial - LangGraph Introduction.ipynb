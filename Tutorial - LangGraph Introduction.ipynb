{
 "cells": [
  {
   "cell_type": "markdown",
   "id": "9bcedbc9-e1a0-497c-9ff0-159f22b74a74",
   "metadata": {},
   "source": [
    "# LangGraph Introduction"
   ]
  },
  {
   "cell_type": "markdown",
   "id": "55718b56-acf7-4818-b7b8-be18a22c714f",
   "metadata": {},
   "source": [
    "### Install Required Libraries"
   ]
  },
  {
   "cell_type": "code",
   "execution_count": 13,
   "id": "dd2b280a-6896-4df8-a799-3e10f7d17510",
   "metadata": {},
   "outputs": [
    {
     "name": "stdout",
     "output_type": "stream",
     "text": [
      "Note: you may need to restart the kernel to use updated packages.\n"
     ]
    }
   ],
   "source": [
    "pip install --upgrade -q openai langchain langchain-openai langchain-community langgraph"
   ]
  },
  {
   "cell_type": "markdown",
   "id": "07f4822b-9878-4f7d-acf8-19e8bd38c3a0",
   "metadata": {},
   "source": [
    "### Load Environment Variables"
   ]
  },
  {
   "cell_type": "code",
   "execution_count": 15,
   "id": "9b8e2f27-b5c3-496a-bb76-643b7245d872",
   "metadata": {},
   "outputs": [
    {
     "name": "stdout",
     "output_type": "stream",
     "text": [
      "API Key Loaded True\n"
     ]
    }
   ],
   "source": [
    "import os\n",
    "from dotenv import load_dotenv, find_dotenv\n",
    "load_dotenv(find_dotenv(), override=True)\n",
    "\n",
    "os.environ.get('OPENAI_API_KEY')\n",
    "\n",
    "print(\"API Key Loaded\", os.environ.get('OPENAI_API_KEY') is not None)"
   ]
  },
  {
   "cell_type": "markdown",
   "id": "b2d2645c-1654-4534-80ae-90243ee41798",
   "metadata": {},
   "source": [
    "### Import Necessary Libraries"
   ]
  },
  {
   "cell_type": "code",
   "execution_count": 17,
   "id": "3ace88c2-c656-4083-a59d-e4836018883b",
   "metadata": {},
   "outputs": [],
   "source": [
    "from langgraph.graph import StateGraph\n",
    "from typing import Annotated\n",
    "from typing_extensions import TypedDict\n",
    "from langgraph.graph.message import add_messages\n",
    "from langchain_openai import ChatOpenAI"
   ]
  },
  {
   "cell_type": "markdown",
   "id": "098865ff-86e6-44e5-81f8-f1e4eccebef3",
   "metadata": {},
   "source": [
    "### Create the State Graph"
   ]
  },
  {
   "cell_type": "code",
   "execution_count": 19,
   "id": "98d32686-faff-4404-9162-9f3a26d29b95",
   "metadata": {},
   "outputs": [],
   "source": [
    "class State(TypedDict):\n",
    "    messages: Annotated[list, add_messages]\n",
    "\n",
    "graph_builder = StateGraph(State)"
   ]
  },
  {
   "cell_type": "markdown",
   "id": "0b96eab1-247b-4525-bd23-f813e0455edb",
   "metadata": {},
   "source": [
    "### Create an instance of OpenAI"
   ]
  },
  {
   "cell_type": "code",
   "execution_count": 21,
   "id": "bf3e5cd7-a130-427b-956d-e4d3d271f478",
   "metadata": {},
   "outputs": [],
   "source": [
    "llm = ChatOpenAI(model_name='gpt-4o-mini', temperature=0.5)"
   ]
  },
  {
   "cell_type": "markdown",
   "id": "60d08835-234b-4faf-9d39-43fd2b8d735a",
   "metadata": {},
   "source": [
    "### Define the Chatbot Function"
   ]
  },
  {
   "cell_type": "code",
   "execution_count": 23,
   "id": "1cc8c9bf-df94-4a3c-8e59-b43ce48a3d9c",
   "metadata": {},
   "outputs": [],
   "source": [
    "def chatbot(state: State):\n",
    "    response = llm.invoke(state[\"messages\"])\n",
    "    return {\"messages\": [response]}"
   ]
  },
  {
   "cell_type": "markdown",
   "id": "66aac93a-ebbc-4dcf-ad72-e786996953db",
   "metadata": {},
   "source": [
    "### Add the node to the Graph"
   ]
  },
  {
   "cell_type": "code",
   "execution_count": 25,
   "id": "4a06802b-a81f-44cc-b6ca-8c85fb3199eb",
   "metadata": {},
   "outputs": [],
   "source": [
    "graph_builder.add_node(\"chatbot\", chatbot)\n",
    "graph_builder.set_entry_point(\"chatbot\")\n",
    "graph_builder.set_finish_point(\"chatbot\")\n",
    "\n",
    "graph = graph_builder.compile()"
   ]
  },
  {
   "cell_type": "markdown",
   "id": "2c3181a0-c8f1-4cb7-89c4-3ed6e025c62e",
   "metadata": {},
   "source": [
    "### Visualizing the Graph"
   ]
  },
  {
   "cell_type": "code",
   "execution_count": 27,
   "id": "f56afc4c-3c32-4c0c-99d5-5a6de9252ee6",
   "metadata": {},
   "outputs": [
    {
     "data": {
      "image/jpeg": "[encoded data removed]",
      "text/plain": [
       "<IPython.core.display.Image object>"
      ]
     },
     "metadata": {},
     "output_type": "display_data"
    }
   ],
   "source": [
    "try:\n",
    "    from IPython.display import Image, display\n",
    "    mermaid_png = graph.get_graph().draw_mermaid_png()\n",
    "    display(Image(mermaid_png))\n",
    "except Exception as e:\n",
    "    print(f\"Error displaying graph: {e}\")\n",
    "    print(\"You may need to run this in a Jupyter notebook or an environment that supports IPython display.\")"
   ]
  },
  {
   "cell_type": "markdown",
   "id": "920d2b12-ec18-4a99-a313-0b4a3d93bff7",
   "metadata": {},
   "source": [
    "### Example Usage"
   ]
  },
  {
   "cell_type": "code",
   "execution_count": 29,
   "id": "c9ed5369-e1aa-4889-92fc-0d8c2b5c1d28",
   "metadata": {},
   "outputs": [
    {
     "name": "stdout",
     "output_type": "stream",
     "text": [
      "{'chatbot': {'messages': [AIMessage(content='LangChain is a framework designed to simplify the development of applications that utilize large language models (LLMs). It provides a structured way to build applications that can interact with language models, enabling developers to create complex workflows that involve natural language processing tasks.\\n\\nKey features of LangChain include:\\n\\n1. **Modularity**: LangChain is built with modular components, allowing developers to mix and match different parts depending on their application needs. This includes components for prompt management, memory, chains, agents, and more.\\n\\n2. **Chains**: LangChain allows developers to create \"chains\" of operations, where the output of one operation can be fed into another. This is useful for building more complex workflows that involve multiple steps.\\n\\n3. **Agents**: LangChain provides the capability to create agents that can make decisions based on user input and the context provided. These agents can interact with various tools and data sources to produce responses.\\n\\n4. **Memory Management**: The framework includes features for managing memory, allowing applications to maintain context over interactions, which is essential for creating conversational agents that can remember previous exchanges.\\n\\n5. **Integration with Various Tools**: LangChain supports integration with various APIs, databases, and other tools, making it easier to build applications that require access to external data or services.\\n\\n6. **Prompt Management**: It offers utilities for managing prompts effectively, enabling developers to create dynamic and context-aware prompts for LLMs.\\n\\nLangChain is particularly useful for developers looking to leverage the capabilities of LLMs in applications like chatbots, virtual assistants, content generation, and more, providing a high-level abstraction over the complexities involved in working with language models.', additional_kwargs={'refusal': None}, response_metadata={'token_usage': {'completion_tokens': 334, 'prompt_tokens': 12, 'total_tokens': 346, 'completion_tokens_details': {'reasoning_tokens': 0}}, 'model_name': 'gpt-4o-mini-2024-07-18', 'system_fingerprint': 'fp_1bb46167f9', 'finish_reason': 'stop', 'logprobs': None}, id='run-ec4aa188-7d8c-4eb0-bf95-54f7b36ff72b-0', usage_metadata={'input_tokens': 12, 'output_tokens': 334, 'total_tokens': 346})]}}\n"
     ]
    }
   ],
   "source": [
    "inputs = {\"messages\": [{\"role\": \"user\", \"content\": \"What is LangChain?\"}]}\n",
    "for output in graph.stream(inputs):\n",
    "    print(output)"
   ]
  },
  {
   "cell_type": "markdown",
   "id": "96dfe457-1746-45e8-a479-77b7ddd0b989",
   "metadata": {},
   "source": [
    "### Running the ChatBot"
   ]
  },
  {
   "cell_type": "code",
   "execution_count": 31,
   "id": "e51155c3-ef4f-4f3b-9400-e1c793e16764",
   "metadata": {},
   "outputs": [
    {
     "name": "stdin",
     "output_type": "stream",
     "text": [
      "User:  What is langchain?\n"
     ]
    },
    {
     "name": "stdout",
     "output_type": "stream",
     "text": [
      "Assistant: LangChain is a framework designed to facilitate the development of applications that leverage large language models (LLMs). It provides a set of tools and components that help developers build applications that can perform a variety of tasks, such as natural language understanding, text generation, and conversational AI.\n",
      "\n",
      "Key features of LangChain include:\n",
      "\n",
      "1. **Modularity**: LangChain is designed to be modular, allowing developers to combine different components like language models, data loaders, and output formats to create customized applications.\n",
      "\n",
      "2. **Integration with LLMs**: It supports multiple large language models and can integrate with various APIs, making it easier to switch between different models or use multiple models in a single application.\n",
      "\n",
      "3. **Prompt Management**: LangChain provides utilities for managing prompts, which are essential for guiding the behavior of language models. This includes prompt templates and strategies for optimizing prompts for specific tasks.\n",
      "\n",
      "4. **Memory Management**: The framework includes features for managing conversational memory, enabling applications to maintain context over multiple interactions, which is particularly useful for chatbots and virtual assistants.\n",
      "\n",
      "5. **Chain of Thought**: LangChain supports the concept of chaining together different operations or functions, allowing for more complex workflows that can involve multiple steps and decision points.\n",
      "\n",
      "6. **Data Handling**: It offers tools for loading and processing data, making it easier to feed relevant information into language models for tasks like summarization, question answering, and more.\n",
      "\n",
      "Overall, LangChain is aimed at developers looking to build sophisticated applications that utilize the capabilities of large language models, providing a structured approach to managing the complexities involved in such development.\n",
      "--------------------\n"
     ]
    },
    {
     "name": "stdin",
     "output_type": "stream",
     "text": [
      "User:  quit\n"
     ]
    },
    {
     "name": "stdout",
     "output_type": "stream",
     "text": [
      "Goodbye!\n"
     ]
    }
   ],
   "source": [
    "while True:\n",
    "    user_input = input('User: ')\n",
    "    if user_input.lower() in ['quit', 'exit', 'bye', 'q']:\n",
    "        print('Goodbye!')\n",
    "        break\n",
    "\n",
    "    for event in graph.stream({'messages':('user', user_input)}):\n",
    "        for value in event.values():\n",
    "            print(f'Assistant: {value[\"messages\"][-1].content}')\n",
    "            print('-' * 20)"
   ]
  },
  {
   "cell_type": "code",
   "execution_count": null,
   "id": "30ee8ced-8d3f-44c1-bd1d-1b7270048e66",
   "metadata": {},
   "outputs": [],
   "source": []
  },
  {
   "cell_type": "code",
   "execution_count": null,
   "id": "7cbfc9ca-06ba-4b00-aa2c-19c9be940db7",
   "metadata": {},
   "outputs": [],
   "source": []
  },
  {
   "cell_type": "code",
   "execution_count": null,
   "id": "134d61c5-7a2b-42d7-afeb-f539439a104f",
   "metadata": {},
   "outputs": [],
   "source": []
  },
  {
   "cell_type": "code",
   "execution_count": null,
   "id": "b2eaea1e-e1e4-4209-a74a-83d301ca3d0c",
   "metadata": {},
   "outputs": [],
   "source": []
  },
  {
   "cell_type": "code",
   "execution_count": null,
   "id": "17cbc9ac-290c-40dd-b4a6-686e0c1f47b3",
   "metadata": {},
   "outputs": [],
   "source": []
  },
  {
   "cell_type": "code",
   "execution_count": null,
   "id": "f9c36c57-f4fe-4940-bb74-e77dbb138477",
   "metadata": {},
   "outputs": [],
   "source": []
  },
  {
   "cell_type": "code",
   "execution_count": null,
   "id": "6959e7c7-fc01-4fe2-a619-3ab473948dbb",
   "metadata": {},
   "outputs": [],
   "source": []
  },
  {
   "cell_type": "code",
   "execution_count": null,
   "id": "c42a6c01-1c27-459a-890a-99d72a1ed1f3",
   "metadata": {},
   "outputs": [],
   "source": []
  },
  {
   "cell_type": "code",
   "execution_count": null,
   "id": "b39a771c-653c-4966-9166-ed7e06dc9bf1",
   "metadata": {},
   "outputs": [],
   "source": []
  },
  {
   "cell_type": "code",
   "execution_count": null,
   "id": "4a49cabe-c261-45e2-95be-254c30b9f51a",
   "metadata": {},
   "outputs": [],
   "source": []
  },
  {
   "cell_type": "code",
   "execution_count": null,
   "id": "9ba8affe-f5a6-4bfa-8259-dbe55512abea",
   "metadata": {},
   "outputs": [],
   "source": []
  },
  {
   "cell_type": "code",
   "execution_count": null,
   "id": "7fa54b83-77d6-4970-aced-605d1e5d01a8",
   "metadata": {},
   "outputs": [],
   "source": []
  },
  {
   "cell_type": "code",
   "execution_count": null,
   "id": "d27bd2a2-8b47-4e3b-8c00-d6c2e0dcf7a9",
   "metadata": {},
   "outputs": [],
   "source": []
  },
  {
   "cell_type": "code",
   "execution_count": null,
   "id": "e154f17f-af64-4fcb-89e5-146dbffa4a2b",
   "metadata": {},
   "outputs": [],
   "source": []
  },
  {
   "cell_type": "code",
   "execution_count": null,
   "id": "89d7ba47-f450-4033-93c5-d4e3ae0c16d3",
   "metadata": {},
   "outputs": [],
   "source": []
  },
  {
   "cell_type": "code",
   "execution_count": null,
   "id": "3498937c-e4fe-4932-846b-ec7cdc767af3",
   "metadata": {},
   "outputs": [],
   "source": []
  },
  {
   "cell_type": "code",
   "execution_count": null,
   "id": "78370f1c-af55-4e6d-b01d-b3c81f1c6cb7",
   "metadata": {},
   "outputs": [],
   "source": []
  },
  {
   "cell_type": "code",
   "execution_count": null,
   "id": "674e691b-ba84-4c30-a0ce-aa8b4d32a763",
   "metadata": {},
   "outputs": [],
   "source": []
  },
  {
   "cell_type": "code",
   "execution_count": null,
   "id": "f24dd62a-c7cc-4d47-bf33-33df0708d3fd",
   "metadata": {},
   "outputs": [],
   "source": []
  }
 ],
 "metadata": {
  "kernelspec": {
   "display_name": "Python 3 (ipykernel)",
   "language": "python",
   "name": "python3"
  },
  "language_info": {
   "codemirror_mode": {
    "name": "ipython",
    "version": 3
   },
   "file_extension": ".py",
   "mimetype": "text/x-python",
   "name": "python",
   "nbconvert_exporter": "python",
   "pygments_lexer": "ipython3",
   "version": "3.11.7"
  }
 },
 "nbformat": 4,
 "nbformat_minor": 5
}
