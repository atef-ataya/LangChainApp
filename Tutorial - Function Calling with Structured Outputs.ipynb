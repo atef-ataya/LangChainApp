{
 "cells": [
  {
   "cell_type": "markdown",
   "id": "329524f0-0834-42cd-88a0-0b097b3509cf",
   "metadata": {},
   "source": [
    "# Function Calling with Structured Output"
   ]
  },
  {
   "cell_type": "markdown",
   "id": "d489326e-d7bb-442b-87b6-b8fc3faf0bd1",
   "metadata": {},
   "source": [
    "### Install Required Libraries"
   ]
  },
  {
   "cell_type": "code",
   "execution_count": 17,
   "id": "83d8f219-9d49-4b64-a525-daad095dbed5",
   "metadata": {},
   "outputs": [],
   "source": [
    "!pip install -q openai\n",
    "!pip install newsapi-python -q"
   ]
  },
  {
   "cell_type": "markdown",
   "id": "c9f25c6f-c5d0-4348-8293-99097a96fb2c",
   "metadata": {},
   "source": [
    "### Upgrade Existing Installation"
   ]
  },
  {
   "cell_type": "code",
   "execution_count": 19,
   "id": "856e328b-b063-42ee-a1fe-0951c064e890",
   "metadata": {},
   "outputs": [
    {
     "name": "stdout",
     "output_type": "stream",
     "text": [
      "Requirement already satisfied: openai in /Users/ds/Applications/Anaconda/anaconda3/lib/python3.12/site-packages (1.42.0)\n",
      "Collecting openai\n",
      "  Downloading openai-1.43.0-py3-none-any.whl.metadata (22 kB)\n",
      "Requirement already satisfied: anyio<5,>=3.5.0 in /Users/ds/Applications/Anaconda/anaconda3/lib/python3.12/site-packages (from openai) (4.2.0)\n",
      "Requirement already satisfied: distro<2,>=1.7.0 in /Users/ds/Applications/Anaconda/anaconda3/lib/python3.12/site-packages (from openai) (1.9.0)\n",
      "Requirement already satisfied: httpx<1,>=0.23.0 in /Users/ds/Applications/Anaconda/anaconda3/lib/python3.12/site-packages (from openai) (0.27.0)\n",
      "Requirement already satisfied: jiter<1,>=0.4.0 in /Users/ds/Applications/Anaconda/anaconda3/lib/python3.12/site-packages (from openai) (0.5.0)\n",
      "Requirement already satisfied: pydantic<3,>=1.9.0 in /Users/ds/Applications/Anaconda/anaconda3/lib/python3.12/site-packages (from openai) (2.5.3)\n",
      "Requirement already satisfied: sniffio in /Users/ds/Applications/Anaconda/anaconda3/lib/python3.12/site-packages (from openai) (1.3.0)\n",
      "Requirement already satisfied: tqdm>4 in /Users/ds/Applications/Anaconda/anaconda3/lib/python3.12/site-packages (from openai) (4.66.4)\n",
      "Requirement already satisfied: typing-extensions<5,>=4.11 in /Users/ds/Applications/Anaconda/anaconda3/lib/python3.12/site-packages (from openai) (4.11.0)\n",
      "Requirement already satisfied: idna>=2.8 in /Users/ds/Applications/Anaconda/anaconda3/lib/python3.12/site-packages (from anyio<5,>=3.5.0->openai) (3.7)\n",
      "Requirement already satisfied: certifi in /Users/ds/Applications/Anaconda/anaconda3/lib/python3.12/site-packages (from httpx<1,>=0.23.0->openai) (2024.7.4)\n",
      "Requirement already satisfied: httpcore==1.* in /Users/ds/Applications/Anaconda/anaconda3/lib/python3.12/site-packages (from httpx<1,>=0.23.0->openai) (1.0.5)\n",
      "Requirement already satisfied: h11<0.15,>=0.13 in /Users/ds/Applications/Anaconda/anaconda3/lib/python3.12/site-packages (from httpcore==1.*->httpx<1,>=0.23.0->openai) (0.14.0)\n",
      "Requirement already satisfied: annotated-types>=0.4.0 in /Users/ds/Applications/Anaconda/anaconda3/lib/python3.12/site-packages (from pydantic<3,>=1.9.0->openai) (0.6.0)\n",
      "Requirement already satisfied: pydantic-core==2.14.6 in /Users/ds/Applications/Anaconda/anaconda3/lib/python3.12/site-packages (from pydantic<3,>=1.9.0->openai) (2.14.6)\n",
      "Downloading openai-1.43.0-py3-none-any.whl (365 kB)\n",
      "Installing collected packages: openai\n",
      "  Attempting uninstall: openai\n",
      "    Found existing installation: openai 1.42.0\n",
      "    Uninstalling openai-1.42.0:\n",
      "      Successfully uninstalled openai-1.42.0\n",
      "Successfully installed openai-1.43.0\n"
     ]
    }
   ],
   "source": [
    "!pip install openai -U"
   ]
  },
  {
   "cell_type": "markdown",
   "id": "50c01d00-08af-4537-878e-7bcc7b394894",
   "metadata": {},
   "source": [
    "### Load Environment Variables"
   ]
  },
  {
   "cell_type": "code",
   "execution_count": 21,
   "id": "80f44716-cc29-41b8-a1ff-4c7622ac5267",
   "metadata": {},
   "outputs": [
    {
     "name": "stdout",
     "output_type": "stream",
     "text": [
      "API Key Loaded True\n"
     ]
    }
   ],
   "source": [
    "import os\n",
    "from dotenv import load_dotenv, find_dotenv\n",
    "load_dotenv(find_dotenv(), override=True)\n",
    "\n",
    "os.environ.get('OPENAI_API_KEY')\n",
    "\n",
    "print(\"API Key Loaded\", os.environ.get('OPENAI_API_KEY') is not None)"
   ]
  },
  {
   "cell_type": "markdown",
   "id": "7da22e9c-7484-4acc-b2d4-6b4cbec0765e",
   "metadata": {},
   "source": [
    "# News Articles Summarization"
   ]
  },
  {
   "cell_type": "markdown",
   "id": "c826cab2-2ba4-4831-a4e5-756429d220e9",
   "metadata": {},
   "source": [
    "### Import Required Libraries"
   ]
  },
  {
   "cell_type": "code",
   "execution_count": 25,
   "id": "5a116a3f-ea20-42c1-b0d1-7daca50d6d59",
   "metadata": {},
   "outputs": [],
   "source": [
    "import openai\n",
    "from openai import OpenAI\n",
    "from pydantic import BaseModel, Field\n",
    "import json\n",
    "from newspaper import Article\n",
    "from newsapi import NewsApiClient"
   ]
  },
  {
   "cell_type": "markdown",
   "id": "a6f99dbb-c094-44d8-9c15-18d4d0169370",
   "metadata": {},
   "source": [
    "### Create and Initialize Client"
   ]
  },
  {
   "cell_type": "code",
   "execution_count": 27,
   "id": "6b5b00f3-4ff5-4dc5-88d2-8da91b9d36b4",
   "metadata": {},
   "outputs": [],
   "source": [
    "newsapi = NewsApiClient(api_key=os.environ.get('NEWS_API_KEY'))\n",
    "client = OpenAI()"
   ]
  },
  {
   "cell_type": "markdown",
   "id": "805c08c0-6672-4d2a-bfac-578e28fa921b",
   "metadata": {},
   "source": [
    "### Create Get News Without Structure"
   ]
  },
  {
   "cell_type": "code",
   "execution_count": 29,
   "id": "cb5606f3-6407-4eb1-8365-88ff1e3dbc7f",
   "metadata": {},
   "outputs": [],
   "source": [
    "def get_news_summary_without_structure(query: str) -> str:\n",
    "    \"\"\"\n",
    "    This function searches for a news article based on the query using News API,\n",
    "    extracts the article content using the newspaper library, and summarizes it using OpenAI's GPT model \n",
    "    *without* enforcing strict adherence to a structured output schema.\n",
    "    \"\"\"\n",
    "\n",
    "    top_headlines = newsapi.get_everything(q=query, \n",
    "                                          from_param='2024-08-01',\n",
    "                                          to='2024-08-12',\n",
    "                                          language='en',\n",
    "                                          sort_by='relevancy',\n",
    "                                          page=2)\n",
    "\n",
    "    if top_headlines['status'] == 'ok' and top_headlines['articles']:\n",
    "        article_url = top_headlines['articles'][0]['url']\n",
    "        article = Article(article_url)\n",
    "        article.download()\n",
    "        article.parse()\n",
    "\n",
    "        summary_prompt = f\"Summarize the following news article in 2-3 sentences:\\n\\n{article.text}\"\n",
    "        summary_response = client.chat.completions.create(\n",
    "            model=\"gpt-3.5-turbo\",\n",
    "            messages=[\n",
    "                {\"role\": \"system\", \"content\": \"You are a helpful AI assistant that summarizes news articles.\"},\n",
    "                {\"role\": \"user\", \"content\": summary_prompt}\n",
    "            ]\n",
    "        )\n",
    "        summary = summary_response.choices[0].message.content\n",
    "\n",
    "        return summary  \n",
    "\n",
    "    else:\n",
    "        print(top_headlines['status'])\n",
    "        print(top_headlines['articles'])\n",
    "        raise Exception(\"No news articles found for the given query.\")"
   ]
  },
  {
   "cell_type": "markdown",
   "id": "259bc7e6-5b8c-4ed7-a56e-9727063ae1a2",
   "metadata": {},
   "source": [
    "### Testing the function"
   ]
  },
  {
   "cell_type": "code",
   "execution_count": 32,
   "id": "7305f192-2dc2-4c2c-8c53-6a194b6e1b78",
   "metadata": {},
   "outputs": [
    {
     "data": {
      "text/plain": [
       "\"Elon Musk has filed a lawsuit against OpenAI and Sam Altman, accusing them of breaching contracts and violating federal laws against racketeering. Musk claims that Altman and OpenAI manipulated him into launching the artificial intelligence startup under false pretenses of neutrality and decentralization, allegedly planning to turn it into a for-profit entity despite being initially a non-profit. The lawsuit seeks damages, a constructive trust on assets traceable to Musk's contributions, and nullification of OpenAI's license to Microsoft.\""
      ]
     },
     "execution_count": 32,
     "metadata": {},
     "output_type": "execute_result"
    }
   ],
   "source": [
    "get_news_summary_without_structure(\"Large Language Models\")"
   ]
  },
  {
   "cell_type": "markdown",
   "id": "510f9bb3-7b4b-4246-bdb6-a79bd9c22255",
   "metadata": {},
   "source": [
    "### Define Pydantic Models"
   ]
  },
  {
   "cell_type": "code",
   "execution_count": 35,
   "id": "27eb3321-f8cb-4fc8-bed2-e11023129477",
   "metadata": {},
   "outputs": [],
   "source": [
    "class NewsSummaryRequest(BaseModel):\n",
    "    query: str = Field(..., description=\"The search query for news articles.\")\n",
    "\n",
    "class NewsSummaryResponse(BaseModel):\n",
    "    summary: str = Field(..., description=\"A concise summary of the news article.\")\n",
    "    url: str = Field(..., description=\"The URL of the news article.\")"
   ]
  },
  {
   "cell_type": "markdown",
   "id": "5823876a-e1f0-4c18-8943-b85450c5c420",
   "metadata": {},
   "source": [
    "### Fetch and Summarize News Articles Function with Structure Outputs"
   ]
  },
  {
   "cell_type": "code",
   "execution_count": 38,
   "id": "41459f14-17f5-431a-92a4-5bf3c3e7be38",
   "metadata": {},
   "outputs": [],
   "source": [
    "def get_news_summary(query: str) -> NewsSummaryResponse:\n",
    "    \"\"\"\n",
    "    This function searches for a news article based on the query using News API,\n",
    "    extracts the article content using the bbc-news library, and summarizes it using OpenAI's GPT model.\n",
    "    \"\"\"\n",
    "\n",
    "    top_headlines = newsapi.get_everything(q='large language models',\n",
    "                                      from_param='2024-08-01',\n",
    "                                      to='2024-08-12',\n",
    "                                      language='en',\n",
    "                                      sort_by='relevancy',\n",
    "                                      page=2)\n",
    "\n",
    "    if top_headlines['status'] == 'ok' and top_headlines['articles']:\n",
    "        article_url = top_headlines['articles'][0]['url']\n",
    "        article = Article(article_url)\n",
    "        article.download()\n",
    "        article.parse()\n",
    "\n",
    "        summary_prompt = f\"Summarize the following news article in 2-3 sentences:\\n\\n{article.text}\"\n",
    "        summary_response = client.chat.completions.create(\n",
    "            model=\"gpt-3.5-turbo\",\n",
    "            messages=[\n",
    "                {\"role\": \"system\", \"content\": \"You are a helpful AI assistant that summarizes news articles.\"},\n",
    "                {\"role\": \"user\", \"content\": summary_prompt}\n",
    "            ]\n",
    "        )\n",
    "        summary = summary_response.choices[0].message.content\n",
    "\n",
    "        return NewsSummaryResponse(summary=summary, url=article_url)\n",
    "    else:\n",
    "        print(top_headlines['status'])\n",
    "        print(top_headlines['articles'])\n",
    "        raise Exception(\"No news articles found for the given query.\")"
   ]
  },
  {
   "cell_type": "markdown",
   "id": "ae8e0c4b-5e80-4205-80c6-2a2eb6d87cb0",
   "metadata": {},
   "source": [
    "### Wrap the get_news_summary function in Pydantic Model"
   ]
  },
  {
   "cell_type": "code",
   "execution_count": 40,
   "id": "41edcc70-3dd6-4fc2-97b5-0c3882f7b312",
   "metadata": {},
   "outputs": [],
   "source": [
    "class NewsSummaryTool(BaseModel):\n",
    "    def __call__(self, query: str) -> NewsSummaryResponse:\n",
    "        return get_news_summary(query)"
   ]
  },
  {
   "cell_type": "markdown",
   "id": "0c00488f-c59e-4638-89fe-0ce9b45100e1",
   "metadata": {},
   "source": [
    "### Create the tool using openai.pydantic_function_tool with the wrapper model"
   ]
  },
  {
   "cell_type": "code",
   "execution_count": 42,
   "id": "a57a3eb2-fc72-4a90-80c7-85e4e8b088b2",
   "metadata": {},
   "outputs": [],
   "source": [
    "tools = [openai.pydantic_function_tool(\n",
    "    NewsSummaryTool, name=\"get_news_summary\", description=\"Get a summary of a news article based on a query\")\n",
    "        ]"
   ]
  },
  {
   "cell_type": "markdown",
   "id": "b06d429b-5f09-44ac-84f4-3616d2b46114",
   "metadata": {},
   "source": [
    "### Setup the messages array"
   ]
  },
  {
   "cell_type": "code",
   "execution_count": 44,
   "id": "c827b31c-cc50-4039-871a-567e66ddfd5c",
   "metadata": {},
   "outputs": [],
   "source": [
    "messages = [\n",
    "    {\n",
    "        \"role\": \"system\", \n",
    "        \"content\": \"\"\"\n",
    "        You are a helpful assistant that can summarize news articles. Use the supplied tools to assist the user. \n",
    "        When using a tool, provide all the necessary arguments in a JSON format within the 'arguments' field of the tool call. \n",
    "        For example, to use the 'get_news_summary' tool, \n",
    "        provide the 'query' argument like this: {'query': 'latest news about Artificial Intelligence'}.\n",
    "        \"\"\"\n",
    "    },\n",
    "    {\n",
    "        \"role\": \"user\", \n",
    "        \"content\": \"Summarize the latest news about large language models\"\n",
    "    }\n",
    "]"
   ]
  },
  {
   "cell_type": "markdown",
   "id": "4afdf9cb-fc4f-4042-8c82-24cd61bd815e",
   "metadata": {},
   "source": [
    "### Make the initial API call"
   ]
  },
  {
   "cell_type": "code",
   "execution_count": 46,
   "id": "c8bbaa11-769b-49af-8dd6-281c82124efe",
   "metadata": {},
   "outputs": [],
   "source": [
    "response = client.chat.completions.create(\n",
    "    model='gpt-4',  \n",
    "    messages=messages,\n",
    "    tools=tools,\n",
    "    tool_choice={\n",
    "        \"type\": \"function\", \n",
    "        \"function\": {\n",
    "            \"name\": \"get_news_summary\" \n",
    "        },\n",
    "        \"strict\": True   \n",
    "    }\n",
    ")"
   ]
  },
  {
   "cell_type": "markdown",
   "id": "034c084d-754f-47ec-aaab-6637aab65830",
   "metadata": {},
   "source": [
    "### Test the applicaiton (Check if the model wants to use a tool)"
   ]
  },
  {
   "cell_type": "code",
   "execution_count": 50,
   "id": "f6c0ffbd-8e3b-442a-af70-229487e6ee4f",
   "metadata": {},
   "outputs": [
    {
     "name": "stdout",
     "output_type": "stream",
     "text": [
      "The latest news about large language models involves Elon Musk filing a lawsuit against OpenAI and Sam Altman. Musk accuses them of breaching contracts and engaging in racketeering. The lawsuit claims that Altman and OpenAI misled Musk into supporting the startup under the false guise of it being a neutral non-profit. Musk, who co-founded OpenAI in 2015 but left due to conflicts of interest, contributed over $44 million to the company. He seeks damages, a constructive trust on assets linked to his contributions, and a judicial declaration to nullify OpenAI's license agreements, specifically those concerning its large language models and Microsoft.\n",
      "\n",
      "For more details, you can read the full article [here](https://qz.com/elon-musk-lawsuit-sam-altman-openai-tesla-microsoft-1851613031).\n"
     ]
    }
   ],
   "source": [
    "if response.choices[0].message.tool_calls:\n",
    "    tool_call = response.choices[0].message.tool_calls[0]\n",
    "    function_name = tool_call.function.name\n",
    "    arguments = json.loads(tool_call.function.arguments)\n",
    "    \n",
    "    try:\n",
    "        news_summary = get_news_summary(arguments['query'])\n",
    "        \n",
    "        function_call_result_message = {\n",
    "            \"role\": \"tool\",\n",
    "            \"name\": function_name,\n",
    "            \"content\": news_summary.model_dump_json(), \n",
    "            \"tool_call_id\": tool_call.id\n",
    "        }\n",
    "        \n",
    "        messages.append(response.choices[0].message)\n",
    "        messages.append(function_call_result_message)\n",
    "        \n",
    "        final_response = client.chat.completions.create(\n",
    "            model='gpt-4o-2024-08-06',  \n",
    "            messages=messages\n",
    "        )\n",
    "        \n",
    "        print(final_response.choices[0].message.content)\n",
    "\n",
    "    except Exception as e:\n",
    "        print(f\"An error occurred: {str(e)}\")\n",
    "else:\n",
    "    print(response.choices[0].message.content)"
   ]
  },
  {
   "cell_type": "code",
   "execution_count": null,
   "id": "65c98522-d8d5-4c20-a521-1cfc33e5c5ad",
   "metadata": {},
   "outputs": [],
   "source": []
  },
  {
   "cell_type": "code",
   "execution_count": null,
   "id": "82516027-74ae-4216-ab1e-de558061afc4",
   "metadata": {},
   "outputs": [],
   "source": []
  },
  {
   "cell_type": "code",
   "execution_count": null,
   "id": "c549c37a-d686-4350-80a2-3a5030997736",
   "metadata": {},
   "outputs": [],
   "source": []
  },
  {
   "cell_type": "code",
   "execution_count": null,
   "id": "178b55dd-45e4-4619-84c1-efa56401b39a",
   "metadata": {},
   "outputs": [],
   "source": []
  },
  {
   "cell_type": "code",
   "execution_count": null,
   "id": "7d9ec91c-b0e1-47d2-945a-fd78544f9637",
   "metadata": {},
   "outputs": [],
   "source": []
  },
  {
   "cell_type": "code",
   "execution_count": null,
   "id": "b7760751-6ecf-435b-a0bd-7b546de4711e",
   "metadata": {},
   "outputs": [],
   "source": []
  },
  {
   "cell_type": "code",
   "execution_count": null,
   "id": "9c8dc98c-5c32-4950-afe6-17845a40dc37",
   "metadata": {},
   "outputs": [],
   "source": []
  },
  {
   "cell_type": "code",
   "execution_count": null,
   "id": "4f442f3d-5223-4b65-afc5-1ddee6593341",
   "metadata": {},
   "outputs": [],
   "source": []
  },
  {
   "cell_type": "code",
   "execution_count": null,
   "id": "0fb3fb96-8485-4dd1-b1ca-799b058e6cad",
   "metadata": {},
   "outputs": [],
   "source": []
  },
  {
   "cell_type": "code",
   "execution_count": null,
   "id": "6960b20a-7064-4ea8-9c50-69af1fe57ec7",
   "metadata": {},
   "outputs": [],
   "source": []
  },
  {
   "cell_type": "code",
   "execution_count": null,
   "id": "eb3be63e-d1b8-4aec-84f7-bdff8dba6a33",
   "metadata": {},
   "outputs": [],
   "source": []
  },
  {
   "cell_type": "code",
   "execution_count": null,
   "id": "16d9c477-256e-47e2-b579-eaede898aae2",
   "metadata": {},
   "outputs": [],
   "source": []
  },
  {
   "cell_type": "code",
   "execution_count": null,
   "id": "95d59ba5-c3ad-4c6e-99a4-713466d4c7ba",
   "metadata": {},
   "outputs": [],
   "source": []
  },
  {
   "cell_type": "code",
   "execution_count": null,
   "id": "f4f673c4-5326-4581-81fa-72ec537bbead",
   "metadata": {},
   "outputs": [],
   "source": []
  },
  {
   "cell_type": "code",
   "execution_count": null,
   "id": "48279617-de62-4a5e-bfa7-b2f89be28f52",
   "metadata": {},
   "outputs": [],
   "source": []
  },
  {
   "cell_type": "code",
   "execution_count": null,
   "id": "1205c785-f77e-4c00-8e4f-c11e9f282dd2",
   "metadata": {},
   "outputs": [],
   "source": []
  },
  {
   "cell_type": "code",
   "execution_count": null,
   "id": "31fdd204-c313-4125-990e-e8eabe60cec9",
   "metadata": {},
   "outputs": [],
   "source": []
  },
  {
   "cell_type": "code",
   "execution_count": null,
   "id": "28fb32f9-64e0-422b-851c-7282b170c904",
   "metadata": {},
   "outputs": [],
   "source": []
  },
  {
   "cell_type": "code",
   "execution_count": null,
   "id": "3f0805bb-26cd-4fb8-92fc-7a89b708c7d0",
   "metadata": {},
   "outputs": [],
   "source": []
  },
  {
   "cell_type": "code",
   "execution_count": null,
   "id": "f46389ae-6f32-4490-b3ca-9e2fac6c158f",
   "metadata": {},
   "outputs": [],
   "source": []
  }
 ],
 "metadata": {
  "kernelspec": {
   "display_name": "Python 3 (ipykernel)",
   "language": "python",
   "name": "python3"
  },
  "language_info": {
   "codemirror_mode": {
    "name": "ipython",
    "version": 3
   },
   "file_extension": ".py",
   "mimetype": "text/x-python",
   "name": "python",
   "nbconvert_exporter": "python",
   "pygments_lexer": "ipython3",
   "version": "3.11.7"
  }
 },
 "nbformat": 4,
 "nbformat_minor": 5
}
