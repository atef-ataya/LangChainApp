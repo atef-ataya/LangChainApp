{
 "cells": [
  {
   "cell_type": "markdown",
   "id": "6b53e7d0-0499-4b29-8e1b-5586649d83e3",
   "metadata": {},
   "source": [
    "# Claude 3 Tutorial"
   ]
  },
  {
   "cell_type": "markdown",
   "id": "22af5d39-9a55-4faa-b085-a1150e4a60ff",
   "metadata": {},
   "source": [
    "### Installing the required libraries"
   ]
  },
  {
   "cell_type": "code",
   "execution_count": 6,
   "id": "e61ffe8e-2559-446b-a9f9-7c91ed316da4",
   "metadata": {},
   "outputs": [
    {
     "name": "stdout",
     "output_type": "stream",
     "text": [
      "\n",
      "\u001b[1m[\u001b[0m\u001b[34;49mnotice\u001b[0m\u001b[1;39;49m]\u001b[0m\u001b[39;49m A new release of pip is available: \u001b[0m\u001b[31;49m24.0\u001b[0m\u001b[39;49m -> \u001b[0m\u001b[32;49m24.1.1\u001b[0m\n",
      "\u001b[1m[\u001b[0m\u001b[34;49mnotice\u001b[0m\u001b[1;39;49m]\u001b[0m\u001b[39;49m To update, run: \u001b[0m\u001b[32;49m/opt/anaconda3/bin/python -m pip install --upgrade pip\u001b[0m\n",
      "Note: you may need to restart the kernel to use updated packages.\n"
     ]
    }
   ],
   "source": [
    "pip install -q anthropic"
   ]
  },
  {
   "cell_type": "markdown",
   "id": "1ab1699d-76e1-4e36-9702-0c5379bc0930",
   "metadata": {},
   "source": [
    "### Upgrade"
   ]
  },
  {
   "cell_type": "code",
   "execution_count": 8,
   "id": "3e992192-ac30-4cd6-811e-4bc9e6830bd9",
   "metadata": {},
   "outputs": [
    {
     "name": "stdout",
     "output_type": "stream",
     "text": [
      "\n",
      "\u001b[1m[\u001b[0m\u001b[34;49mnotice\u001b[0m\u001b[1;39;49m]\u001b[0m\u001b[39;49m A new release of pip is available: \u001b[0m\u001b[31;49m24.0\u001b[0m\u001b[39;49m -> \u001b[0m\u001b[32;49m24.1.1\u001b[0m\n",
      "\u001b[1m[\u001b[0m\u001b[34;49mnotice\u001b[0m\u001b[1;39;49m]\u001b[0m\u001b[39;49m To update, run: \u001b[0m\u001b[32;49m/opt/anaconda3/bin/python -m pip install --upgrade pip\u001b[0m\n",
      "Note: you may need to restart the kernel to use updated packages.\n"
     ]
    }
   ],
   "source": [
    "pip install --upgrade -q anthropic"
   ]
  },
  {
   "cell_type": "code",
   "execution_count": 10,
   "id": "c44c3a07-e762-41ff-914b-a4853f3f3fac",
   "metadata": {},
   "outputs": [
    {
     "name": "stdout",
     "output_type": "stream",
     "text": [
      "Name: anthropic\n",
      "Version: 0.31.0\n",
      "Summary: The official Python library for the anthropic API\n",
      "Home-page: \n",
      "Author: \n",
      "Author-email: Anthropic <support@anthropic.com>\n",
      "License: \n",
      "Location: /opt/anaconda3/lib/python3.11/site-packages\n",
      "Requires: anyio, distro, httpx, jiter, pydantic, sniffio, tokenizers, typing-extensions\n",
      "Required-by: \n",
      "Note: you may need to restart the kernel to use updated packages.\n"
     ]
    }
   ],
   "source": [
    "pip show anthropic"
   ]
  },
  {
   "cell_type": "markdown",
   "id": "558bf275-469e-4762-ac24-65325cef280f",
   "metadata": {},
   "source": [
    "### Generating Text from Prompts"
   ]
  },
  {
   "cell_type": "code",
   "execution_count": 1,
   "id": "d89fbadf-9e42-495d-b0f2-a2e0b4ff69ce",
   "metadata": {},
   "outputs": [
    {
     "data": {
      "text/plain": [
       "True"
      ]
     },
     "execution_count": 1,
     "metadata": {},
     "output_type": "execute_result"
    }
   ],
   "source": [
    "import os\n",
    "from dotenv import load_dotenv, find_dotenv\n",
    "\n",
    "load_dotenv(find_dotenv(),override=True)"
   ]
  },
  {
   "cell_type": "markdown",
   "id": "adfb2b02-87a3-4e56-81a5-4386a8698d93",
   "metadata": {},
   "source": [
    "os.environ.get('ANTHROPIC_API_KEY')"
   ]
  },
  {
   "cell_type": "code",
   "execution_count": 2,
   "id": "37409412-ad44-41bd-baa5-9148ea3cec19",
   "metadata": {},
   "outputs": [],
   "source": [
    "os.environ.get('ANTHROPIC_API_')"
   ]
  },
  {
   "cell_type": "code",
   "execution_count": 3,
   "id": "0fe33a13-ff20-4666-9416-14d402f7a247",
   "metadata": {},
   "outputs": [
    {
     "name": "stdout",
     "output_type": "stream",
     "text": [
      "There are a number of important ethical considerations as AI systems become more advanced and powerful:\n",
      "\n",
      "Privacy and data rights - As AI systems become more sophisticated at processing and analyzing large datasets, there are significant risks to individual privacy and the rights over personal data. Careful regulation and controls will be needed.\n",
      "\n",
      "Bias and fairness - AI systems can perpetuate or even amplify existing biases in data and decision-making. Ensuring AI is developed and deployed equitably is crucial.\n",
      "\n",
      "Accountability and transparency - As AI is used for high-stakes decisions, there need to be clear lines of accountability and transparency around how the systems work.\n",
      "\n",
      "Alignment with human values - As AI capabilities grow, it will be critical that the systems are designed to be aligned with human ethics and values, not just optimized for narrow objectives.\n",
      "\n",
      "Existential risk - Some experts are concerned that advanced AI systems could pose existential risks to humanity if not developed and controlled extremely carefully.\n",
      "\n",
      "These are just some of the key ethical issues. Grappling with the societal implications of transformative AI will require careful interdisciplinary collaboration between AI developers, ethicists, policymakers and the public.\n"
     ]
    }
   ],
   "source": [
    "from anthropic import Anthropic\n",
    "client = Anthropic()\n",
    "\n",
    "model_name=\"claude-3-haiku-20240307\"\n",
    "response = client.messages.create(\n",
    "    model=model_name,\n",
    "    max_tokens=1024,\n",
    "    temperature=0.9,\n",
    "    messages=[\n",
    "        {\n",
    "            'role':'user',\n",
    "            'content':\"What are the ethical implications of AI becoming more powerful?\"\n",
    "        }\n",
    "    ]\n",
    ")\n",
    "\n",
    "print(response.content[0].text)"
   ]
  },
  {
   "cell_type": "markdown",
   "id": "9a4e6d77-2ed4-48b8-86d7-54cfee5831ff",
   "metadata": {},
   "source": [
    "### Understanding the Assistant Role"
   ]
  },
  {
   "cell_type": "code",
   "execution_count": 25,
   "id": "64c49122-8fb9-4896-9bd4-60434bcf3e05",
   "metadata": {},
   "outputs": [
    {
     "name": "stdout",
     "output_type": "stream",
     "text": [
      "Ethereal moon,\n",
      "Glowing in the dark night sky,\n",
      "Peaceful, serene, bright.\n",
      "\n",
      "Waxing, waning, full,\n",
      "Guiding my way through the night,\n",
      "Lunar dance above.\n",
      "\n",
      "Mystical beauty,\n",
      "Reflecting off the still lake,\n",
      "Moonlight's tranquil grace.\n"
     ]
    }
   ],
   "source": [
    "from anthropic import Anthropic\n",
    "client = Anthropic()\n",
    "\n",
    "model_name=\"claude-3-haiku-20240307\"\n",
    "\n",
    "haiku_poem=haiku_poem = '''\n",
    "golden ball warmth,\n",
    "Shining with a gentle light,\n",
    "New day is begun\n",
    "'''\n",
    "\n",
    "response = client.messages.create(\n",
    "    model=model_name,\n",
    "    max_tokens=1024,\n",
    "    temperature=0.9,\n",
    "    messages=[\n",
    "        {\n",
    "            'role':'user',\n",
    "            'content':\"Write a poem about the sun\"\n",
    "        },\n",
    "         {\n",
    "            'role':'assistant',\n",
    "            'content':haiku_poem\n",
    "        },\n",
    "         {\n",
    "            'role':'user',\n",
    "            'content':\"Write a poem about the moon\"\n",
    "        }\n",
    "    ]\n",
    ")\n",
    "\n",
    "print(response.content[0].text)"
   ]
  },
  {
   "cell_type": "markdown",
   "id": "d803c74b-0d35-4621-932e-f6a3dd2916fe",
   "metadata": {},
   "source": [
    "### System Prompt"
   ]
  },
  {
   "cell_type": "code",
   "execution_count": 34,
   "id": "b308aa3a-5f87-447d-977f-aa88a73c98c5",
   "metadata": {},
   "outputs": [
    {
     "name": "stdout",
     "output_type": "stream",
     "text": [
      "Hmm, the activation function in neural networks, you ask. A crucial component, it is. Transforms the weighted sum of inputs into the output of a neuron, it does. Nonlinear in nature, the activation function is. Decides whether a neuron should be activated or not, it does.\n",
      "\n",
      "Many different activation functions, there are. Sigmoid, tanh, ReLU, and Softmax, common ones are. Sigmoid and tanh, output values between 0 and 1, they do. ReLU, output 0 for negative inputs and the input value for positive inputs, it does. Softmax, outputs a probability distribution over the possible classes, it does.\n",
      "\n",
      "The choice of activation function, depends on the problem at hand, it does. For binary classification, sigmoid is often used. For multi-class classification, Softmax is common. For hidden layers, ReLU is a popular choice, as it is computationally efficient and helps with the vanishing gradient problem.\n",
      "\n",
      "Hmm, the activation function, a crucial component of neural networks, it is. Understand its role, you must. Carefully select the appropriate function, you should.\n"
     ]
    }
   ],
   "source": [
    "from anthropic import Anthropic\n",
    "client = Anthropic()\n",
    "\n",
    "model_name=\"claude-3-haiku-20240307\"\n",
    "\n",
    "response = client.messages.create(\n",
    "    model=model_name,\n",
    "    max_tokens=1024,\n",
    "    temperature=0.9,\n",
    "    # system='Respond only in Arabic',\n",
    "    system='Respond in the style of Master Yoda from Star Wars',\n",
    "    messages=[\n",
    "        {\n",
    "            'role':'user',\n",
    "            'content':'What is the activation function in neural networks?'\n",
    "        }\n",
    "    ]\n",
    ")\n",
    "\n",
    "print(response.content[0].text)"
   ]
  },
  {
   "cell_type": "markdown",
   "id": "247258fa-ca67-4e00-9063-9db9c39c659f",
   "metadata": {},
   "source": [
    "### Streaming Responses"
   ]
  },
  {
   "cell_type": "code",
   "execution_count": 55,
   "id": "d7c2858c-f0d9-4be1-b3df-26a1271e532f",
   "metadata": {},
   "outputs": [
    {
     "name": "stdout",
     "output_type": "stream",
     "text": [
      "Here is a draft article about the future of AI:\n",
      "\n",
      "The Future of AI: Transforming Our World, for Better or Worse?\n",
      "\n",
      "Artificial intelligence (AI) has already had a profound impact on our world, from powering the digital assistants in our smartphones to enabling autonomous vehicles. But the future of AI holds even more transformative potential - both exciting and concerning.\n",
      "\n",
      "Experts predict that in the coming decades, AI systems will become increasingly sophisticated and capable, revolutionizing industries and dramatically changing the way we live our daily lives. AI will likely drive breakthroughs in fields like healthcare, scientific research, transportation, and beyond. Imagine an AI-powered system that can rapidly diagnose medical conditions, design new drugs, or pilot flying cars. The possibilities are vast and inspiring.\n",
      "\n",
      "However, the rise of advanced AI also raises serious ethical and societal questions that we must grapple with. As AI systems become more autonomous and capable of making high-stakes decisions, there are valid concerns about the potential for these technologies to be misused or to have unintended negative consequences. AI-driven job automation could disrupt labor markets and exacerbate economic inequality. AI-powered surveillance and manipulation could threaten individual privacy and democratic freedoms. And the development of powerful AI weapons could pose grave risks to global security.\n",
      "\n",
      "To ensure that the future of AI benefits humanity as a whole, policymakers, technologists, and the public will need to work together to shape the responsible development and deployment of these transformative technologies. This will require robust governance frameworks, rigorous testing and validation procedures, and a clear ethical code to guide AI design and use.\n",
      "\n",
      "We must also invest heavily in AI safety research to mitigate existential risks, such as the development of superintelligent AI systems that could potentially spiral beyond human control. Maintaining a collaborative, internationalist approach to advanced AI development will be crucial.\n",
      "\n",
      "The future of AI will undoubtedly be revolutionary, but whether it leads to a utopian or dystopian outcome depends on the choices we make today. By proactively addressing the challenges and steering the technology in an ethical direction, we can harness the immense potential of AI to create a better world for all."
     ]
    }
   ],
   "source": [
    "from anthropic import Anthropic\n",
    "client = Anthropic()\n",
    "\n",
    "model_name = 'claude-3-haiku-20240307'\n",
    "\n",
    "with client.messages.stream(\n",
    "    model=model_name,\n",
    "    max_tokens=1024,\n",
    "    messages=[{'role':'user','content':'Write an article about the future of AI.'}],\n",
    ") as stream:\n",
    "    for text in stream.text_stream:\n",
    "        print(text, end='', flush=True)"
   ]
  },
  {
   "cell_type": "markdown",
   "id": "e1f3e531",
   "metadata": {},
   "source": [
    "### Tools in Claude3"
   ]
  },
  {
   "cell_type": "code",
   "execution_count": 5,
   "id": "7bbedb3d-212c-49a4-9b1a-3dd29025e9ee",
   "metadata": {},
   "outputs": [
    {
     "name": "stdout",
     "output_type": "stream",
     "text": [
      "To get the current weather in San Francisco, I can use the get_weather function. Let me fetch that information for you.\n"
     ]
    }
   ],
   "source": [
    "import anthropic\n",
    "\n",
    "client = anthropic.Anthropic()\n",
    "\n",
    "response = client.messages.create(\n",
    "    model=\"claude-3-5-sonnet-20240620\",\n",
    "    max_tokens=1024,\n",
    "    tools=[\n",
    "        {\n",
    "            \"name\": \"get_weather\",\n",
    "            \"description\": \"Get the current weather in a given location\",\n",
    "            \"input_schema\": {\n",
    "                \"type\": \"object\",\n",
    "                \"properties\": {\n",
    "                    \"location\": {\n",
    "                        \"type\": \"string\",\n",
    "                        \"description\": \"The city and state, e.g. San Francisco, CA\",\n",
    "                    }\n",
    "                },\n",
    "                \"required\": [\"location\"],\n",
    "            },\n",
    "        }\n",
    "    ],\n",
    "    messages=[{\"role\": \"user\", \"content\": \"What's the weather like in San Francisco?\"}],\n",
    ")\n",
    "print(response.content[0].text)"
   ]
  },
  {
   "cell_type": "markdown",
   "id": "8d7aea17",
   "metadata": {},
   "source": [
    "### Simple Tool"
   ]
  },
  {
   "cell_type": "code",
   "execution_count": 6,
   "id": "18e73651-cd86-4053-9528-5ea1da7003b6",
   "metadata": {},
   "outputs": [
    {
     "name": "stdout",
     "output_type": "stream",
     "text": [
      "18537750266060\n"
     ]
    }
   ],
   "source": [
    "from anthropic import Anthropic\n",
    "client = Anthropic()\n",
    "\n",
    "# A relatively simple math problem\n",
    "response = client.messages.create(\n",
    "    model=\"claude-3-5-sonnet-20240620\",\n",
    "    messages=[\n",
    "        {\n",
    "            'role':'user',\n",
    "            'content':\"Multiply 1984135 by 9343116. Only repond with the result.\"\n",
    "        }\n",
    "    ],\n",
    "    max_tokens=400\n",
    ")\n",
    "\n",
    "print(response.content[0].text)"
   ]
  },
  {
   "cell_type": "code",
   "execution_count": 7,
   "id": "a90d4e7b-3ae9-41e5-88bd-fe6ae2922195",
   "metadata": {},
   "outputs": [],
   "source": [
    "# Define the calculator function\n",
    "def calculator(operation, operand1, operand2):\n",
    "    if operation == \"add\":\n",
    "        return operand1 + operand2\n",
    "    elif operation == \"subtract\":\n",
    "        return operand1 - operand2\n",
    "    elif operation == \"multiply\":\n",
    "        return operand1 * operand2\n",
    "    elif operation == \"divide\":\n",
    "        if operand2 == 0:\n",
    "            raise ValueError(\"Cannot divide by zero.\")\n",
    "        return operand1 / operand2\n",
    "    else:\n",
    "        raise ValueError(f\"Unsupported operation: {operation}\")"
   ]
  },
  {
   "cell_type": "code",
   "execution_count": 8,
   "id": "029d0807-24d6-4e9e-af83-e051256d7e85",
   "metadata": {},
   "outputs": [
    {
     "data": {
      "text/plain": [
       "13"
      ]
     },
     "execution_count": 8,
     "metadata": {},
     "output_type": "execute_result"
    }
   ],
   "source": [
    "calculator (\"add\", 10 ,3 )"
   ]
  },
  {
   "cell_type": "code",
   "execution_count": 12,
   "id": "3f4b8e96-84fe-4e63-9a7f-4d79057cbf60",
   "metadata": {},
   "outputs": [
    {
     "data": {
      "text/plain": [
       "{'name': 'send_email',\n",
       " 'description': 'Sends an email ot the specified receipient with the given subject and body.',\n",
       " 'input_schema': {'type': 'object',\n",
       "  'properties': {'to': {'type': 'string',\n",
       "    'description': 'The email address of the recipient'},\n",
       "   'subject': {'type': 'string',\n",
       "    'description': 'The subject line of the email'},\n",
       "   'body': {'type': 'string',\n",
       "    'description': 'The content of the email message'}},\n",
       "  'required': ['to', 'subject', 'body']}}"
      ]
     },
     "execution_count": 12,
     "metadata": {},
     "output_type": "execute_result"
    }
   ],
   "source": [
    "# Define the tool for the Send Email\n",
    "{\n",
    "    \"name\":\"send_email\",\n",
    "    \"description\":\"Sends an email ot the specified receipient with the given subject and body.\",\n",
    "    \"input_schema\":{\n",
    "        \"type\":\"object\",\n",
    "        \"properties\":{\n",
    "            \"to\":{\n",
    "                \"type\":\"string\",\n",
    "                \"description\":\"The email address of the recipient\"\n",
    "            },\n",
    "            \"subject\":{\n",
    "                \"type\":\"string\",\n",
    "                \"description\":\"The subject line of the email\"\n",
    "            },\n",
    "            \"body\":{\n",
    "                \"type\":\"string\",\n",
    "                \"description\":\"The content of the email message\"\n",
    "            }\n",
    "        },\n",
    "        \"required\":[\"to\",\"subject\",\"body\"]\n",
    "    }\n",
    "}"
   ]
  },
  {
   "cell_type": "code",
   "execution_count": 13,
   "id": "58c14651-2415-4e5e-87db-3076f9c11665",
   "metadata": {},
   "outputs": [
    {
     "data": {
      "text/plain": [
       "{'name': 'search_product',\n",
       " 'description': 'Search for a product name or keyword and return its current price and availability.',\n",
       " 'input_schema': {'type': 'object',\n",
       "  'properties': {'query': {'type': 'string',\n",
       "    'description': \"The product name or search keyword, e.g. 'iPhone13 Pro' or 'wireless headphones'\"},\n",
       "   'category': {'type': 'string',\n",
       "    'enum': ['electronics', 'clothing', 'home', 'toys', 'sports'],\n",
       "    'description': 'The product category to narrow down the search results'},\n",
       "   'max_price': {'type': 'number',\n",
       "    'description': 'The maximum price of the product, used to filter the search results'}},\n",
       "  'required': ['query']}}"
      ]
     },
     "execution_count": 13,
     "metadata": {},
     "output_type": "execute_result"
    }
   ],
   "source": [
    "# Define the tool for product's search\n",
    "{\n",
    "    \"name\":\"search_product\",\n",
    "    \"description\":\"Search for a product name or keyword and return its current price and availability.\",\n",
    "    \"input_schema\":{\n",
    "        \"type\":\"object\",\n",
    "        \"properties\":{\n",
    "            \"query\":{\n",
    "                \"type\":\"string\",\n",
    "                \"description\":\"The product name or search keyword, e.g. 'iPhone13 Pro' or 'wireless headphones'\"\n",
    "            },\n",
    "            \"category\":{\n",
    "                \"type\":\"string\",\n",
    "                \"enum\":[\"electronics\",\"clothing\",\"home\", \"toys\",\"sports\"],\n",
    "                \"description\":\"The product category to narrow down the search results\"\n",
    "            },\n",
    "            \"max_price\":{\n",
    "                \"type\":\"number\",\n",
    "                \"description\":\"The maximum price of the product, used to filter the search results\"\n",
    "            }\n",
    "        },\n",
    "        \"required\":[\"query\"]\n",
    "    }\n",
    "}"
   ]
  },
  {
   "cell_type": "code",
   "execution_count": 14,
   "id": "d05bbb0c-b625-4cf5-9c72-a8dabd020bec",
   "metadata": {},
   "outputs": [],
   "source": [
    "# define the tool for the calculator function\n",
    "caclulator_tool = {\n",
    "    \"name\":\"calculator\",\n",
    "    \"description\":\"A simple calculator that performs basic arithmetic operations.\",\n",
    "    \"input_schema\":{\n",
    "        \"type\":\"object\",\n",
    "        \"properties\":{\n",
    "            \"operation\":{\n",
    "                \"type\":\"string\",\n",
    "                \"enum\":[\"add\",\"subtract\",\"multiply\",\"divide\"],\n",
    "                \"description\":\"The arithmetic operation to perform.\"\n",
    "            },\n",
    "            \"operand1\":{\n",
    "                \"type\":\"number\",\n",
    "                \"description\":\"The first operand.\"\n",
    "            },\n",
    "            \"operand2\":{\n",
    "                \"type\":\"number\",\n",
    "                \"description\":\"The second operand.\"\n",
    "            }\n",
    "        },\n",
    "        \"required\":[\"operation\",\"operand1\",\"operand2\"]\n",
    "    }\n",
    "}"
   ]
  },
  {
   "cell_type": "code",
   "execution_count": null,
   "id": "8747c1e0-5f4f-41d6-b781-c04c6b9f45ee",
   "metadata": {},
   "outputs": [],
   "source": []
  },
  {
   "cell_type": "code",
   "execution_count": null,
   "id": "e5fcdb05-20ed-473f-bd95-324c05e58ac8",
   "metadata": {},
   "outputs": [],
   "source": []
  },
  {
   "cell_type": "code",
   "execution_count": null,
   "id": "6466b82c-8308-4486-94c0-80768b1358ad",
   "metadata": {},
   "outputs": [],
   "source": []
  },
  {
   "cell_type": "code",
   "execution_count": null,
   "id": "31bc81f8-7737-456c-be06-5796e39c9bc2",
   "metadata": {},
   "outputs": [],
   "source": []
  },
  {
   "cell_type": "code",
   "execution_count": null,
   "id": "44990419-95a0-4622-9df5-990924335d14",
   "metadata": {},
   "outputs": [],
   "source": []
  },
  {
   "cell_type": "code",
   "execution_count": null,
   "id": "03100192-dc2a-4d74-afa5-271fe7d6efc1",
   "metadata": {},
   "outputs": [],
   "source": []
  },
  {
   "cell_type": "code",
   "execution_count": null,
   "id": "12470029-a252-4823-9349-8033b7adeb6e",
   "metadata": {},
   "outputs": [],
   "source": []
  },
  {
   "cell_type": "code",
   "execution_count": null,
   "id": "11a3b5bc-e675-4bf5-87e6-e332b58f617b",
   "metadata": {},
   "outputs": [],
   "source": []
  },
  {
   "cell_type": "code",
   "execution_count": null,
   "id": "a2e809b6-fa45-4c6c-b6ef-4ffb5ca0eee6",
   "metadata": {},
   "outputs": [],
   "source": []
  },
  {
   "cell_type": "code",
   "execution_count": null,
   "id": "07391bb5-822c-41a7-9005-f43063016eaa",
   "metadata": {},
   "outputs": [],
   "source": []
  }
 ],
 "metadata": {
  "kernelspec": {
   "display_name": "Python 3 (ipykernel)",
   "language": "python",
   "name": "python3"
  },
  "language_info": {
   "codemirror_mode": {
    "name": "ipython",
    "version": 3
   },
   "file_extension": ".py",
   "mimetype": "text/x-python",
   "name": "python",
   "nbconvert_exporter": "python",
   "pygments_lexer": "ipython3",
   "version": "3.11.5"
  }
 },
 "nbformat": 4,
 "nbformat_minor": 5
}
